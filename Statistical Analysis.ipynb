{
 "cells": [
  {
   "cell_type": "markdown",
   "metadata": {},
   "source": [
    "### Imports and Definitions"
   ]
  },
  {
   "cell_type": "code",
   "execution_count": 282,
   "metadata": {
    "scrolled": true
   },
   "outputs": [
    {
     "name": "stdout",
     "output_type": "stream",
     "text": [
      "The autoreload extension is already loaded. To reload it, use:\n",
      "  %reload_ext autoreload\n"
     ]
    }
   ],
   "source": [
    "from functions import *\n",
    "from SQL_functions import *\n",
    "from stats_forumulas import *\n",
    "import config\n",
    "import matplotlib.pyplot as plt\n",
    "import seaborn as sns\n",
    "import mysql.connector\n",
    "from mysql.connector import errorcode\n",
    "import math\n",
    "import pandas as pd\n",
    "import matplotlib.pyplot as plt\n",
    "import numpy as np\n",
    "import scipy.stats as stats\n",
    "%matplotlib inline\n",
    "%load_ext autoreload\n",
    "%reload_ext autoreload\n",
    "%autoreload 2"
   ]
  },
  {
   "cell_type": "markdown",
   "metadata": {},
   "source": [
    "## Do abortion laws influence how many women end up working in tech?\n",
    "\n",
    "We have two measures of \"women working in tech\":\n",
    " - Prevalence of women in tech (percentage of tech industry workers who are women)\n",
    " - Percentage difference of prevalence of women in tech versus prevalence of women in workforce overall\n",
    " \n",
    "Let's try each of these and see the result."
   ]
  },
  {
   "cell_type": "markdown",
   "metadata": {},
   "source": [
    "#### Influence of Abortion: Using Prevalence of Women in Tech"
   ]
  },
  {
   "cell_type": "markdown",
   "metadata": {},
   "source": [
    "**Hypothesis:** if we group countries by their abortion laws, we should find the one of these groups has a statistically significant difference in the prevalence of women in tech."
   ]
  },
  {
   "cell_type": "code",
   "execution_count": 168,
   "metadata": {
    "scrolled": true
   },
   "outputs": [],
   "source": [
    "# Let's grab relevant data from the AWS MySQL database,\n",
    "# and put it into a pandas DataFrame for analysis.\n",
    "\n",
    "query1 = get_attributes_query(('value', 'laws'), 'abortion_info',\n",
    "                              ('percent_women_in_tech', 'prevalence_of_women_in_tech'))\n",
    "df1 = get_data(query1)"
   ]
  },
  {
   "cell_type": "code",
   "execution_count": 169,
   "metadata": {
    "scrolled": false
   },
   "outputs": [
    {
     "data": {
      "text/html": [
       "<div>\n",
       "<style scoped>\n",
       "    .dataframe tbody tr th:only-of-type {\n",
       "        vertical-align: middle;\n",
       "    }\n",
       "\n",
       "    .dataframe tbody tr th {\n",
       "        vertical-align: top;\n",
       "    }\n",
       "\n",
       "    .dataframe thead th {\n",
       "        text-align: right;\n",
       "    }\n",
       "</style>\n",
       "<table border=\"1\" class=\"dataframe\">\n",
       "  <thead>\n",
       "    <tr style=\"text-align: right;\">\n",
       "      <th></th>\n",
       "      <th>country</th>\n",
       "      <th>laws</th>\n",
       "      <th>prevalence_of_women_in_tech</th>\n",
       "    </tr>\n",
       "  </thead>\n",
       "  <tbody>\n",
       "    <tr>\n",
       "      <th>38</th>\n",
       "      <td>Turkey</td>\n",
       "      <td>7</td>\n",
       "      <td>9.91</td>\n",
       "    </tr>\n",
       "    <tr>\n",
       "      <th>24</th>\n",
       "      <td>Luxembourg</td>\n",
       "      <td>6</td>\n",
       "      <td>13.89</td>\n",
       "    </tr>\n",
       "    <tr>\n",
       "      <th>33</th>\n",
       "      <td>Slovakia</td>\n",
       "      <td>7</td>\n",
       "      <td>9.29</td>\n",
       "    </tr>\n",
       "    <tr>\n",
       "      <th>16</th>\n",
       "      <td>Iceland</td>\n",
       "      <td>6</td>\n",
       "      <td>22.08</td>\n",
       "    </tr>\n",
       "    <tr>\n",
       "      <th>1</th>\n",
       "      <td>Austria</td>\n",
       "      <td>7</td>\n",
       "      <td>17.19</td>\n",
       "    </tr>\n",
       "  </tbody>\n",
       "</table>\n",
       "</div>"
      ],
      "text/plain": [
       "       country  laws  prevalence_of_women_in_tech\n",
       "38      Turkey     7                         9.91\n",
       "24  Luxembourg     6                        13.89\n",
       "33    Slovakia     7                         9.29\n",
       "16     Iceland     6                        22.08\n",
       "1      Austria     7                        17.19"
      ]
     },
     "execution_count": 169,
     "metadata": {},
     "output_type": "execute_result"
    }
   ],
   "source": [
    "# Let's take a peek at our data\n",
    "\n",
    "df1.sample(5)"
   ]
  },
  {
   "cell_type": "markdown",
   "metadata": {},
   "source": [
    "Now let's run an ANOVA test with $\\alpha = 0.05$\n",
    "\n",
    "We are grouping by the country's abortion laws (1 = strict, 7 = lenient). \n",
    "\n",
    "These are reflected in categories, as defined by UN Data. "
   ]
  },
  {
   "cell_type": "markdown",
   "metadata": {},
   "source": [
    "We are trying to see if there is a significant difference in\n",
    "prevalence of women in tech among these groups."
   ]
  },
  {
   "cell_type": "code",
   "execution_count": 183,
   "metadata": {
    "scrolled": false
   },
   "outputs": [
    {
     "data": {
      "text/html": [
       "<div>\n",
       "<style scoped>\n",
       "    .dataframe tbody tr th:only-of-type {\n",
       "        vertical-align: middle;\n",
       "    }\n",
       "\n",
       "    .dataframe tbody tr th {\n",
       "        vertical-align: top;\n",
       "    }\n",
       "\n",
       "    .dataframe thead th {\n",
       "        text-align: right;\n",
       "    }\n",
       "</style>\n",
       "<table border=\"1\" class=\"dataframe\">\n",
       "  <thead>\n",
       "    <tr style=\"text-align: right;\">\n",
       "      <th></th>\n",
       "      <th>sum_sq</th>\n",
       "      <th>df</th>\n",
       "      <th>F</th>\n",
       "      <th>PR(&gt;F)</th>\n",
       "    </tr>\n",
       "  </thead>\n",
       "  <tbody>\n",
       "    <tr>\n",
       "      <th>C(laws)</th>\n",
       "      <td>68.655040</td>\n",
       "      <td>4.0</td>\n",
       "      <td>0.62966</td>\n",
       "      <td>0.644498</td>\n",
       "    </tr>\n",
       "    <tr>\n",
       "      <th>Residual</th>\n",
       "      <td>981.316408</td>\n",
       "      <td>36.0</td>\n",
       "      <td>NaN</td>\n",
       "      <td>NaN</td>\n",
       "    </tr>\n",
       "  </tbody>\n",
       "</table>\n",
       "</div>"
      ],
      "text/plain": [
       "              sum_sq    df        F    PR(>F)\n",
       "C(laws)    68.655040   4.0  0.62966  0.644498\n",
       "Residual  981.316408  36.0      NaN       NaN"
      ]
     },
     "execution_count": 183,
     "metadata": {},
     "output_type": "execute_result"
    }
   ],
   "source": [
    "anova_table_and_summary(df1, 'prevalence_of_women_in_tech', 'laws')\n"
   ]
  },
  {
   "cell_type": "markdown",
   "metadata": {},
   "source": [
    "We find an F-statistic of 0.6297, corresponding to a p-value of 0.644, which is not enough to reject the null hypothesis with $\\alpha = 0.05$\n",
    "\n",
    "Using the table summary and an external F-table, we also manually confirmed these scores:\n",
    "\n",
    "    F = (68.655040/4)/(981.316408/36) = 0.6296...\n",
    "\n",
    "    p = 1-.356 = 0.644"
   ]
  },
  {
   "cell_type": "markdown",
   "metadata": {},
   "source": [
    "Let's try to get an idea of what the distribution of each group looks like with a box plot:"
   ]
  },
  {
   "cell_type": "code",
   "execution_count": 308,
   "metadata": {
    "scrolled": false
   },
   "outputs": [
    {
     "data": {
      "image/png": "[encoded data removed]",
      "text/plain": [
       "<Figure size 720x432 with 1 Axes>"
      ]
     },
     "metadata": {},
     "output_type": "display_data"
    }
   ],
   "source": [
    "fig, ax = plt.subplots(figsize=(10,6))\n",
    "df1.boxplot('prevalence_of_women_in_tech', by='laws', ax=ax);\n",
    "ax.set_xlabel('Abortion Laws \\n (higher is more liberal)')\n",
    "ax.set_ylabel('Prevalence of Women in Tech')\n",
    "ax.set_title('Prevalence of Women in Tech grouped by Abortion Laws')\n",
    "fig.suptitle(\"\");"
   ]
  },
  {
   "cell_type": "markdown",
   "metadata": {},
   "source": [
    "We can also look at summary statistics."
   ]
  },
  {
   "cell_type": "code",
   "execution_count": 186,
   "metadata": {
    "scrolled": false
   },
   "outputs": [
    {
     "data": {
      "text/html": [
       "<div>\n",
       "<style scoped>\n",
       "    .dataframe tbody tr th:only-of-type {\n",
       "        vertical-align: middle;\n",
       "    }\n",
       "\n",
       "    .dataframe tbody tr th {\n",
       "        vertical-align: top;\n",
       "    }\n",
       "\n",
       "    .dataframe thead tr th {\n",
       "        text-align: left;\n",
       "    }\n",
       "\n",
       "    .dataframe thead tr:last-of-type th {\n",
       "        text-align: right;\n",
       "    }\n",
       "</style>\n",
       "<table border=\"1\" class=\"dataframe\">\n",
       "  <thead>\n",
       "    <tr>\n",
       "      <th></th>\n",
       "      <th colspan=\"8\" halign=\"left\">prevalence_of_women_in_tech</th>\n",
       "    </tr>\n",
       "    <tr>\n",
       "      <th></th>\n",
       "      <th>count</th>\n",
       "      <th>mean</th>\n",
       "      <th>std</th>\n",
       "      <th>min</th>\n",
       "      <th>25%</th>\n",
       "      <th>50%</th>\n",
       "      <th>75%</th>\n",
       "      <th>max</th>\n",
       "    </tr>\n",
       "    <tr>\n",
       "      <th>laws</th>\n",
       "      <th></th>\n",
       "      <th></th>\n",
       "      <th></th>\n",
       "      <th></th>\n",
       "      <th></th>\n",
       "      <th></th>\n",
       "      <th></th>\n",
       "      <th></th>\n",
       "    </tr>\n",
       "  </thead>\n",
       "  <tbody>\n",
       "    <tr>\n",
       "      <th>1</th>\n",
       "      <td>3.0</td>\n",
       "      <td>15.250000</td>\n",
       "      <td>3.847649</td>\n",
       "      <td>11.27</td>\n",
       "      <td>13.4000</td>\n",
       "      <td>15.530</td>\n",
       "      <td>17.2400</td>\n",
       "      <td>18.95</td>\n",
       "    </tr>\n",
       "    <tr>\n",
       "      <th>4</th>\n",
       "      <td>1.0</td>\n",
       "      <td>12.910000</td>\n",
       "      <td>NaN</td>\n",
       "      <td>12.91</td>\n",
       "      <td>12.9100</td>\n",
       "      <td>12.910</td>\n",
       "      <td>12.9100</td>\n",
       "      <td>12.91</td>\n",
       "    </tr>\n",
       "    <tr>\n",
       "      <th>5</th>\n",
       "      <td>6.0</td>\n",
       "      <td>15.981667</td>\n",
       "      <td>3.132905</td>\n",
       "      <td>11.00</td>\n",
       "      <td>14.8775</td>\n",
       "      <td>16.105</td>\n",
       "      <td>17.4975</td>\n",
       "      <td>20.25</td>\n",
       "    </tr>\n",
       "    <tr>\n",
       "      <th>6</th>\n",
       "      <td>3.0</td>\n",
       "      <td>19.300000</td>\n",
       "      <td>4.685798</td>\n",
       "      <td>13.89</td>\n",
       "      <td>17.9100</td>\n",
       "      <td>21.930</td>\n",
       "      <td>22.0050</td>\n",
       "      <td>22.08</td>\n",
       "    </tr>\n",
       "    <tr>\n",
       "      <th>7</th>\n",
       "      <td>28.0</td>\n",
       "      <td>18.062500</td>\n",
       "      <td>5.639539</td>\n",
       "      <td>9.29</td>\n",
       "      <td>14.1800</td>\n",
       "      <td>16.885</td>\n",
       "      <td>21.7675</td>\n",
       "      <td>30.28</td>\n",
       "    </tr>\n",
       "  </tbody>\n",
       "</table>\n",
       "</div>"
      ],
      "text/plain": [
       "     prevalence_of_women_in_tech                                               \\\n",
       "                           count       mean       std    min      25%     50%   \n",
       "laws                                                                            \n",
       "1                            3.0  15.250000  3.847649  11.27  13.4000  15.530   \n",
       "4                            1.0  12.910000       NaN  12.91  12.9100  12.910   \n",
       "5                            6.0  15.981667  3.132905  11.00  14.8775  16.105   \n",
       "6                            3.0  19.300000  4.685798  13.89  17.9100  21.930   \n",
       "7                           28.0  18.062500  5.639539   9.29  14.1800  16.885   \n",
       "\n",
       "                      \n",
       "          75%    max  \n",
       "laws                  \n",
       "1     17.2400  18.95  \n",
       "4     12.9100  12.91  \n",
       "5     17.4975  20.25  \n",
       "6     22.0050  22.08  \n",
       "7     21.7675  30.28  "
      ]
     },
     "execution_count": 186,
     "metadata": {},
     "output_type": "execute_result"
    }
   ],
   "source": [
    "df1.groupby('laws').describe()"
   ]
  },
  {
   "cell_type": "markdown",
   "metadata": {},
   "source": [
    " Notice that we have very few countries who are not in category 7 (most lenient). This may be hurting our chances of finding a statistically significant result. That being said, the means among groups do not seem to differ greatly."
   ]
  },
  {
   "cell_type": "markdown",
   "metadata": {},
   "source": [
    "#### Influence of Abortion on the \"Tech Prevalence Gap\" for Women:\n",
    "Measuring the Difference Between the Prevalence of Women in Tech and \n",
    "\n",
    "the Prevalence of Women in the Overall Workforce \n",
    "\n",
    "(both measured as percentages)"
   ]
  },
  {
   "cell_type": "markdown",
   "metadata": {},
   "source": [
    "**Hypothesis:** If we group countries by their abortion laws, we should find that one of these groups has a statistically significant difference in their tech prevalence gap for women."
   ]
  },
  {
   "cell_type": "code",
   "execution_count": 188,
   "metadata": {
    "scrolled": true
   },
   "outputs": [],
   "source": [
    "# Let's grab relevant data from the AWS MySQL database,\n",
    "# and put it into a pandas DataFrame for analysis.\n",
    "\n",
    "query2 = get_attributes_query(('value', 'laws'), 'abortion_info',\n",
    "                              ('percent_difference_of_women_in_workforce_and_women_in_tech', 'tech_prevalence_gap'))\n",
    "\n",
    "df2 = get_data(query2)"
   ]
  },
  {
   "cell_type": "code",
   "execution_count": 189,
   "metadata": {
    "scrolled": true
   },
   "outputs": [
    {
     "data": {
      "text/html": [
       "<div>\n",
       "<style scoped>\n",
       "    .dataframe tbody tr th:only-of-type {\n",
       "        vertical-align: middle;\n",
       "    }\n",
       "\n",
       "    .dataframe tbody tr th {\n",
       "        vertical-align: top;\n",
       "    }\n",
       "\n",
       "    .dataframe thead th {\n",
       "        text-align: right;\n",
       "    }\n",
       "</style>\n",
       "<table border=\"1\" class=\"dataframe\">\n",
       "  <thead>\n",
       "    <tr style=\"text-align: right;\">\n",
       "      <th></th>\n",
       "      <th>country</th>\n",
       "      <th>laws</th>\n",
       "      <th>tech_prevalence_gap</th>\n",
       "    </tr>\n",
       "  </thead>\n",
       "  <tbody>\n",
       "    <tr>\n",
       "      <th>1</th>\n",
       "      <td>Austria</td>\n",
       "      <td>7</td>\n",
       "      <td>-29.63</td>\n",
       "    </tr>\n",
       "    <tr>\n",
       "      <th>3</th>\n",
       "      <td>Bulgaria</td>\n",
       "      <td>7</td>\n",
       "      <td>-16.63</td>\n",
       "    </tr>\n",
       "    <tr>\n",
       "      <th>15</th>\n",
       "      <td>Hungary</td>\n",
       "      <td>7</td>\n",
       "      <td>-32.61</td>\n",
       "    </tr>\n",
       "    <tr>\n",
       "      <th>10</th>\n",
       "      <td>Estonia</td>\n",
       "      <td>7</td>\n",
       "      <td>-29.77</td>\n",
       "    </tr>\n",
       "    <tr>\n",
       "      <th>19</th>\n",
       "      <td>Italy</td>\n",
       "      <td>7</td>\n",
       "      <td>-28.16</td>\n",
       "    </tr>\n",
       "  </tbody>\n",
       "</table>\n",
       "</div>"
      ],
      "text/plain": [
       "     country  laws  tech_prevalence_gap\n",
       "1    Austria     7               -29.63\n",
       "3   Bulgaria     7               -16.63\n",
       "15   Hungary     7               -32.61\n",
       "10   Estonia     7               -29.77\n",
       "19     Italy     7               -28.16"
      ]
     },
     "execution_count": 189,
     "metadata": {},
     "output_type": "execute_result"
    }
   ],
   "source": [
    "# Let's take a peek at our data\n",
    "df2.sample(5)"
   ]
  },
  {
   "cell_type": "markdown",
   "metadata": {},
   "source": [
    "Now let's run an ANOVA test with $\\alpha = 0.05$\n",
    "\n",
    "We are grouping by abortion laws (1 = strict, 7 = lenient), and trying to see if there is a significant difference in the tech prevalence gap for women."
   ]
  },
  {
   "cell_type": "code",
   "execution_count": 191,
   "metadata": {
    "scrolled": true
   },
   "outputs": [
    {
     "data": {
      "text/html": [
       "<div>\n",
       "<style scoped>\n",
       "    .dataframe tbody tr th:only-of-type {\n",
       "        vertical-align: middle;\n",
       "    }\n",
       "\n",
       "    .dataframe tbody tr th {\n",
       "        vertical-align: top;\n",
       "    }\n",
       "\n",
       "    .dataframe thead th {\n",
       "        text-align: right;\n",
       "    }\n",
       "</style>\n",
       "<table border=\"1\" class=\"dataframe\">\n",
       "  <thead>\n",
       "    <tr style=\"text-align: right;\">\n",
       "      <th></th>\n",
       "      <th>sum_sq</th>\n",
       "      <th>df</th>\n",
       "      <th>F</th>\n",
       "      <th>PR(&gt;F)</th>\n",
       "    </tr>\n",
       "  </thead>\n",
       "  <tbody>\n",
       "    <tr>\n",
       "      <th>C(laws)</th>\n",
       "      <td>44.331711</td>\n",
       "      <td>4.0</td>\n",
       "      <td>0.496033</td>\n",
       "      <td>0.738689</td>\n",
       "    </tr>\n",
       "    <tr>\n",
       "      <th>Residual</th>\n",
       "      <td>804.352211</td>\n",
       "      <td>36.0</td>\n",
       "      <td>NaN</td>\n",
       "      <td>NaN</td>\n",
       "    </tr>\n",
       "  </tbody>\n",
       "</table>\n",
       "</div>"
      ],
      "text/plain": [
       "              sum_sq    df         F    PR(>F)\n",
       "C(laws)    44.331711   4.0  0.496033  0.738689\n",
       "Residual  804.352211  36.0       NaN       NaN"
      ]
     },
     "execution_count": 191,
     "metadata": {},
     "output_type": "execute_result"
    }
   ],
   "source": [
    "anova_table_and_summary(df2, 'tech_prevalence_gap', 'laws')"
   ]
  },
  {
   "cell_type": "markdown",
   "metadata": {},
   "source": [
    "We find an F-statistic of 0.496, corresponding to a p-value of 0.73, which is not enough to reject the null hypothesis with $\\alpha = 0.05$\n",
    "\n",
    "Let's try to get an idea of what the distribution of each group looks like with a box plot:"
   ]
  },
  {
   "cell_type": "code",
   "execution_count": 283,
   "metadata": {
    "scrolled": false
   },
   "outputs": [
    {
     "data": {
      "image/png": "[encoded data removed]",
      "text/plain": [
       "<Figure size 504x360 with 1 Axes>"
      ]
     },
     "metadata": {
      "needs_background": "light"
     },
     "output_type": "display_data"
    }
   ],
   "source": [
    "fig, ax = plt.subplots(figsize=(7,5))\n",
    "df2.boxplot('tech_prevalence_gap', by='laws', ax=ax);\n",
    "ax.set_xlabel('Abortion Laws \\n (higher is more liberal)')\n",
    "ax.set_ylabel('Tech Prevalence Gap for Women')\n",
    "ax.set_title('Tech Prevalence Gap for Women \\n (Grouped By Abortion Laws)')\n",
    "fig.suptitle(\"\");"
   ]
  },
  {
   "cell_type": "markdown",
   "metadata": {},
   "source": [
    "Again, there is no clear pattern here."
   ]
  },
  {
   "cell_type": "markdown",
   "metadata": {},
   "source": [
    "## Let's redo those same tests, but this time with fewer categories (just to see what happens)\n",
    "\n",
    "We might think that perhaps the fact that many categories only have a handful of data points may have hurt the ability of our ANOVA to reach statistical significance. \n",
    "\n",
    "Let's examine both of these findings, but now grouping the laws into two categories that are split by the mode of observations, and ordered by their lenience."
   ]
  },
  {
   "cell_type": "markdown",
   "metadata": {},
   "source": [
    "### Prevalence of Women in Tech"
   ]
  },
  {
   "cell_type": "code",
   "execution_count": 226,
   "metadata": {
    "scrolled": true
   },
   "outputs": [],
   "source": [
    "# Create new data frame with re-categorized data for the abortion laws\n",
    "\n",
    "df1_recat = df1.copy(deep=True)\n",
    "df1_recat['laws'] = df1_recat['laws'].apply(lambda x: 1 if x > 6 else 0)"
   ]
  },
  {
   "cell_type": "code",
   "execution_count": 284,
   "metadata": {
    "scrolled": true
   },
   "outputs": [
    {
     "data": {
      "image/png": "[encoded data removed]",
      "text/plain": [
       "<Figure size 720x432 with 1 Axes>"
      ]
     },
     "metadata": {
      "needs_background": "light"
     },
     "output_type": "display_data"
    }
   ],
   "source": [
    "# View boxplot of findings\n",
    "\n",
    "fig, ax = plt.subplots(figsize=(10,6))\n",
    "df1_recat.boxplot('prevalence_of_women_in_tech', by='laws', ax=ax);\n",
    "ax.set_xlabel('Abortion Laws \\n (higher is more liberal)')\n",
    "ax.set_ylabel('Prevalence of Women in Tech')\n",
    "ax.set_title('Prevalence of Women in Tech \\n (Grouped By Abortion Laws)')\n",
    "fig.suptitle(\"\");"
   ]
  },
  {
   "cell_type": "code",
   "execution_count": 231,
   "metadata": {
    "scrolled": true
   },
   "outputs": [
    {
     "data": {
      "text/html": [
       "<div>\n",
       "<style scoped>\n",
       "    .dataframe tbody tr th:only-of-type {\n",
       "        vertical-align: middle;\n",
       "    }\n",
       "\n",
       "    .dataframe tbody tr th {\n",
       "        vertical-align: top;\n",
       "    }\n",
       "\n",
       "    .dataframe thead th {\n",
       "        text-align: right;\n",
       "    }\n",
       "</style>\n",
       "<table border=\"1\" class=\"dataframe\">\n",
       "  <thead>\n",
       "    <tr style=\"text-align: right;\">\n",
       "      <th></th>\n",
       "      <th>sum_sq</th>\n",
       "      <th>df</th>\n",
       "      <th>F</th>\n",
       "      <th>PR(&gt;F)</th>\n",
       "    </tr>\n",
       "  </thead>\n",
       "  <tbody>\n",
       "    <tr>\n",
       "      <th>C(laws)</th>\n",
       "      <td>26.270693</td>\n",
       "      <td>1.0</td>\n",
       "      <td>1.000836</td>\n",
       "      <td>0.323275</td>\n",
       "    </tr>\n",
       "    <tr>\n",
       "      <th>Residual</th>\n",
       "      <td>1023.700756</td>\n",
       "      <td>39.0</td>\n",
       "      <td>NaN</td>\n",
       "      <td>NaN</td>\n",
       "    </tr>\n",
       "  </tbody>\n",
       "</table>\n",
       "</div>"
      ],
      "text/plain": [
       "               sum_sq    df         F    PR(>F)\n",
       "C(laws)     26.270693   1.0  1.000836  0.323275\n",
       "Residual  1023.700756  39.0       NaN       NaN"
      ]
     },
     "execution_count": 231,
     "metadata": {},
     "output_type": "execute_result"
    }
   ],
   "source": [
    "# Now let's run the ANOVA test to make sure our findings are consistent\n",
    "\n",
    "anova_table_and_summary(df1_recat, 'prevalence_of_women_in_tech', 'laws')"
   ]
  },
  {
   "cell_type": "markdown",
   "metadata": {},
   "source": [
    "Here we find an F-statistic of 1.001, corresponding to a p-value of 0.32, which is not enough to reject the null hypothesis with $\\alpha = 0.05$, again failing to reject the null for prevalence of women in tech."
   ]
  },
  {
   "cell_type": "markdown",
   "metadata": {},
   "source": [
    "### Tech Prevalence Gap for Women"
   ]
  },
  {
   "cell_type": "code",
   "execution_count": 228,
   "metadata": {
    "scrolled": true
   },
   "outputs": [],
   "source": [
    "# Create new data frame with re-categorized data for the abortion laws\n",
    "\n",
    "df2_recat = df2.copy(deep=True)\n",
    "df2_recat['laws'] = df2_recat['laws'].apply(lambda x: 1 if x > 6 else 0)"
   ]
  },
  {
   "cell_type": "code",
   "execution_count": 229,
   "metadata": {
    "scrolled": true
   },
   "outputs": [
    {
     "data": {
      "image/png": "[encoded data removed]",
      "text/plain": [
       "<Figure size 720x432 with 1 Axes>"
      ]
     },
     "metadata": {},
     "output_type": "display_data"
    }
   ],
   "source": [
    "# Let's look at the boxplot\n",
    "\n",
    "fig, ax = plt.subplots(figsize=(10,6))\n",
    "df2_recat.boxplot('tech_prevalence_gap', by='laws', ax=ax);\n",
    "ax.set_xlabel('Abortion Laws \\n (higher is more liberal)')\n",
    "ax.set_ylabel('Tech Prevalence Gap for Women')\n",
    "ax.set_title('Tech Prevalence Gap for Women \\n (Grouped By Abortion Laws)')\n",
    "fig.suptitle(\"\");"
   ]
  },
  {
   "cell_type": "code",
   "execution_count": 230,
   "metadata": {
    "scrolled": false
   },
   "outputs": [
    {
     "data": {
      "text/html": [
       "<div>\n",
       "<style scoped>\n",
       "    .dataframe tbody tr th:only-of-type {\n",
       "        vertical-align: middle;\n",
       "    }\n",
       "\n",
       "    .dataframe tbody tr th {\n",
       "        vertical-align: top;\n",
       "    }\n",
       "\n",
       "    .dataframe thead th {\n",
       "        text-align: right;\n",
       "    }\n",
       "</style>\n",
       "<table border=\"1\" class=\"dataframe\">\n",
       "  <thead>\n",
       "    <tr style=\"text-align: right;\">\n",
       "      <th></th>\n",
       "      <th>sum_sq</th>\n",
       "      <th>df</th>\n",
       "      <th>F</th>\n",
       "      <th>PR(&gt;F)</th>\n",
       "    </tr>\n",
       "  </thead>\n",
       "  <tbody>\n",
       "    <tr>\n",
       "      <th>C(laws)</th>\n",
       "      <td>8.853188</td>\n",
       "      <td>1.0</td>\n",
       "      <td>0.411124</td>\n",
       "      <td>0.52515</td>\n",
       "    </tr>\n",
       "    <tr>\n",
       "      <th>Residual</th>\n",
       "      <td>839.830734</td>\n",
       "      <td>39.0</td>\n",
       "      <td>NaN</td>\n",
       "      <td>NaN</td>\n",
       "    </tr>\n",
       "  </tbody>\n",
       "</table>\n",
       "</div>"
      ],
      "text/plain": [
       "              sum_sq    df         F   PR(>F)\n",
       "C(laws)     8.853188   1.0  0.411124  0.52515\n",
       "Residual  839.830734  39.0       NaN      NaN"
      ]
     },
     "execution_count": 230,
     "metadata": {},
     "output_type": "execute_result"
    }
   ],
   "source": [
    "# Now let's run the ANOVA test to make sure our findings are consistent\n",
    "\n",
    "anova_table_and_summary(df2_recat, 'tech_prevalence_gap', 'laws')"
   ]
  },
  {
   "cell_type": "markdown",
   "metadata": {},
   "source": [
    "Here we find an F-statistic of 0.411, corresponding to a p-value of 0.52, which is not enough to reject the null hypothesis with $\\alpha = 0.05$, again failing to reject the null for tech prevalence gap for women."
   ]
  },
  {
   "cell_type": "markdown",
   "metadata": {},
   "source": [
    "**Still no significant differences!**"
   ]
  },
  {
   "cell_type": "markdown",
   "metadata": {},
   "source": [
    "## Attempting to replicate a study (with restricted countries):\n",
    "Study found here: https://www.theatlantic.com/science/archive/2018/02/the-more-gender-equality-the-fewer-women-in-stem/553592/ "
   ]
  },
  {
   "cell_type": "markdown",
   "metadata": {},
   "source": [
    "**Does a higher gender inequality index *increase* the percentage of STEM graduates who are female, as this counter-intuitive study suggests?**\n",
    "\n",
    "We will try to replicate the study using Honeypot data, and restricting to only countries in the EU or OECD"
   ]
  },
  {
   "cell_type": "code",
   "execution_count": 233,
   "metadata": {
    "scrolled": true
   },
   "outputs": [],
   "source": [
    "# First let's grab our gender inequality data.\n",
    "\n",
    "inequality_query = \\\n",
    "    get_attributes_query(('gender_inequality_index', 'gender_inequality_index'), 'women_in_tech',\n",
    "                         ('female_stem_graduates_percentage','female_stem_graduates_percentage'))\n",
    "\n",
    "gend_df = get_data(inequality_query)"
   ]
  },
  {
   "cell_type": "code",
   "execution_count": 310,
   "metadata": {
    "scrolled": true
   },
   "outputs": [
    {
     "data": {
      "text/html": [
       "<div>\n",
       "<style scoped>\n",
       "    .dataframe tbody tr th:only-of-type {\n",
       "        vertical-align: middle;\n",
       "    }\n",
       "\n",
       "    .dataframe tbody tr th {\n",
       "        vertical-align: top;\n",
       "    }\n",
       "\n",
       "    .dataframe thead th {\n",
       "        text-align: right;\n",
       "    }\n",
       "</style>\n",
       "<table border=\"1\" class=\"dataframe\">\n",
       "  <thead>\n",
       "    <tr style=\"text-align: right;\">\n",
       "      <th></th>\n",
       "      <th>country</th>\n",
       "      <th>gender_inequality_index</th>\n",
       "      <th>female_stem_graduates_percentage</th>\n",
       "      <th>gender_inequality_index_cat</th>\n",
       "    </tr>\n",
       "  </thead>\n",
       "  <tbody>\n",
       "    <tr>\n",
       "      <th>30</th>\n",
       "      <td>Poland</td>\n",
       "      <td>0.137</td>\n",
       "      <td>25.93</td>\n",
       "      <td>True</td>\n",
       "    </tr>\n",
       "    <tr>\n",
       "      <th>8</th>\n",
       "      <td>Czech Republic</td>\n",
       "      <td>0.129</td>\n",
       "      <td>23.08</td>\n",
       "      <td>True</td>\n",
       "    </tr>\n",
       "    <tr>\n",
       "      <th>9</th>\n",
       "      <td>Denmark</td>\n",
       "      <td>0.041</td>\n",
       "      <td>28.57</td>\n",
       "      <td>False</td>\n",
       "    </tr>\n",
       "    <tr>\n",
       "      <th>34</th>\n",
       "      <td>Slovenia</td>\n",
       "      <td>0.053</td>\n",
       "      <td>21.88</td>\n",
       "      <td>False</td>\n",
       "    </tr>\n",
       "    <tr>\n",
       "      <th>10</th>\n",
       "      <td>Estonia</td>\n",
       "      <td>0.131</td>\n",
       "      <td>21.26</td>\n",
       "      <td>True</td>\n",
       "    </tr>\n",
       "    <tr>\n",
       "      <th>2</th>\n",
       "      <td>Belgium</td>\n",
       "      <td>0.073</td>\n",
       "      <td>18.03</td>\n",
       "      <td>False</td>\n",
       "    </tr>\n",
       "    <tr>\n",
       "      <th>20</th>\n",
       "      <td>Japan</td>\n",
       "      <td>0.116</td>\n",
       "      <td>15.25</td>\n",
       "      <td>False</td>\n",
       "    </tr>\n",
       "    <tr>\n",
       "      <th>27</th>\n",
       "      <td>Netherlands</td>\n",
       "      <td>0.044</td>\n",
       "      <td>18.70</td>\n",
       "      <td>False</td>\n",
       "    </tr>\n",
       "    <tr>\n",
       "      <th>7</th>\n",
       "      <td>Cyprus</td>\n",
       "      <td>0.116</td>\n",
       "      <td>28.57</td>\n",
       "      <td>False</td>\n",
       "    </tr>\n",
       "    <tr>\n",
       "      <th>40</th>\n",
       "      <td>United States of America</td>\n",
       "      <td>0.203</td>\n",
       "      <td>24.24</td>\n",
       "      <td>True</td>\n",
       "    </tr>\n",
       "    <tr>\n",
       "      <th>39</th>\n",
       "      <td>United Kingdom</td>\n",
       "      <td>0.131</td>\n",
       "      <td>31.03</td>\n",
       "      <td>True</td>\n",
       "    </tr>\n",
       "    <tr>\n",
       "      <th>29</th>\n",
       "      <td>Norway</td>\n",
       "      <td>0.053</td>\n",
       "      <td>19.35</td>\n",
       "      <td>False</td>\n",
       "    </tr>\n",
       "    <tr>\n",
       "      <th>12</th>\n",
       "      <td>France</td>\n",
       "      <td>0.102</td>\n",
       "      <td>25.37</td>\n",
       "      <td>False</td>\n",
       "    </tr>\n",
       "    <tr>\n",
       "      <th>5</th>\n",
       "      <td>Chile</td>\n",
       "      <td>0.322</td>\n",
       "      <td>15.97</td>\n",
       "      <td>True</td>\n",
       "    </tr>\n",
       "    <tr>\n",
       "      <th>33</th>\n",
       "      <td>Slovakia</td>\n",
       "      <td>0.179</td>\n",
       "      <td>24.81</td>\n",
       "      <td>True</td>\n",
       "    </tr>\n",
       "  </tbody>\n",
       "</table>\n",
       "</div>"
      ],
      "text/plain": [
       "                     country  gender_inequality_index  \\\n",
       "30                    Poland                    0.137   \n",
       "8             Czech Republic                    0.129   \n",
       "9                    Denmark                    0.041   \n",
       "34                  Slovenia                    0.053   \n",
       "10                   Estonia                    0.131   \n",
       "2                    Belgium                    0.073   \n",
       "20                     Japan                    0.116   \n",
       "27               Netherlands                    0.044   \n",
       "7                     Cyprus                    0.116   \n",
       "40  United States of America                    0.203   \n",
       "39            United Kingdom                    0.131   \n",
       "29                    Norway                    0.053   \n",
       "12                    France                    0.102   \n",
       "5                      Chile                    0.322   \n",
       "33                  Slovakia                    0.179   \n",
       "\n",
       "    female_stem_graduates_percentage  gender_inequality_index_cat  \n",
       "30                             25.93                         True  \n",
       "8                              23.08                         True  \n",
       "9                              28.57                        False  \n",
       "34                             21.88                        False  \n",
       "10                             21.26                         True  \n",
       "2                              18.03                        False  \n",
       "20                             15.25                        False  \n",
       "27                             18.70                        False  \n",
       "7                              28.57                        False  \n",
       "40                             24.24                         True  \n",
       "39                             31.03                         True  \n",
       "29                             19.35                        False  \n",
       "12                             25.37                        False  \n",
       "5                              15.97                         True  \n",
       "33                             24.81                         True  "
      ]
     },
     "execution_count": 310,
     "metadata": {},
     "output_type": "execute_result"
    }
   ],
   "source": [
    "# Take a peak at the data\n",
    "\n",
    "gend_df.sample(15)"
   ]
  },
  {
   "cell_type": "markdown",
   "metadata": {},
   "source": [
    "We want to take a look at the distribution of the continuous variable \"gender_inequality_index\" (our independent variable) to see what the most sensible way of turning it into categorical data is:"
   ]
  },
  {
   "cell_type": "code",
   "execution_count": 267,
   "metadata": {
    "scrolled": true
   },
   "outputs": [
    {
     "data": {
      "image/png": "[encoded data removed]",
      "text/plain": [
       "<Figure size 1008x432 with 2 Axes>"
      ]
     },
     "metadata": {},
     "output_type": "display_data"
    }
   ],
   "source": [
    "fig, (ax1, ax2) = plt.subplots(1,2, figsize=(14,6))\n",
    "fig.suptitle('Distribution of Gender Inequality Index')\n",
    "gend_df.boxplot('gender_inequality_index', ax = ax1)\n",
    "ax1.set_title('Boxplot');\n",
    "gend_df.hist('gender_inequality_index', bins = 12, ax = ax2);\n",
    "ax2.set_title('Histogram');"
   ]
  },
  {
   "cell_type": "markdown",
   "metadata": {},
   "source": [
    "This is not unimodal, so perhaps our best bet is to divide it into two equal groups, by those above versus below the median value."
   ]
  },
  {
   "cell_type": "code",
   "execution_count": 270,
   "metadata": {
    "scrolled": true
   },
   "outputs": [
    {
     "name": "stdout",
     "output_type": "stream",
     "text": [
      "Median = 0.116\n"
     ]
    }
   ],
   "source": [
    "# Create a new Boolean column for whether the gender inequality index is above the median or not.\n",
    "\n",
    "med = gend_df['gender_inequality_index'].median()\n",
    "\n",
    "gend_df['gender_inequality_index_cat'] = \\\n",
    "    gend_df['gender_inequality_index'].apply(lambda x: True if x > med else False)\n",
    "\n",
    "print(\"Median =\", med)"
   ]
  },
  {
   "cell_type": "code",
   "execution_count": 271,
   "metadata": {
    "scrolled": true
   },
   "outputs": [
    {
     "data": {
      "text/html": [
       "<div>\n",
       "<style scoped>\n",
       "    .dataframe tbody tr th:only-of-type {\n",
       "        vertical-align: middle;\n",
       "    }\n",
       "\n",
       "    .dataframe tbody tr th {\n",
       "        vertical-align: top;\n",
       "    }\n",
       "\n",
       "    .dataframe thead th {\n",
       "        text-align: right;\n",
       "    }\n",
       "</style>\n",
       "<table border=\"1\" class=\"dataframe\">\n",
       "  <thead>\n",
       "    <tr style=\"text-align: right;\">\n",
       "      <th></th>\n",
       "      <th>country</th>\n",
       "      <th>gender_inequality_index</th>\n",
       "      <th>female_stem_graduates_percentage</th>\n",
       "      <th>gender_inequality_index_cat</th>\n",
       "    </tr>\n",
       "  </thead>\n",
       "  <tbody>\n",
       "    <tr>\n",
       "      <th>0</th>\n",
       "      <td>Australia</td>\n",
       "      <td>0.120</td>\n",
       "      <td>23.66</td>\n",
       "      <td>True</td>\n",
       "    </tr>\n",
       "    <tr>\n",
       "      <th>1</th>\n",
       "      <td>Austria</td>\n",
       "      <td>0.078</td>\n",
       "      <td>20.63</td>\n",
       "      <td>False</td>\n",
       "    </tr>\n",
       "    <tr>\n",
       "      <th>2</th>\n",
       "      <td>Belgium</td>\n",
       "      <td>0.073</td>\n",
       "      <td>18.03</td>\n",
       "      <td>False</td>\n",
       "    </tr>\n",
       "  </tbody>\n",
       "</table>\n",
       "</div>"
      ],
      "text/plain": [
       "     country  gender_inequality_index  female_stem_graduates_percentage  \\\n",
       "0  Australia                    0.120                             23.66   \n",
       "1    Austria                    0.078                             20.63   \n",
       "2    Belgium                    0.073                             18.03   \n",
       "\n",
       "   gender_inequality_index_cat  \n",
       "0                         True  \n",
       "1                        False  \n",
       "2                        False  "
      ]
     },
     "execution_count": 271,
     "metadata": {},
     "output_type": "execute_result"
    }
   ],
   "source": [
    "# Take a peak at our new column\n",
    "\n",
    "gend_df.head(3)"
   ]
  },
  {
   "cell_type": "markdown",
   "metadata": {},
   "source": [
    "We're now going to run a two-sample t-test with $\\alpha = 0.05$. \n",
    "\n",
    "We are running a one-tailed test, because we expect that the group with above-median gender inequality index will have a higher percentage of female STEM graduates (as the above study suggests). \n",
    "\n",
    "Our null hypothesis is that the group with above-median gender inquality index will have a lower-or-equal percentage of female STEM graduates."
   ]
  },
  {
   "cell_type": "code",
   "execution_count": 273,
   "metadata": {
    "scrolled": true
   },
   "outputs": [
    {
     "name": "stdout",
     "output_type": "stream",
     "text": [
      "Difference in means : 1.0820714285714281\n"
     ]
    }
   ],
   "source": [
    "# Calculate the difference in means\n",
    "\n",
    "mean_above_median = gend_df[gend_df['gender_inequality_index_cat'] == True]['female_stem_graduates_percentage'].mean()\n",
    "mean_below_median = gend_df[gend_df['gender_inequality_index_cat'] == False]['female_stem_graduates_percentage'].mean()\n",
    "\n",
    "print('Difference in means :' , mean_above_median - mean_below_median)"
   ]
  },
  {
   "cell_type": "markdown",
   "metadata": {},
   "source": [
    "There is a difference of 1.08 in means between the two groups, with the higher-inequality group having higher mean female STEM graduates! But is this difference statistically significant enough to reject the null hypothesis? \n",
    "\n",
    "Let's check by running the t-test!"
   ]
  },
  {
   "cell_type": "code",
   "execution_count": 25,
   "metadata": {
    "scrolled": true
   },
   "outputs": [
    {
     "data": {
      "text/plain": [
       "Ttest_indResult(statistic=-0.6783800154046294, pvalue=0.5015364299038596)"
      ]
     },
     "execution_count": 25,
     "metadata": {},
     "output_type": "execute_result"
    }
   ],
   "source": [
    "stats.ttest_ind(gend_df[gend_df['gender_inequality_index_cat'] == False]['female_stem_graduates_percentage'],\n",
    "                gend_df[gend_df['gender_inequality_index_cat'] == True]['female_stem_graduates_percentage'])"
   ]
  },
  {
   "cell_type": "markdown",
   "metadata": {},
   "source": [
    "Here we can see that $p=0.502$, which is not less than $\\alpha = 0.05$, so this t-test fails: we cannot reject the null hypthesis, and have failed to replicate the study. \n",
    "\n",
    "This raises the question: **why**?"
   ]
  },
  {
   "cell_type": "markdown",
   "metadata": {},
   "source": [
    "Let's try to find the correlation coefficient between the percentage of STEM graduates who are female and the gender inequality index as continuous variables (without categorization). We hope to see if, perhaps, the effect only appeared for the original researchers because they were capturing information that our naive categorization of a continuous variable smudged over:"
   ]
  },
  {
   "cell_type": "code",
   "execution_count": 274,
   "metadata": {
    "scrolled": true
   },
   "outputs": [
    {
     "name": "stdout",
     "output_type": "stream",
     "text": [
      "Correlation Coefficient: 0.2019175212513302\n",
      "Two-tailed p-value: 0.20551051457631953\n"
     ]
    }
   ],
   "source": [
    "corr_co, prob_corr = stats.pearsonr(gend_df['gender_inequality_index'], gend_df['female_stem_graduates_percentage'])\n",
    "print('Correlation Coefficient:', corr_co)\n",
    "print('Two-tailed p-value:', prob_corr)"
   ]
  },
  {
   "cell_type": "markdown",
   "metadata": {},
   "source": [
    "Even still, we get a p-value of $p=0.502$, so do *not* get significance on a level below $\\alpha = 0.05$. So we still don't know why we have not replicated the original study."
   ]
  },
  {
   "cell_type": "markdown",
   "metadata": {},
   "source": [
    "Perhaps we can do a scatter plot of our data to compare with the scatter plot of the authors. We should also transform our measure of gender inequality to one similar to the measure of gender *equality* used by the authors. We do this through the transformation $x \\mapsto 1-x$"
   ]
  },
  {
   "cell_type": "code",
   "execution_count": 307,
   "metadata": {
    "scrolled": false
   },
   "outputs": [
    {
     "data": {
      "image/png": "[encoded data removed]",
      "text/plain": [
       "<Figure size 1008x1152 with 1 Axes>"
      ]
     },
     "metadata": {},
     "output_type": "display_data"
    }
   ],
   "source": [
    "sns.set(rc = {'figure.figsize': (14,16)});\n",
    "txt = list(gend_df['country']);\n",
    "x = list(gend_df['female_stem_graduates_percentage']);\n",
    "y = list(1-(gend_df[\"gender_inequality_index\"]));\n",
    "ax = sns.regplot(x,y);\n",
    "ax.set(title = 'STEM Grads vs Gender Equality \\n (Scatterplot)', xlabel='STEM Grads', ylabel='Gender Equality', xlim = (15,40));\n",
    "for i in range(len(txt)):\n",
    "    ax.annotate(txt[i], (x[i], y[i]));"
   ]
  },
  {
   "cell_type": "markdown",
   "metadata": {},
   "source": [
    "**Their Scatterplot:**\n",
    "![](stem_grad_graph.png)"
   ]
  },
  {
   "cell_type": "markdown",
   "metadata": {},
   "source": [
    "## Third Hypothesis: Female Higher Ed Enrollment versus Proportion of Women Workers in Tech"
   ]
  },
  {
   "cell_type": "markdown",
   "metadata": {},
   "source": [
    "Our hypothesis is that the enrollment of women in tertiary education (normalized by total population) should be negatively related to the proportion of women workers in tech.\n",
    "        \n",
    "That is, when women have more access to higher education, they will choose to enter tech fields less often."
   ]
  },
  {
   "cell_type": "code",
   "execution_count": 287,
   "metadata": {
    "scrolled": true
   },
   "outputs": [],
   "source": [
    "# Getting the data from AWS into a dataframe\n",
    "higher_ed_query = '''\n",
    "        SELECT\n",
    "            w. country\n",
    "                AS country,\n",
    "            100*w.female_tech_workforce_thousands / (w.female_workforce_millions * 1000)\n",
    "                AS perc_women_workers_in_tech,\n",
    "            100 * max(t.value) / p.value\n",
    "                AS women_enrolled_in_ter_ed_normalized_by_total_pop\n",
    "        FROM\n",
    "            gender.women_in_tech AS w\n",
    "            JOIN\n",
    "            gender.ter_ed_enrollment AS t\n",
    "            ON w.country = t.country\n",
    "            JOIN gender.population_data_full as p\n",
    "            ON w.country = p.country\n",
    "        WHERE\n",
    "            t.subgroup = \"Female\"\n",
    "        GROUP BY\n",
    "            t.country;'''\n",
    "\n",
    "\n",
    "df_edu = get_data(higher_ed_query)\n",
    "\n",
    "df_edu['women_enrolled_in_ter_ed_normalized_by_total_pop'] = \\\n",
    "    df_edu['women_enrolled_in_ter_ed_normalized_by_total_pop'].astype(float)\n"
   ]
  },
  {
   "cell_type": "code",
   "execution_count": 290,
   "metadata": {
    "scrolled": false
   },
   "outputs": [
    {
     "data": {
      "text/html": [
       "<div>\n",
       "<style scoped>\n",
       "    .dataframe tbody tr th:only-of-type {\n",
       "        vertical-align: middle;\n",
       "    }\n",
       "\n",
       "    .dataframe tbody tr th {\n",
       "        vertical-align: top;\n",
       "    }\n",
       "\n",
       "    .dataframe thead th {\n",
       "        text-align: right;\n",
       "    }\n",
       "</style>\n",
       "<table border=\"1\" class=\"dataframe\">\n",
       "  <thead>\n",
       "    <tr style=\"text-align: right;\">\n",
       "      <th></th>\n",
       "      <th>perc_women_workers_in_tech</th>\n",
       "      <th>women_enrolled_in_ter_ed_normalized_by_total_pop</th>\n",
       "    </tr>\n",
       "  </thead>\n",
       "  <tbody>\n",
       "    <tr>\n",
       "      <th>count</th>\n",
       "      <td>40.000000</td>\n",
       "      <td>40.000000</td>\n",
       "    </tr>\n",
       "    <tr>\n",
       "      <th>mean</th>\n",
       "      <td>1.312017</td>\n",
       "      <td>2.157532</td>\n",
       "    </tr>\n",
       "    <tr>\n",
       "      <th>std</th>\n",
       "      <td>0.592916</td>\n",
       "      <td>0.847535</td>\n",
       "    </tr>\n",
       "    <tr>\n",
       "      <th>min</th>\n",
       "      <td>0.252336</td>\n",
       "      <td>0.269900</td>\n",
       "    </tr>\n",
       "    <tr>\n",
       "      <th>25%</th>\n",
       "      <td>0.852204</td>\n",
       "      <td>1.670275</td>\n",
       "    </tr>\n",
       "    <tr>\n",
       "      <th>50%</th>\n",
       "      <td>1.337193</td>\n",
       "      <td>2.096250</td>\n",
       "    </tr>\n",
       "    <tr>\n",
       "      <th>75%</th>\n",
       "      <td>1.603316</td>\n",
       "      <td>2.663575</td>\n",
       "    </tr>\n",
       "    <tr>\n",
       "      <th>max</th>\n",
       "      <td>2.759690</td>\n",
       "      <td>4.286200</td>\n",
       "    </tr>\n",
       "  </tbody>\n",
       "</table>\n",
       "</div>"
      ],
      "text/plain": [
       "       perc_women_workers_in_tech  \\\n",
       "count                   40.000000   \n",
       "mean                     1.312017   \n",
       "std                      0.592916   \n",
       "min                      0.252336   \n",
       "25%                      0.852204   \n",
       "50%                      1.337193   \n",
       "75%                      1.603316   \n",
       "max                      2.759690   \n",
       "\n",
       "       women_enrolled_in_ter_ed_normalized_by_total_pop  \n",
       "count                                         40.000000  \n",
       "mean                                           2.157532  \n",
       "std                                            0.847535  \n",
       "min                                            0.269900  \n",
       "25%                                            1.670275  \n",
       "50%                                            2.096250  \n",
       "75%                                            2.663575  \n",
       "max                                            4.286200  "
      ]
     },
     "execution_count": 290,
     "metadata": {},
     "output_type": "execute_result"
    }
   ],
   "source": [
    "# Let's see what we're working with\n",
    "\n",
    "df_edu.describe()"
   ]
  },
  {
   "cell_type": "code",
   "execution_count": 295,
   "metadata": {
    "scrolled": true
   },
   "outputs": [
    {
     "data": {
      "image/png": "[encoded data removed]",
      "text/plain": [
       "<Figure size 576x432 with 1 Axes>"
      ]
     },
     "metadata": {},
     "output_type": "display_data"
    }
   ],
   "source": [
    "# Let's look at this info in a scatterplot\n",
    "\n",
    "fig, ax = plt.subplots(figsize=(8,6))\n",
    "x = df_edu['women_enrolled_in_ter_ed_normalized_by_total_pop']\n",
    "y = df_edu['perc_women_workers_in_tech']\n",
    "sns.scatterplot(x,y)\n",
    "ax.set_xlabel(\"Women Enrolled in Tertiary Education \\n (normalized by total population)\")\n",
    "ax.set_ylabel(\"Percentage of Female Workforce \\n that Works in the Tech Industry\")\n",
    "ax.set_title(\"Women Workers Choosing Tech \\n v.s. \\n Female Tertiary Education Enrollment\")\n",
    "plt.show()"
   ]
  },
  {
   "cell_type": "markdown",
   "metadata": {},
   "source": [
    "Let's do what we did above, and recategorize our data at the median value of higher ed enrollment to run a t-test:"
   ]
  },
  {
   "cell_type": "code",
   "execution_count": 302,
   "metadata": {
    "scrolled": true
   },
   "outputs": [
    {
     "name": "stdout",
     "output_type": "stream",
     "text": [
      "Median: 2.09625\n"
     ]
    }
   ],
   "source": [
    "med2 = df_edu['women_enrolled_in_ter_ed_normalized_by_total_pop'].median()\n",
    "print('Median:', med2)"
   ]
  },
  {
   "cell_type": "code",
   "execution_count": 303,
   "metadata": {
    "scrolled": true
   },
   "outputs": [],
   "source": [
    "# True if the higher ed enrollment is above the median, otherwise false\n",
    "\n",
    "df_edu['women_enrolled_in_ter_ed_normalized_by_total_pop_cat'] = \\\n",
    "    df_edu['women_enrolled_in_ter_ed_normalized_by_total_pop'].apply\\\n",
    "            (lambda x: True if x > med2 else False)"
   ]
  },
  {
   "cell_type": "code",
   "execution_count": 306,
   "metadata": {
    "scrolled": true
   },
   "outputs": [
    {
     "data": {
      "text/plain": [
       "Ttest_indResult(statistic=1.8221744484533022, pvalue=0.07630582090113038)"
      ]
     },
     "execution_count": 306,
     "metadata": {},
     "output_type": "execute_result"
    }
   ],
   "source": [
    "x = df_edu[df_edu['women_enrolled_in_ter_ed_normalized_by_total_pop_cat'] == True]['perc_women_workers_in_tech']\n",
    "y = df_edu[df_edu['women_enrolled_in_ter_ed_normalized_by_total_pop_cat'] == False]['perc_women_workers_in_tech']\n",
    "stats.ttest_ind(x,y)"
   ]
  },
  {
   "cell_type": "markdown",
   "metadata": {},
   "source": [
    "We have a p value of 0.076, which is not less than $\\alpha=0.05$ as is our threshhold for rejecting the null hypothesis. "
   ]
  },
  {
   "cell_type": "markdown",
   "metadata": {},
   "source": [
    "We can also run a test without our categorization (just as a curiosity: we could not use this result, due to already having done a t-test on the same data)."
   ]
  },
  {
   "cell_type": "code",
   "execution_count": 37,
   "metadata": {
    "scrolled": false
   },
   "outputs": [
    {
     "data": {
      "text/plain": [
       "(0.23181881073105137, 0.1500511224010598)"
      ]
     },
     "execution_count": 37,
     "metadata": {},
     "output_type": "execute_result"
    }
   ],
   "source": [
    "stats.pearsonr(df_edu['perc_women_workers_in_tech'], df_edu['women_enrolled_in_ter_ed_normalized_by_total_pop'])"
   ]
  },
  {
   "cell_type": "markdown",
   "metadata": {},
   "source": [
    "Interestingly, this has an even higher p-value, so we would be even fruther from rejecting the null hypothesis here!\n",
    "\n",
    "It is more likely than not that the null hypothesis is false, but this was not the standard we have set, so we cannot reject the null."
   ]
  }
 ],
 "metadata": {
  "kernelspec": {
   "display_name": "Python 3",
   "language": "python",
   "name": "python3"
  },
  "language_info": {
   "codemirror_mode": {
    "name": "ipython",
    "version": 3
   },
   "file_extension": ".py",
   "mimetype": "text/x-python",
   "name": "python",
   "nbconvert_exporter": "python",
   "pygments_lexer": "ipython3",
   "version": "3.7.3"
  }
 },
 "nbformat": 4,
 "nbformat_minor": 2
}
