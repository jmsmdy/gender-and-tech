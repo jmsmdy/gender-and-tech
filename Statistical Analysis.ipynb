{
 "cells": [
  {
   "cell_type": "markdown",
   "metadata": {},
   "source": [
    "### Imports and Definitions"
   ]
  },
  {
   "cell_type": "code",
   "execution_count": 2,
   "metadata": {},
   "outputs": [
    {
     "name": "stdout",
     "output_type": "stream",
     "text": [
      "The autoreload extension is already loaded. To reload it, use:\n",
      "  %reload_ext autoreload\n"
     ]
    }
   ],
   "source": [
    "from functions import *\n",
    "from SQL_functions import *\n",
    "from stats_forumulas import *\n",
    "import config\n",
    "import matplotlib.pyplot as plt\n",
    "import seaborn as sns\n",
    "import mysql.connector\n",
    "from mysql.connector import errorcode\n",
    "import math\n",
    "import pandas as pd\n",
    "import numpy as np\n",
    "import scipy.stats as stats\n",
    "%load_ext autoreload\n",
    "%reload_ext autoreload\n",
    "%autoreload 2"
   ]
  },
  {
   "cell_type": "markdown",
   "metadata": {},
   "source": [
    "## Do abortion laws influence how many women end up working in tech?\n",
    "\n",
    "We have two measures of \"women working in tech\":\n",
    " - Prevalence of women in tech (percentage of tech industry workers who are women)\n",
    " - Percentage difference of prevalence of women in tech versus prevalence of women in workforce overall\n",
    " \n",
    "Let's try each of these and see the result."
   ]
  },
  {
   "cell_type": "markdown",
   "metadata": {},
   "source": [
    "#### Influence of Abortion: Using Prevalence of Women in Tech"
   ]
  },
  {
   "cell_type": "markdown",
   "metadata": {},
   "source": [
    "**Hypothesis:** if we group countries by their abortion laws, we should find the one of these groups has a statistically significant difference in the prevalence of women in tech."
   ]
  },
  {
   "cell_type": "code",
   "execution_count": 3,
   "metadata": {},
   "outputs": [],
   "source": [
    "# Let's grab relevant data from the AWS MySQL database,\n",
    "# and put it into a pandas DataFrame for analysis.\n",
    "\n",
    "query1 = get_attributes_query(('value', 'laws'), 'abortion_info',\n",
    "                              ('percent_women_in_tech', 'prevalence_of_women_in_tech'))\n",
    "df1 = get_data(query1)"
   ]
  },
  {
   "cell_type": "code",
   "execution_count": 4,
   "metadata": {
    "scrolled": true
   },
   "outputs": [
    {
     "data": {
      "text/html": [
       "<div>\n",
       "<style scoped>\n",
       "    .dataframe tbody tr th:only-of-type {\n",
       "        vertical-align: middle;\n",
       "    }\n",
       "\n",
       "    .dataframe tbody tr th {\n",
       "        vertical-align: top;\n",
       "    }\n",
       "\n",
       "    .dataframe thead th {\n",
       "        text-align: right;\n",
       "    }\n",
       "</style>\n",
       "<table border=\"1\" class=\"dataframe\">\n",
       "  <thead>\n",
       "    <tr style=\"text-align: right;\">\n",
       "      <th></th>\n",
       "      <th>country</th>\n",
       "      <th>laws</th>\n",
       "      <th>prevalence_of_women_in_tech</th>\n",
       "    </tr>\n",
       "  </thead>\n",
       "  <tbody>\n",
       "    <tr>\n",
       "      <th>8</th>\n",
       "      <td>Czech Republic</td>\n",
       "      <td>7</td>\n",
       "      <td>11.17</td>\n",
       "    </tr>\n",
       "    <tr>\n",
       "      <th>14</th>\n",
       "      <td>Greece</td>\n",
       "      <td>7</td>\n",
       "      <td>12.70</td>\n",
       "    </tr>\n",
       "    <tr>\n",
       "      <th>23</th>\n",
       "      <td>Lithuania</td>\n",
       "      <td>7</td>\n",
       "      <td>24.93</td>\n",
       "    </tr>\n",
       "    <tr>\n",
       "      <th>30</th>\n",
       "      <td>Poland</td>\n",
       "      <td>5</td>\n",
       "      <td>14.50</td>\n",
       "    </tr>\n",
       "    <tr>\n",
       "      <th>26</th>\n",
       "      <td>Mexico</td>\n",
       "      <td>7</td>\n",
       "      <td>14.22</td>\n",
       "    </tr>\n",
       "  </tbody>\n",
       "</table>\n",
       "</div>"
      ],
      "text/plain": [
       "           country  laws  prevalence_of_women_in_tech\n",
       "8   Czech Republic     7                        11.17\n",
       "14          Greece     7                        12.70\n",
       "23       Lithuania     7                        24.93\n",
       "30          Poland     5                        14.50\n",
       "26          Mexico     7                        14.22"
      ]
     },
     "execution_count": 4,
     "metadata": {},
     "output_type": "execute_result"
    }
   ],
   "source": [
    "# Let's take a peek at our data\n",
    "\n",
    "df1.sample(5)"
   ]
  },
  {
   "cell_type": "markdown",
   "metadata": {},
   "source": [
    "Now let's run an ANOVA test with $\\alpha = 0.05$\n",
    "\n",
    "We are grouping by abortion laws (1 = strict, 7 = lenient),\n",
    "and trying to see if there is a significant difference in\n",
    "prevalence of women in tech among these groups."
   ]
  },
  {
   "cell_type": "code",
   "execution_count": 5,
   "metadata": {
    "scrolled": true
   },
   "outputs": [
    {
     "name": "stdout",
     "output_type": "stream",
     "text": [
      "                                 OLS Regression Results                                \n",
      "=======================================================================================\n",
      "Dep. Variable:     prevalence_of_women_in_tech   R-squared:                       0.065\n",
      "Model:                                     OLS   Adj. R-squared:                 -0.038\n",
      "Method:                          Least Squares   F-statistic:                    0.6297\n",
      "Date:                         Thu, 03 Oct 2019   Prob (F-statistic):              0.644\n",
      "Time:                                 19:48:00   Log-Likelihood:                -123.27\n",
      "No. Observations:                           41   AIC:                             256.5\n",
      "Df Residuals:                               36   BIC:                             265.1\n",
      "Df Model:                                    4                                         \n",
      "Covariance Type:                     nonrobust                                         \n",
      "===================================================================================\n",
      "                      coef    std err          t      P>|t|      [0.025      0.975]\n",
      "-----------------------------------------------------------------------------------\n",
      "Intercept          15.2500      3.014      5.059      0.000       9.137      21.363\n",
      "C(C(laws))[T.4]    -2.3400      6.029     -0.388      0.700     -14.567       9.887\n",
      "C(C(laws))[T.5]     0.7317      3.692      0.198      0.844      -6.756       8.219\n",
      "C(C(laws))[T.6]     4.0500      4.263      0.950      0.348      -4.596      12.696\n",
      "C(C(laws))[T.7]     2.8125      3.172      0.887      0.381      -3.620       9.245\n",
      "==============================================================================\n",
      "Omnibus:                        1.834   Durbin-Watson:                   1.885\n",
      "Prob(Omnibus):                  0.400   Jarque-Bera (JB):                1.684\n",
      "Skew:                           0.470   Prob(JB):                        0.431\n",
      "Kurtosis:                       2.682   Cond. No.                         11.5\n",
      "==============================================================================\n",
      "\n",
      "Warnings:\n",
      "[1] Standard Errors assume that the covariance matrix of the errors is correctly specified.\n"
     ]
    }
   ],
   "source": [
    "\n",
    "anova_table_and_summary(df1, 'prevalence_of_women_in_tech', 'C(laws)')"
   ]
  },
  {
   "cell_type": "markdown",
   "metadata": {},
   "source": [
    "We find an F-statistic of 0.6297, corresponding to a p-value of 0.644, which is not enough to reject the null hypothesis with $\\alpha = 0.05$\n",
    "\n",
    "Let's try to get an idea of what the distribution of each group looks like with a box plot:"
   ]
  },
  {
   "cell_type": "code",
   "execution_count": 6,
   "metadata": {
    "scrolled": false
   },
   "outputs": [
    {
     "data": {
      "image/png": "[encoded data removed]",
      "text/plain": [
       "<Figure size 720x432 with 1 Axes>"
      ]
     },
     "metadata": {
      "needs_background": "light"
     },
     "output_type": "display_data"
    }
   ],
   "source": [
    "fig, ax = plt.subplots(figsize=(10,6))\n",
    "df1.boxplot('prevalence_of_women_in_tech', by='laws', ax=ax);\n",
    "ax.set_xlabel('Abortion Laws \\n (higher is more liberal)')\n",
    "ax.set_ylabel('Prevalence of Women in Tech')\n",
    "ax.set_title('Prevalence of Women in Tech grouped by Abortion Laws')\n",
    "fig.suptitle(\"Boxplot\");"
   ]
  },
  {
   "cell_type": "markdown",
   "metadata": {},
   "source": [
    "We can also look at summary statistics."
   ]
  },
  {
   "cell_type": "code",
   "execution_count": 7,
   "metadata": {
    "scrolled": true
   },
   "outputs": [
    {
     "data": {
      "text/html": [
       "<div>\n",
       "<style scoped>\n",
       "    .dataframe tbody tr th:only-of-type {\n",
       "        vertical-align: middle;\n",
       "    }\n",
       "\n",
       "    .dataframe tbody tr th {\n",
       "        vertical-align: top;\n",
       "    }\n",
       "\n",
       "    .dataframe thead tr th {\n",
       "        text-align: left;\n",
       "    }\n",
       "\n",
       "    .dataframe thead tr:last-of-type th {\n",
       "        text-align: right;\n",
       "    }\n",
       "</style>\n",
       "<table border=\"1\" class=\"dataframe\">\n",
       "  <thead>\n",
       "    <tr>\n",
       "      <th></th>\n",
       "      <th colspan=\"8\" halign=\"left\">prevalence_of_women_in_tech</th>\n",
       "    </tr>\n",
       "    <tr>\n",
       "      <th></th>\n",
       "      <th>count</th>\n",
       "      <th>mean</th>\n",
       "      <th>std</th>\n",
       "      <th>min</th>\n",
       "      <th>25%</th>\n",
       "      <th>50%</th>\n",
       "      <th>75%</th>\n",
       "      <th>max</th>\n",
       "    </tr>\n",
       "    <tr>\n",
       "      <th>laws</th>\n",
       "      <th></th>\n",
       "      <th></th>\n",
       "      <th></th>\n",
       "      <th></th>\n",
       "      <th></th>\n",
       "      <th></th>\n",
       "      <th></th>\n",
       "      <th></th>\n",
       "    </tr>\n",
       "  </thead>\n",
       "  <tbody>\n",
       "    <tr>\n",
       "      <th>1</th>\n",
       "      <td>3.0</td>\n",
       "      <td>15.250000</td>\n",
       "      <td>3.847649</td>\n",
       "      <td>11.27</td>\n",
       "      <td>13.4000</td>\n",
       "      <td>15.530</td>\n",
       "      <td>17.2400</td>\n",
       "      <td>18.95</td>\n",
       "    </tr>\n",
       "    <tr>\n",
       "      <th>4</th>\n",
       "      <td>1.0</td>\n",
       "      <td>12.910000</td>\n",
       "      <td>NaN</td>\n",
       "      <td>12.91</td>\n",
       "      <td>12.9100</td>\n",
       "      <td>12.910</td>\n",
       "      <td>12.9100</td>\n",
       "      <td>12.91</td>\n",
       "    </tr>\n",
       "    <tr>\n",
       "      <th>5</th>\n",
       "      <td>6.0</td>\n",
       "      <td>15.981667</td>\n",
       "      <td>3.132905</td>\n",
       "      <td>11.00</td>\n",
       "      <td>14.8775</td>\n",
       "      <td>16.105</td>\n",
       "      <td>17.4975</td>\n",
       "      <td>20.25</td>\n",
       "    </tr>\n",
       "    <tr>\n",
       "      <th>6</th>\n",
       "      <td>3.0</td>\n",
       "      <td>19.300000</td>\n",
       "      <td>4.685798</td>\n",
       "      <td>13.89</td>\n",
       "      <td>17.9100</td>\n",
       "      <td>21.930</td>\n",
       "      <td>22.0050</td>\n",
       "      <td>22.08</td>\n",
       "    </tr>\n",
       "    <tr>\n",
       "      <th>7</th>\n",
       "      <td>28.0</td>\n",
       "      <td>18.062500</td>\n",
       "      <td>5.639539</td>\n",
       "      <td>9.29</td>\n",
       "      <td>14.1800</td>\n",
       "      <td>16.885</td>\n",
       "      <td>21.7675</td>\n",
       "      <td>30.28</td>\n",
       "    </tr>\n",
       "  </tbody>\n",
       "</table>\n",
       "</div>"
      ],
      "text/plain": [
       "     prevalence_of_women_in_tech                                               \\\n",
       "                           count       mean       std    min      25%     50%   \n",
       "laws                                                                            \n",
       "1                            3.0  15.250000  3.847649  11.27  13.4000  15.530   \n",
       "4                            1.0  12.910000       NaN  12.91  12.9100  12.910   \n",
       "5                            6.0  15.981667  3.132905  11.00  14.8775  16.105   \n",
       "6                            3.0  19.300000  4.685798  13.89  17.9100  21.930   \n",
       "7                           28.0  18.062500  5.639539   9.29  14.1800  16.885   \n",
       "\n",
       "                      \n",
       "          75%    max  \n",
       "laws                  \n",
       "1     17.2400  18.95  \n",
       "4     12.9100  12.91  \n",
       "5     17.4975  20.25  \n",
       "6     22.0050  22.08  \n",
       "7     21.7675  30.28  "
      ]
     },
     "execution_count": 7,
     "metadata": {},
     "output_type": "execute_result"
    }
   ],
   "source": [
    "df1.groupby('laws').describe()"
   ]
  },
  {
   "cell_type": "markdown",
   "metadata": {},
   "source": [
    " Notice that we have very few countries who are not in category 7 (most lenient). This may be hurting our chances of finding a statistically significant result. That being said, the means among groups do not seem to differ greatly."
   ]
  },
  {
   "cell_type": "markdown",
   "metadata": {},
   "source": [
    "#### Influence of Abortion: % Difference in Prevalence of Women in Tech versus Overall Workforce"
   ]
  },
  {
   "cell_type": "markdown",
   "metadata": {},
   "source": [
    "**Hypothesis:** if we group countries by their abortion laws, we should find the one of these groups has a statistically significant difference in the percent difference between prevalence of women in tech versus the overall workforce."
   ]
  },
  {
   "cell_type": "code",
   "execution_count": 8,
   "metadata": {},
   "outputs": [],
   "source": [
    "# Let's grab relevant data from the AWS MySQL database,\n",
    "# and put it into a pandas DataFrame for analysis.\n",
    "\n",
    "query2 = get_attributes_query(('value', 'laws'), 'abortion_info',\n",
    "                              ('percent_difference_of_women_in_workforce_and_women_in_tech', 'percent_difference_of_women_in_workforce_and_women_in_tech'))\n",
    "\n",
    "df2 = get_data(query2)"
   ]
  },
  {
   "cell_type": "code",
   "execution_count": 9,
   "metadata": {},
   "outputs": [
    {
     "data": {
      "text/html": [
       "<div>\n",
       "<style scoped>\n",
       "    .dataframe tbody tr th:only-of-type {\n",
       "        vertical-align: middle;\n",
       "    }\n",
       "\n",
       "    .dataframe tbody tr th {\n",
       "        vertical-align: top;\n",
       "    }\n",
       "\n",
       "    .dataframe thead th {\n",
       "        text-align: right;\n",
       "    }\n",
       "</style>\n",
       "<table border=\"1\" class=\"dataframe\">\n",
       "  <thead>\n",
       "    <tr style=\"text-align: right;\">\n",
       "      <th></th>\n",
       "      <th>country</th>\n",
       "      <th>laws</th>\n",
       "      <th>percent_difference_of_women_in_workforce_and_women_in_tech</th>\n",
       "    </tr>\n",
       "  </thead>\n",
       "  <tbody>\n",
       "    <tr>\n",
       "      <th>2</th>\n",
       "      <td>Belgium</td>\n",
       "      <td>7</td>\n",
       "      <td>-32.02</td>\n",
       "    </tr>\n",
       "    <tr>\n",
       "      <th>1</th>\n",
       "      <td>Austria</td>\n",
       "      <td>7</td>\n",
       "      <td>-29.63</td>\n",
       "    </tr>\n",
       "    <tr>\n",
       "      <th>24</th>\n",
       "      <td>Luxembourg</td>\n",
       "      <td>6</td>\n",
       "      <td>-31.43</td>\n",
       "    </tr>\n",
       "    <tr>\n",
       "      <th>31</th>\n",
       "      <td>Portugal</td>\n",
       "      <td>7</td>\n",
       "      <td>-32.69</td>\n",
       "    </tr>\n",
       "    <tr>\n",
       "      <th>22</th>\n",
       "      <td>Latvia</td>\n",
       "      <td>7</td>\n",
       "      <td>-25.38</td>\n",
       "    </tr>\n",
       "  </tbody>\n",
       "</table>\n",
       "</div>"
      ],
      "text/plain": [
       "       country  laws  \\\n",
       "2      Belgium     7   \n",
       "1      Austria     7   \n",
       "24  Luxembourg     6   \n",
       "31    Portugal     7   \n",
       "22      Latvia     7   \n",
       "\n",
       "    percent_difference_of_women_in_workforce_and_women_in_tech  \n",
       "2                                              -32.02           \n",
       "1                                              -29.63           \n",
       "24                                             -31.43           \n",
       "31                                             -32.69           \n",
       "22                                             -25.38           "
      ]
     },
     "execution_count": 9,
     "metadata": {},
     "output_type": "execute_result"
    }
   ],
   "source": [
    "# Let's take a peek at our data\n",
    "df2.sample(5)"
   ]
  },
  {
   "cell_type": "markdown",
   "metadata": {},
   "source": [
    "Now let's run an ANOVA test with $\\alpha = 0.05$\n",
    "\n",
    "We are grouping by abortion laws (1 = strict, 7 = lenient), and trying to see if there is a significant difference in percent difference of the prevalence of women in tech versus the overall workforce among these groups."
   ]
  },
  {
   "cell_type": "code",
   "execution_count": 10,
   "metadata": {
    "scrolled": false
   },
   "outputs": [
    {
     "name": "stdout",
     "output_type": "stream",
     "text": [
      "                                                OLS Regression Results                                                \n",
      "======================================================================================================================\n",
      "Dep. Variable:     percent_difference_of_women_in_workforce_and_women_in_tech   R-squared:                       0.052\n",
      "Model:                                                                    OLS   Adj. R-squared:                 -0.053\n",
      "Method:                                                         Least Squares   F-statistic:                    0.4960\n",
      "Date:                                                        Thu, 03 Oct 2019   Prob (F-statistic):              0.739\n",
      "Time:                                                                19:48:13   Log-Likelihood:                -119.19\n",
      "No. Observations:                                                          41   AIC:                             248.4\n",
      "Df Residuals:                                                              36   BIC:                             257.0\n",
      "Df Model:                                                                   4                                         \n",
      "Covariance Type:                                                    nonrobust                                         \n",
      "===================================================================================\n",
      "                      coef    std err          t      P>|t|      [0.025      0.975]\n",
      "-----------------------------------------------------------------------------------\n",
      "Intercept         -26.5200      2.729     -9.718      0.000     -32.055     -20.985\n",
      "C(C(laws))[T.4]    -3.9100      5.458     -0.716      0.478     -14.980       7.160\n",
      "C(C(laws))[T.5]    -3.6933      3.342     -1.105      0.276     -10.472       3.085\n",
      "C(C(laws))[T.6]    -0.9533      3.859     -0.247      0.806      -8.781       6.874\n",
      "C(C(laws))[T.7]    -1.2268      2.872     -0.427      0.672      -7.051       4.597\n",
      "==============================================================================\n",
      "Omnibus:                        4.782   Durbin-Watson:                   2.293\n",
      "Prob(Omnibus):                  0.092   Jarque-Bera (JB):                3.741\n",
      "Skew:                           0.724   Prob(JB):                        0.154\n",
      "Kurtosis:                       3.307   Cond. No.                         11.5\n",
      "==============================================================================\n",
      "\n",
      "Warnings:\n",
      "[1] Standard Errors assume that the covariance matrix of the errors is correctly specified.\n"
     ]
    }
   ],
   "source": [
    "anova_table_and_summary(df2, 'percent_difference_of_women_in_workforce_and_women_in_tech', 'C(laws)')"
   ]
  },
  {
   "cell_type": "markdown",
   "metadata": {},
   "source": [
    "We find an F-statistic of 0.496, corresponding to a p-value of 0.73, which is not enough to reject the null hypothesis with $\\alpha = 0.05$\n",
    "\n",
    "Let's try to get an idea of what the distribution of each group looks like with a box plot:"
   ]
  },
  {
   "cell_type": "code",
   "execution_count": 11,
   "metadata": {
    "scrolled": true
   },
   "outputs": [
    {
     "data": {
      "image/png": "[encoded data removed]",
      "text/plain": [
       "<Figure size 720x432 with 1 Axes>"
      ]
     },
     "metadata": {
      "needs_background": "light"
     },
     "output_type": "display_data"
    }
   ],
   "source": [
    "fig, ax = plt.subplots(figsize=(10,6))\n",
    "df2.boxplot('percent_difference_of_women_in_workforce_and_women_in_tech', by='laws', ax=ax);\n",
    "ax.set_xlabel('Abortion Laws \\n (higher is more liberal)')\n",
    "ax.set_ylabel('Percent Difference of the Prevalence of \\n Women in Tech versus the Overall Workforce')\n",
    "ax.set_title('Percent Difference of the Prevalence of Women in Tech versus the Overall Workforce grouped by Abortion Laws')\n",
    "fig.suptitle(\"Boxplot\");"
   ]
  },
  {
   "cell_type": "markdown",
   "metadata": {},
   "source": [
    "Again, there is no clear pattern here."
   ]
  },
  {
   "cell_type": "markdown",
   "metadata": {},
   "source": [
    "## Let's redo those same tests, but this time with fewer categories (just to see what happens)\n",
    "\n",
    "We might think that perhaps the fact that many categories only have a handful of data points may have hurt the ability of our ANOVA to reach statistical significance. Let's try grouping into two categories."
   ]
  },
  {
   "cell_type": "code",
   "execution_count": 12,
   "metadata": {},
   "outputs": [],
   "source": [
    "df1_cat = df1.copy(deep=True)\n",
    "df1_cat['laws'] = df1_cat['laws'].apply(lambda x: 1 if x > 6 else 0)"
   ]
  },
  {
   "cell_type": "code",
   "execution_count": 13,
   "metadata": {},
   "outputs": [
    {
     "data": {
      "image/png": "[encoded data removed]",
      "text/plain": [
       "<Figure size 720x432 with 1 Axes>"
      ]
     },
     "metadata": {
      "needs_background": "light"
     },
     "output_type": "display_data"
    }
   ],
   "source": [
    "fig, ax = plt.subplots(figsize=(10,6))\n",
    "df1_cat.boxplot('prevalence_of_women_in_tech', by='laws', ax=ax);\n",
    "ax.set_xlabel('Abortion Laws \\n (higher is more liberal)')\n",
    "ax.set_ylabel('Percent Difference of the Prevalence of \\n Women in Tech versus the Overall Workforce')\n",
    "ax.set_title('Percent Difference of the Prevalence of Women in Tech versus the Overall Workforce grouped by Abortion Laws')\n",
    "fig.suptitle(\"Boxplot\");"
   ]
  },
  {
   "cell_type": "code",
   "execution_count": 14,
   "metadata": {},
   "outputs": [],
   "source": [
    "df2_cat = df2.copy(deep=True)\n",
    "df2_cat['laws'] = df2['laws'].apply(lambda x: 1 if x > 6 else 0)"
   ]
  },
  {
   "cell_type": "code",
   "execution_count": 15,
   "metadata": {},
   "outputs": [
    {
     "data": {
      "image/png": "[encoded data removed]",
      "text/plain": [
       "<Figure size 720x432 with 1 Axes>"
      ]
     },
     "metadata": {
      "needs_background": "light"
     },
     "output_type": "display_data"
    }
   ],
   "source": [
    "fig, ax = plt.subplots(figsize=(10,6))\n",
    "df2_cat.boxplot('percent_difference_of_women_in_workforce_and_women_in_tech', by='laws', ax=ax);\n",
    "ax.set_xlabel('Abortion Laws \\n (higher is more liberal)')\n",
    "ax.set_ylabel('Percent Difference of the Prevalence of \\n Women in Tech versus the Overall Workforce')\n",
    "ax.set_title('Percent Difference of the Prevalence of Women in Tech versus the Overall Workforce grouped by Abortion Laws')\n",
    "fig.suptitle(\"Boxplot\");"
   ]
  },
  {
   "cell_type": "code",
   "execution_count": 16,
   "metadata": {},
   "outputs": [
    {
     "name": "stdout",
     "output_type": "stream",
     "text": [
      "                                 OLS Regression Results                                \n",
      "=======================================================================================\n",
      "Dep. Variable:     prevalence_of_women_in_tech   R-squared:                       0.025\n",
      "Model:                                     OLS   Adj. R-squared:                  0.000\n",
      "Method:                          Least Squares   F-statistic:                     1.001\n",
      "Date:                         Thu, 03 Oct 2019   Prob (F-statistic):              0.323\n",
      "Time:                                 19:48:19   Log-Likelihood:                -124.14\n",
      "No. Observations:                           41   AIC:                             252.3\n",
      "Df Residuals:                               39   BIC:                             255.7\n",
      "Df Model:                                    1                                         \n",
      "Covariance Type:                     nonrobust                                         \n",
      "================================================================================\n",
      "                   coef    std err          t      P>|t|      [0.025      0.975]\n",
      "--------------------------------------------------------------------------------\n",
      "Intercept       16.3423      1.421     11.501      0.000      13.468      19.216\n",
      "C(laws)[T.1]     1.7202      1.719      1.000      0.323      -1.758       5.198\n",
      "==============================================================================\n",
      "Omnibus:                        2.176   Durbin-Watson:                   1.833\n",
      "Prob(Omnibus):                  0.337   Jarque-Bera (JB):                2.052\n",
      "Skew:                           0.495   Prob(JB):                        0.358\n",
      "Kurtosis:                       2.529   Cond. No.                         3.31\n",
      "==============================================================================\n",
      "\n",
      "Warnings:\n",
      "[1] Standard Errors assume that the covariance matrix of the errors is correctly specified.\n"
     ]
    }
   ],
   "source": [
    "anova_table_and_summary(df1_cat, 'prevalence_of_women_in_tech', 'laws');"
   ]
  },
  {
   "cell_type": "code",
   "execution_count": 17,
   "metadata": {
    "scrolled": true
   },
   "outputs": [
    {
     "name": "stdout",
     "output_type": "stream",
     "text": [
      "                                                OLS Regression Results                                                \n",
      "======================================================================================================================\n",
      "Dep. Variable:     percent_difference_of_women_in_workforce_and_women_in_tech   R-squared:                       0.010\n",
      "Model:                                                                    OLS   Adj. R-squared:                 -0.015\n",
      "Method:                                                         Least Squares   F-statistic:                    0.4111\n",
      "Date:                                                        Thu, 03 Oct 2019   Prob (F-statistic):              0.525\n",
      "Time:                                                                19:48:20   Log-Likelihood:                -120.08\n",
      "No. Observations:                                                          41   AIC:                             244.2\n",
      "Df Residuals:                                                              39   BIC:                             247.6\n",
      "Df Model:                                                                   1                                         \n",
      "Covariance Type:                                                    nonrobust                                         \n",
      "================================================================================\n",
      "                   coef    std err          t      P>|t|      [0.025      0.975]\n",
      "--------------------------------------------------------------------------------\n",
      "Intercept      -28.7454      1.287    -22.334      0.000     -31.349     -26.142\n",
      "C(laws)[T.1]     0.9986      1.557      0.641      0.525      -2.152       4.149\n",
      "==============================================================================\n",
      "Omnibus:                        3.725   Durbin-Watson:                   2.312\n",
      "Prob(Omnibus):                  0.155   Jarque-Bera (JB):                2.896\n",
      "Skew:                           0.647   Prob(JB):                        0.235\n",
      "Kurtosis:                       3.144   Cond. No.                         3.31\n",
      "==============================================================================\n",
      "\n",
      "Warnings:\n",
      "[1] Standard Errors assume that the covariance matrix of the errors is correctly specified.\n"
     ]
    }
   ],
   "source": [
    "anova_table_and_summary(df2_cat, 'percent_difference_of_women_in_workforce_and_women_in_tech', 'laws')"
   ]
  },
  {
   "cell_type": "markdown",
   "metadata": {},
   "source": [
    "Still no significant difference!"
   ]
  },
  {
   "cell_type": "markdown",
   "metadata": {},
   "source": [
    "## Attempt to replicate a study when we restrict to only EU + OECD countries:\n",
    "### Does higher gender inequality index *increase* the percentage of STEM graduates who are female, as this counter-intuitive study suggests?"
   ]
  },
  {
   "cell_type": "code",
   "execution_count": 18,
   "metadata": {},
   "outputs": [],
   "source": [
    "# First let's grab our gender inequality data.\n",
    "\n",
    "inequality_query = \\\n",
    "    get_attributes_query(('gender_inequality_index', 'gender_inequality_index'), 'women_in_tech',\n",
    "                         ('female_stem_graduates_percentage','female_stem_graduates_percentage'))\n",
    "\n",
    "gend_df = get_data(inequality_query)"
   ]
  },
  {
   "cell_type": "code",
   "execution_count": 19,
   "metadata": {},
   "outputs": [
    {
     "data": {
      "text/html": [
       "<div>\n",
       "<style scoped>\n",
       "    .dataframe tbody tr th:only-of-type {\n",
       "        vertical-align: middle;\n",
       "    }\n",
       "\n",
       "    .dataframe tbody tr th {\n",
       "        vertical-align: top;\n",
       "    }\n",
       "\n",
       "    .dataframe thead th {\n",
       "        text-align: right;\n",
       "    }\n",
       "</style>\n",
       "<table border=\"1\" class=\"dataframe\">\n",
       "  <thead>\n",
       "    <tr style=\"text-align: right;\">\n",
       "      <th></th>\n",
       "      <th>country</th>\n",
       "      <th>gender_inequality_index</th>\n",
       "      <th>female_stem_graduates_percentage</th>\n",
       "    </tr>\n",
       "  </thead>\n",
       "  <tbody>\n",
       "    <tr>\n",
       "      <th>40</th>\n",
       "      <td>United States of America</td>\n",
       "      <td>0.203</td>\n",
       "      <td>24.24</td>\n",
       "    </tr>\n",
       "    <tr>\n",
       "      <th>26</th>\n",
       "      <td>Mexico</td>\n",
       "      <td>0.345</td>\n",
       "      <td>29.08</td>\n",
       "    </tr>\n",
       "    <tr>\n",
       "      <th>38</th>\n",
       "      <td>Turkey</td>\n",
       "      <td>0.328</td>\n",
       "      <td>37.11</td>\n",
       "    </tr>\n",
       "    <tr>\n",
       "      <th>17</th>\n",
       "      <td>Ireland</td>\n",
       "      <td>0.127</td>\n",
       "      <td>24.81</td>\n",
       "    </tr>\n",
       "    <tr>\n",
       "      <th>5</th>\n",
       "      <td>Chile</td>\n",
       "      <td>0.322</td>\n",
       "      <td>15.97</td>\n",
       "    </tr>\n",
       "  </tbody>\n",
       "</table>\n",
       "</div>"
      ],
      "text/plain": [
       "                     country  gender_inequality_index  \\\n",
       "40  United States of America                    0.203   \n",
       "26                    Mexico                    0.345   \n",
       "38                    Turkey                    0.328   \n",
       "17                   Ireland                    0.127   \n",
       "5                      Chile                    0.322   \n",
       "\n",
       "    female_stem_graduates_percentage  \n",
       "40                             24.24  \n",
       "26                             29.08  \n",
       "38                             37.11  \n",
       "17                             24.81  \n",
       "5                              15.97  "
      ]
     },
     "execution_count": 19,
     "metadata": {},
     "output_type": "execute_result"
    }
   ],
   "source": [
    "# Take a peak at the data\n",
    "\n",
    "gend_df.sample(5)"
   ]
  },
  {
   "cell_type": "markdown",
   "metadata": {},
   "source": [
    "We want to turn take a look at the distribution of the continuous variable \"gender_inequality_index\" (our independent variable) to see what the most sensible way of turning it into categorical data is:"
   ]
  },
  {
   "cell_type": "code",
   "execution_count": 20,
   "metadata": {
    "scrolled": false
   },
   "outputs": [
    {
     "data": {
      "image/png": "[encoded data removed]",
      "text/plain": [
       "<Figure size 432x288 with 1 Axes>"
      ]
     },
     "metadata": {
      "needs_background": "light"
     },
     "output_type": "display_data"
    }
   ],
   "source": [
    "gend_df.boxplot('gender_inequality_index');"
   ]
  },
  {
   "cell_type": "code",
   "execution_count": 21,
   "metadata": {},
   "outputs": [
    {
     "data": {
      "image/png": "[encoded data removed]",
      "text/plain": [
       "<Figure size 432x288 with 1 Axes>"
      ]
     },
     "metadata": {
      "needs_background": "light"
     },
     "output_type": "display_data"
    }
   ],
   "source": [
    "gend_df.hist('gender_inequality_index', bins = 12);"
   ]
  },
  {
   "cell_type": "markdown",
   "metadata": {},
   "source": [
    "This is not unimodal, so perhaps our best bet it to divide it into two equal groups, by those above versus below the median value."
   ]
  },
  {
   "cell_type": "code",
   "execution_count": 22,
   "metadata": {},
   "outputs": [
    {
     "name": "stdout",
     "output_type": "stream",
     "text": [
      "Median = 0.116\n"
     ]
    }
   ],
   "source": [
    "# Create a new Boolean column for whether the gender inequality index is above the median or not.\n",
    "\n",
    "med = gend_df['gender_inequality_index'].median()\n",
    "\n",
    "gend_df['gender_inequality_index_cat'] = \\\n",
    "    gend_df['gender_inequality_index'].apply(lambda x: True if x > med else False)\n",
    "\n",
    "print(\"Median =\", med)"
   ]
  },
  {
   "cell_type": "code",
   "execution_count": 23,
   "metadata": {},
   "outputs": [
    {
     "data": {
      "text/html": [
       "<div>\n",
       "<style scoped>\n",
       "    .dataframe tbody tr th:only-of-type {\n",
       "        vertical-align: middle;\n",
       "    }\n",
       "\n",
       "    .dataframe tbody tr th {\n",
       "        vertical-align: top;\n",
       "    }\n",
       "\n",
       "    .dataframe thead th {\n",
       "        text-align: right;\n",
       "    }\n",
       "</style>\n",
       "<table border=\"1\" class=\"dataframe\">\n",
       "  <thead>\n",
       "    <tr style=\"text-align: right;\">\n",
       "      <th></th>\n",
       "      <th>country</th>\n",
       "      <th>gender_inequality_index</th>\n",
       "      <th>female_stem_graduates_percentage</th>\n",
       "      <th>gender_inequality_index_cat</th>\n",
       "    </tr>\n",
       "  </thead>\n",
       "  <tbody>\n",
       "    <tr>\n",
       "      <th>0</th>\n",
       "      <td>Australia</td>\n",
       "      <td>0.120</td>\n",
       "      <td>23.66</td>\n",
       "      <td>True</td>\n",
       "    </tr>\n",
       "    <tr>\n",
       "      <th>1</th>\n",
       "      <td>Austria</td>\n",
       "      <td>0.078</td>\n",
       "      <td>20.63</td>\n",
       "      <td>False</td>\n",
       "    </tr>\n",
       "    <tr>\n",
       "      <th>2</th>\n",
       "      <td>Belgium</td>\n",
       "      <td>0.073</td>\n",
       "      <td>18.03</td>\n",
       "      <td>False</td>\n",
       "    </tr>\n",
       "  </tbody>\n",
       "</table>\n",
       "</div>"
      ],
      "text/plain": [
       "     country  gender_inequality_index  female_stem_graduates_percentage  \\\n",
       "0  Australia                    0.120                             23.66   \n",
       "1    Austria                    0.078                             20.63   \n",
       "2    Belgium                    0.073                             18.03   \n",
       "\n",
       "   gender_inequality_index_cat  \n",
       "0                         True  \n",
       "1                        False  \n",
       "2                        False  "
      ]
     },
     "execution_count": 23,
     "metadata": {},
     "output_type": "execute_result"
    }
   ],
   "source": [
    "# Take a peak at our new column\n",
    "\n",
    "gend_df.head(3)"
   ]
  },
  {
   "cell_type": "markdown",
   "metadata": {},
   "source": [
    "We're now going to run a two-sample t-test with $\\alpha = 0.05$. We're running a one-tailed test, because we expect that the group with above-median gender inequality index will have a higher percentage of female stem graduates. Our null hypothesis is that the group with above-median gender inquality index will have lower (or equal) percentage of female stem graduates."
   ]
  },
  {
   "cell_type": "code",
   "execution_count": 24,
   "metadata": {},
   "outputs": [
    {
     "name": "stdout",
     "output_type": "stream",
     "text": [
      "1.0820714285714281\n"
     ]
    }
   ],
   "source": [
    "# Calculate the difference in means\n",
    "\n",
    "mean_above_median = gend_df[gend_df['gender_inequality_index_cat'] == True]['female_stem_graduates_percentage'].mean()\n",
    "mean_below_median = gend_df[gend_df['gender_inequality_index_cat'] == False]['female_stem_graduates_percentage'].mean()\n",
    "\n",
    "print(mean_above_median - mean_below_median)"
   ]
  },
  {
   "cell_type": "markdown",
   "metadata": {},
   "source": [
    "There is a difference in means between the two groups, with the higher-inequality group having higher mean female STEM graduates. But is this difference statistically significant enough to reject the null hypothesis? Let's check by running the t-test."
   ]
  },
  {
   "cell_type": "code",
   "execution_count": 25,
   "metadata": {},
   "outputs": [
    {
     "data": {
      "text/plain": [
       "Ttest_indResult(statistic=-0.6783800154046294, pvalue=0.5015364299038596)"
      ]
     },
     "execution_count": 25,
     "metadata": {},
     "output_type": "execute_result"
    }
   ],
   "source": [
    "stats.ttest_ind(gend_df[gend_df['gender_inequality_index_cat'] == False]['female_stem_graduates_percentage'],\n",
    "                gend_df[gend_df['gender_inequality_index_cat'] == True]['female_stem_graduates_percentage'])"
   ]
  },
  {
   "cell_type": "markdown",
   "metadata": {},
   "source": [
    "We can see that $p=0.502$, which is not less than $\\alpha = 0.05$, so this t-test fails: we cannot reject the null hypthesis, and have failed to replicate the study. This raises the question: **why**?"
   ]
  },
  {
   "cell_type": "markdown",
   "metadata": {},
   "source": [
    "Let's try to find the correlation coefficient between the percentage of STEM graduates who are female and the gender inequality index as continuous variables (without categorization) to see if perhaps the effect only appeared for the original researchers because they were capturing information our naive categorization of a continuous variable smudged over:"
   ]
  },
  {
   "cell_type": "code",
   "execution_count": 26,
   "metadata": {
    "scrolled": false
   },
   "outputs": [
    {
     "name": "stdout",
     "output_type": "stream",
     "text": [
      "Correlation Coefficient: 0.2019175212513302\n",
      "Two-tailed p-value: 0.2055105145763213\n"
     ]
    }
   ],
   "source": [
    "r, p = stats.pearsonr(gend_df['gender_inequality_index'], gend_df['female_stem_graduates_percentage'])\n",
    "print('Correlation Coefficient:', r)\n",
    "print('Two-tailed p-value:', p)"
   ]
  },
  {
   "cell_type": "markdown",
   "metadata": {},
   "source": [
    "Even still, we do not get significance on a level below $\\alpha = 0.05$. So we still don't know why we haven't replicated the original study.\n",
    "\n",
    "Perhaps we can do a scatter plot of our data and compare with that of the authors. We should transform our measure of gender inequality to one similar to the measure of gender *equality* used by the authors by the transformation $x \\mapsto 1-x$"
   ]
  },
  {
   "cell_type": "code",
   "execution_count": 27,
   "metadata": {
    "scrolled": true
   },
   "outputs": [
    {
     "name": "stderr",
     "output_type": "stream",
     "text": [
      "/Users/flatrionschool/anaconda3/envs/learn-env/lib/python3.6/site-packages/scipy/stats/stats.py:1713: FutureWarning: Using a non-tuple sequence for multidimensional indexing is deprecated; use `arr[tuple(seq)]` instead of `arr[seq]`. In the future this will be interpreted as an array index, `arr[np.array(seq)]`, which will result either in an error or a different result.\n",
      "  return np.add.reduce(sorted[indexer] * weights, axis=axis) / sumval\n"
     ]
    },
    {
     "data": {
      "image/png": "[encoded data removed]",
      "text/plain": [
       "<Figure size 1008x1152 with 1 Axes>"
      ]
     },
     "metadata": {},
     "output_type": "display_data"
    }
   ],
   "source": [
    "sns.set(rc = {'figure.figsize': (14,16)})\n",
    "txt = list(gend_df['country'])\n",
    "x = list(gend_df['female_stem_graduates_percentage'])\n",
    "y = list(1-(gend_df[\"gender_inequality_index\"]))\n",
    "ax = sns.regplot(x,y)\n",
    "ax.set(title = 'graph', xlabel='STEM Grads', ylabel='Gender Equality', xlim = (15,40));\n",
    "for i in range(len(txt)):\n",
    "    ax.annotate(txt[i], (x[i], y[i]));"
   ]
  },
  {
   "cell_type": "markdown",
   "metadata": {},
   "source": [
    "## Female Higher Ed Enrollment versus Proportion of Women Workers in Tech"
   ]
  },
  {
   "cell_type": "code",
   "execution_count": 28,
   "metadata": {},
   "outputs": [],
   "source": [
    "higher_ed_query = '''\n",
    "        SELECT\n",
    "            w. country\n",
    "                AS country,\n",
    "            100*w.female_tech_workforce_thousands / (w.female_workforce_millions * 1000)\n",
    "                AS perc_women_workers_in_tech,\n",
    "            100 * max(t.value) / p.value\n",
    "                AS women_enrolled_in_ter_ed_normalized_by_total_pop\n",
    "        FROM\n",
    "            gender.women_in_tech AS w\n",
    "            JOIN\n",
    "            gender.ter_ed_enrollment AS t\n",
    "            ON w.country = t.country\n",
    "            JOIN gender.population_data_full as p\n",
    "            ON w.country = p.country\n",
    "        WHERE\n",
    "            t.subgroup = \"Female\"\n",
    "        GROUP BY\n",
    "            t.country;'''\n",
    "\n",
    "\n",
    "df_edu = get_data(higher_ed_query)"
   ]
  },
  {
   "cell_type": "code",
   "execution_count": 29,
   "metadata": {},
   "outputs": [],
   "source": [
    "df_edu['women_enrolled_in_ter_ed_normalized_by_total_pop'] = \\\n",
    "    df_edu['women_enrolled_in_ter_ed_normalized_by_total_pop'].astype(float)"
   ]
  },
  {
   "cell_type": "code",
   "execution_count": 30,
   "metadata": {
    "scrolled": true
   },
   "outputs": [
    {
     "data": {
      "text/plain": [
       "count    40.000000\n",
       "mean      1.312017\n",
       "std       0.592916\n",
       "min       0.252336\n",
       "25%       0.852204\n",
       "50%       1.337193\n",
       "75%       1.603316\n",
       "max       2.759690\n",
       "Name: perc_women_workers_in_tech, dtype: float64"
      ]
     },
     "execution_count": 30,
     "metadata": {},
     "output_type": "execute_result"
    }
   ],
   "source": [
    "df_edu['perc_women_workers_in_tech'].describe()"
   ]
  },
  {
   "cell_type": "code",
   "execution_count": 31,
   "metadata": {},
   "outputs": [
    {
     "data": {
      "text/plain": [
       "count    40.000000\n",
       "mean      2.157532\n",
       "std       0.847535\n",
       "min       0.269900\n",
       "25%       1.670275\n",
       "50%       2.096250\n",
       "75%       2.663575\n",
       "max       4.286200\n",
       "Name: women_enrolled_in_ter_ed_normalized_by_total_pop, dtype: float64"
      ]
     },
     "execution_count": 31,
     "metadata": {},
     "output_type": "execute_result"
    }
   ],
   "source": [
    "df_edu['women_enrolled_in_ter_ed_normalized_by_total_pop'].describe()"
   ]
  },
  {
   "cell_type": "code",
   "execution_count": 32,
   "metadata": {},
   "outputs": [
    {
     "data": {
      "image/png": "[encoded data removed]",
      "text/plain": [
       "<Figure size 576x432 with 1 Axes>"
      ]
     },
     "metadata": {},
     "output_type": "display_data"
    }
   ],
   "source": [
    "import matplotlib.pyplot as plt\n",
    "fig, ax = plt.subplots(figsize=(8,6))\n",
    "\n",
    "x = df_edu['women_enrolled_in_ter_ed_normalized_by_total_pop']\n",
    "y = df_edu['perc_women_workers_in_tech']\n",
    "ax.scatter(x,y)\n",
    "ax.set_xlabel(\"Women Enrolled in Tertiary Education \\n (normalized by total population)\")\n",
    "ax.set_ylabel(\"Percentage of Female Workforce \\n that Works in the Tech Industry\")\n",
    "ax.set_title(\"Women Workers Choosing Tech \\n v.s. \\n Female Tertiary Education Enrollment\")\n",
    "plt.show()"
   ]
  },
  {
   "cell_type": "code",
   "execution_count": 33,
   "metadata": {},
   "outputs": [],
   "source": [
    "med2 = df_edu['women_enrolled_in_ter_ed_normalized_by_total_pop'].median()"
   ]
  },
  {
   "cell_type": "code",
   "execution_count": 34,
   "metadata": {},
   "outputs": [],
   "source": [
    "df_edu['women_enrolled_in_ter_ed_normalized_by_total_pop_cat'] = \\\n",
    "    df_edu['women_enrolled_in_ter_ed_normalized_by_total_pop'].apply(lambda x: True if x > med2 else False)"
   ]
  },
  {
   "cell_type": "code",
   "execution_count": 35,
   "metadata": {},
   "outputs": [
    {
     "data": {
      "text/html": [
       "<div>\n",
       "<style scoped>\n",
       "    .dataframe tbody tr th:only-of-type {\n",
       "        vertical-align: middle;\n",
       "    }\n",
       "\n",
       "    .dataframe tbody tr th {\n",
       "        vertical-align: top;\n",
       "    }\n",
       "\n",
       "    .dataframe thead th {\n",
       "        text-align: right;\n",
       "    }\n",
       "</style>\n",
       "<table border=\"1\" class=\"dataframe\">\n",
       "  <thead>\n",
       "    <tr style=\"text-align: right;\">\n",
       "      <th></th>\n",
       "      <th>country</th>\n",
       "      <th>perc_women_workers_in_tech</th>\n",
       "      <th>women_enrolled_in_ter_ed_normalized_by_total_pop</th>\n",
       "      <th>women_enrolled_in_ter_ed_normalized_by_total_pop_cat</th>\n",
       "    </tr>\n",
       "  </thead>\n",
       "  <tbody>\n",
       "    <tr>\n",
       "      <th>0</th>\n",
       "      <td>Australia</td>\n",
       "      <td>2.298129</td>\n",
       "      <td>2.2130</td>\n",
       "      <td>True</td>\n",
       "    </tr>\n",
       "    <tr>\n",
       "      <th>1</th>\n",
       "      <td>Austria</td>\n",
       "      <td>1.461905</td>\n",
       "      <td>1.5511</td>\n",
       "      <td>False</td>\n",
       "    </tr>\n",
       "    <tr>\n",
       "      <th>2</th>\n",
       "      <td>Belgium</td>\n",
       "      <td>1.192140</td>\n",
       "      <td>1.8558</td>\n",
       "      <td>False</td>\n",
       "    </tr>\n",
       "  </tbody>\n",
       "</table>\n",
       "</div>"
      ],
      "text/plain": [
       "     country  perc_women_workers_in_tech  \\\n",
       "0  Australia                    2.298129   \n",
       "1    Austria                    1.461905   \n",
       "2    Belgium                    1.192140   \n",
       "\n",
       "   women_enrolled_in_ter_ed_normalized_by_total_pop  \\\n",
       "0                                            2.2130   \n",
       "1                                            1.5511   \n",
       "2                                            1.8558   \n",
       "\n",
       "   women_enrolled_in_ter_ed_normalized_by_total_pop_cat  \n",
       "0                                               True     \n",
       "1                                              False     \n",
       "2                                              False     "
      ]
     },
     "execution_count": 35,
     "metadata": {},
     "output_type": "execute_result"
    }
   ],
   "source": [
    "df_edu.head(3)"
   ]
  },
  {
   "cell_type": "code",
   "execution_count": 36,
   "metadata": {},
   "outputs": [
    {
     "data": {
      "text/plain": [
       "Ttest_indResult(statistic=1.8221744484533022, pvalue=0.07630582090113038)"
      ]
     },
     "execution_count": 36,
     "metadata": {},
     "output_type": "execute_result"
    }
   ],
   "source": [
    "x = df_edu[df_edu['women_enrolled_in_ter_ed_normalized_by_total_pop_cat'] == True]['perc_women_workers_in_tech']\n",
    "y = df_edu[df_edu['women_enrolled_in_ter_ed_normalized_by_total_pop_cat'] == False]['perc_women_workers_in_tech']\n",
    "stats.ttest_ind(x,y)"
   ]
  },
  {
   "cell_type": "markdown",
   "metadata": {},
   "source": [
    "We have a p value of 0.076, which is not less than $\\alpha=0.05$ as is our threshhold for rejecting the null hypothesis. "
   ]
  },
  {
   "cell_type": "markdown",
   "metadata": {},
   "source": [
    "We can also run a test without our categorization (just as a curiosity: we could not use this result, due to already having done a t-test on the same data)."
   ]
  },
  {
   "cell_type": "code",
   "execution_count": 37,
   "metadata": {
    "scrolled": true
   },
   "outputs": [
    {
     "data": {
      "text/plain": [
       "(0.23181881073105137, 0.1500511224010598)"
      ]
     },
     "execution_count": 37,
     "metadata": {},
     "output_type": "execute_result"
    }
   ],
   "source": [
    "stats.pearsonr(df_edu['perc_women_workers_in_tech'], df_edu['women_enrolled_in_ter_ed_normalized_by_total_pop'])"
   ]
  },
  {
   "cell_type": "markdown",
   "metadata": {},
   "source": [
    "Interestingly, this has an even higher p-value, so we would be even fruther from rejecting the null hypothesis here!\n",
    "\n",
    "It is more likely than not that the null hypothesis is false, but this was not the standard we have set, so we cannot reject the null."
   ]
  }
 ],
 "metadata": {
  "kernelspec": {
   "display_name": "learn-env",
   "language": "python",
   "name": "learn-env"
  },
  "language_info": {
   "codemirror_mode": {
    "name": "ipython",
    "version": 3
   },
   "file_extension": ".py",
   "mimetype": "text/x-python",
   "name": "python",
   "nbconvert_exporter": "python",
   "pygments_lexer": "ipython3",
   "version": "3.6.6"
  }
 },
 "nbformat": 4,
 "nbformat_minor": 2
}
