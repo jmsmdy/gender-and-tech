{
 "cells": [
  {
   "cell_type": "markdown",
   "metadata": {},
   "source": [
    "### Imports and Definitions"
   ]
  },
  {
   "cell_type": "code",
   "execution_count": 36,
   "metadata": {},
   "outputs": [
    {
     "name": "stdout",
     "output_type": "stream",
     "text": [
      "The autoreload extension is already loaded. To reload it, use:\n",
      "  %reload_ext autoreload\n"
     ]
    }
   ],
   "source": [
    "from functions import *\n",
    "from SQL_functions import *\n",
    "from stats_forumulas import *\n",
    "import config\n",
    "import matplotlib.pyplot as plt\n",
    "import mysql.connector\n",
    "from mysql.connector import errorcode\n",
    "import math\n",
    "import pandas as pd\n",
    "import numpy as np\n",
    "%load_ext autoreload\n",
    "%reload_ext autoreload\n",
    "%autoreload 2"
   ]
  },
  {
   "cell_type": "markdown",
   "metadata": {},
   "source": [
    "## Do abortion laws influence how many women end up working in tech?\n",
    "\n",
    "We have two measures of \"women working in tech\":\n",
    " - Prevalence of women in tech (percentage of tech industry workers who are women)\n",
    " - Percentage difference of prevalence of women in tech versus prevalence of women in workforce overall\n",
    " \n",
    " Let's try each of these and see the result."
   ]
  },
  {
   "cell_type": "markdown",
   "metadata": {},
   "source": [
    "#### Influence of Abortion: Using Prevalence of Women in Tech"
   ]
  },
  {
   "cell_type": "code",
   "execution_count": 51,
   "metadata": {},
   "outputs": [],
   "source": [
    "query1 = get_attributes_query(('value', 'laws'), 'abortion_info',\n",
    "                              ('percent_women_in_tech', 'percent_women_in_tech'))"
   ]
  },
  {
   "cell_type": "code",
   "execution_count": 52,
   "metadata": {},
   "outputs": [],
   "source": [
    "df1 = get_data(query1)"
   ]
  },
  {
   "cell_type": "code",
   "execution_count": 54,
   "metadata": {
    "scrolled": true
   },
   "outputs": [
    {
     "name": "stdout",
     "output_type": "stream",
     "text": [
      "                              OLS Regression Results                             \n",
      "=================================================================================\n",
      "Dep. Variable:     percent_women_in_tech   R-squared:                       0.065\n",
      "Model:                               OLS   Adj. R-squared:                 -0.038\n",
      "Method:                    Least Squares   F-statistic:                    0.6297\n",
      "Date:                   Thu, 03 Oct 2019   Prob (F-statistic):              0.644\n",
      "Time:                           14:11:39   Log-Likelihood:                -123.27\n",
      "No. Observations:                     41   AIC:                             256.5\n",
      "Df Residuals:                         36   BIC:                             265.1\n",
      "Df Model:                              4                                         \n",
      "Covariance Type:               nonrobust                                         \n",
      "================================================================================\n",
      "                   coef    std err          t      P>|t|      [0.025      0.975]\n",
      "--------------------------------------------------------------------------------\n",
      "Intercept       15.2500      3.014      5.059      0.000       9.137      21.363\n",
      "C(laws)[T.4]    -2.3400      6.029     -0.388      0.700     -14.567       9.887\n",
      "C(laws)[T.5]     0.7317      3.692      0.198      0.844      -6.756       8.219\n",
      "C(laws)[T.6]     4.0500      4.263      0.950      0.348      -4.596      12.696\n",
      "C(laws)[T.7]     2.8125      3.172      0.887      0.381      -3.620       9.245\n",
      "==============================================================================\n",
      "Omnibus:                        1.834   Durbin-Watson:                   1.885\n",
      "Prob(Omnibus):                  0.400   Jarque-Bera (JB):                1.684\n",
      "Skew:                           0.470   Prob(JB):                        0.431\n",
      "Kurtosis:                       2.682   Cond. No.                         11.5\n",
      "==============================================================================\n",
      "\n",
      "Warnings:\n",
      "[1] Standard Errors assume that the covariance matrix of the errors is correctly specified.\n",
      "              sum_sq    df        F    PR(>F)\n",
      "C(laws)    68.655040   4.0  0.62966  0.644498\n",
      "Residual  981.316408  36.0      NaN       NaN\n"
     ]
    }
   ],
   "source": [
    "anova_table_and_summary(df1, 'percent_women_in_tech', 'C(laws)')"
   ]
  },
  {
   "cell_type": "code",
   "execution_count": 54,
   "metadata": {
    "collapsed": true
   },
   "outputs": [
    {
     "data": {
      "text/plain": [
       "<matplotlib.axes._subplots.AxesSubplot at 0x1c20bfb3c8>"
      ]
     },
     "execution_count": 54,
     "metadata": {},
     "output_type": "execute_result"
    },
    {
     "data": {
      "image/png": "[encoded data removed]",
      "text/plain": [
       "<Figure size 432x288 with 1 Axes>"
      ]
     },
     "metadata": {
      "needs_background": "light"
     },
     "output_type": "display_data"
    }
   ],
   "source": [
    "df1.boxplot('percent_women_in_tech', by='laws')"
   ]
  },
  {
   "cell_type": "markdown",
   "metadata": {},
   "source": [
    "#### Influence of Abortion: % Difference in Prevalence of Women in Tech versus Overall Workforce"
   ]
  },
  {
   "cell_type": "code",
   "execution_count": 39,
   "metadata": {},
   "outputs": [],
   "source": [
    "query2 = get_attributes_query(('value', 'laws'), 'abortion_info',\n",
    "                              ('percent_difference_of_women_in_workforce_and_women_in_tech', 'percent_difference_of_women_in_workforce_and_women_in_tech'))"
   ]
  },
  {
   "cell_type": "code",
   "execution_count": 40,
   "metadata": {},
   "outputs": [],
   "source": [
    "df2 = get_data(query2)"
   ]
  },
  {
   "cell_type": "code",
   "execution_count": 55,
   "metadata": {},
   "outputs": [
    {
     "name": "stdout",
     "output_type": "stream",
     "text": [
      "                                                OLS Regression Results                                                \n",
      "======================================================================================================================\n",
      "Dep. Variable:     percent_difference_of_women_in_workforce_and_women_in_tech   R-squared:                       0.018\n",
      "Model:                                                                    OLS   Adj. R-squared:                 -0.008\n",
      "Method:                                                         Least Squares   F-statistic:                    0.6999\n",
      "Date:                                                        Thu, 03 Oct 2019   Prob (F-statistic):              0.408\n",
      "Time:                                                                14:11:52   Log-Likelihood:                -119.93\n",
      "No. Observations:                                                          41   AIC:                             243.9\n",
      "Df Residuals:                                                              39   BIC:                             247.3\n",
      "Df Model:                                                                   1                                         \n",
      "Covariance Type:                                                    nonrobust                                         \n",
      "================================================================================\n",
      "                   coef    std err          t      P>|t|      [0.025      0.975]\n",
      "--------------------------------------------------------------------------------\n",
      "Intercept      -29.1270      1.462    -19.921      0.000     -32.084     -26.170\n",
      "C(laws)[T.1]     1.4067      1.681      0.837      0.408      -1.994       4.808\n",
      "==============================================================================\n",
      "Omnibus:                        3.693   Durbin-Watson:                   2.310\n",
      "Prob(Omnibus):                  0.158   Jarque-Bera (JB):                2.872\n",
      "Skew:                           0.645   Prob(JB):                        0.238\n",
      "Kurtosis:                       3.139   Cond. No.                         3.83\n",
      "==============================================================================\n",
      "\n",
      "Warnings:\n",
      "[1] Standard Errors assume that the covariance matrix of the errors is correctly specified.\n",
      "              sum_sq    df         F    PR(>F)\n",
      "C(laws)    14.961215   1.0  0.699858  0.407928\n",
      "Residual  833.722707  39.0       NaN       NaN\n"
     ]
    }
   ],
   "source": [
    "anova_table_and_summary(df2, 'percent_difference_of_women_in_workforce_and_women_in_tech', 'C(laws)')"
   ]
  },
  {
   "cell_type": "code",
   "execution_count": 59,
   "metadata": {
    "collapsed": true
   },
   "outputs": [
    {
     "data": {
      "image/png": "[encoded data removed]",
      "text/plain": [
       "<Figure size 720x720 with 1 Axes>"
      ]
     },
     "metadata": {
      "needs_background": "light"
     },
     "output_type": "display_data"
    }
   ],
   "source": [
    "df2.boxplot('percent_difference_of_women_in_workforce_and_women_in_tech', by='laws',figsize = (10,10));"
   ]
  },
  {
   "cell_type": "markdown",
   "metadata": {},
   "source": [
    "## Let's redo those same tests, but this time with fewer categories (just to see what happens)"
   ]
  },
  {
   "cell_type": "code",
   "execution_count": 45,
   "metadata": {},
   "outputs": [],
   "source": [
    "df1_cat = df1\n",
    "df1_cat['laws'] = df1_cat['laws'].apply(lambda x: 1 if x > 5 else 0)"
   ]
  },
  {
   "cell_type": "code",
   "execution_count": 58,
   "metadata": {
    "collapsed": true
   },
   "outputs": [
    {
     "data": {
      "image/png": "[encoded data removed]",
      "text/plain": [
       "<Figure size 720x720 with 1 Axes>"
      ]
     },
     "metadata": {
      "needs_background": "light"
     },
     "output_type": "display_data"
    }
   ],
   "source": [
    "import matplotlib.pyplot as plt\n",
    "df1.boxplot('percent_women_in_tech', by='laws', figsize = (10,10));"
   ]
  },
  {
   "cell_type": "code",
   "execution_count": 46,
   "metadata": {},
   "outputs": [],
   "source": [
    "df2_cat = df2\n",
    "df2_cat['laws'] = df2['laws'].apply(lambda x: 1 if x > 5 else 0)"
   ]
  },
  {
   "cell_type": "code",
   "execution_count": 62,
   "metadata": {
    "collapsed": true
   },
   "outputs": [
    {
     "name": "stdout",
     "output_type": "stream",
     "text": [
      "                              OLS Regression Results                             \n",
      "=================================================================================\n",
      "Dep. Variable:     percent_women_in_tech   R-squared:                       0.065\n",
      "Model:                               OLS   Adj. R-squared:                 -0.038\n",
      "Method:                    Least Squares   F-statistic:                    0.6297\n",
      "Date:                   Thu, 03 Oct 2019   Prob (F-statistic):              0.644\n",
      "Time:                           14:15:07   Log-Likelihood:                -123.27\n",
      "No. Observations:                     41   AIC:                             256.5\n",
      "Df Residuals:                         36   BIC:                             265.1\n",
      "Df Model:                              4                                         \n",
      "Covariance Type:               nonrobust                                         \n",
      "================================================================================\n",
      "                   coef    std err          t      P>|t|      [0.025      0.975]\n",
      "--------------------------------------------------------------------------------\n",
      "Intercept       15.2500      3.014      5.059      0.000       9.137      21.363\n",
      "C(laws)[T.4]    -2.3400      6.029     -0.388      0.700     -14.567       9.887\n",
      "C(laws)[T.5]     0.7317      3.692      0.198      0.844      -6.756       8.219\n",
      "C(laws)[T.6]     4.0500      4.263      0.950      0.348      -4.596      12.696\n",
      "C(laws)[T.7]     2.8125      3.172      0.887      0.381      -3.620       9.245\n",
      "==============================================================================\n",
      "Omnibus:                        1.834   Durbin-Watson:                   1.885\n",
      "Prob(Omnibus):                  0.400   Jarque-Bera (JB):                1.684\n",
      "Skew:                           0.470   Prob(JB):                        0.431\n",
      "Kurtosis:                       2.682   Cond. No.                         11.5\n",
      "==============================================================================\n",
      "\n",
      "Warnings:\n",
      "[1] Standard Errors assume that the covariance matrix of the errors is correctly specified.\n"
     ]
    }
   ],
   "source": [
    "anova_table_and_summary(df1, 'percent_women_in_tech', 'laws');"
   ]
  },
  {
   "cell_type": "code",
   "execution_count": 60,
   "metadata": {
    "collapsed": true
   },
   "outputs": [
    {
     "name": "stdout",
     "output_type": "stream",
     "text": [
      "                                                OLS Regression Results                                                \n",
      "======================================================================================================================\n",
      "Dep. Variable:     percent_difference_of_women_in_workforce_and_women_in_tech   R-squared:                       0.018\n",
      "Model:                                                                    OLS   Adj. R-squared:                 -0.008\n",
      "Method:                                                         Least Squares   F-statistic:                    0.6999\n",
      "Date:                                                        Thu, 03 Oct 2019   Prob (F-statistic):              0.408\n",
      "Time:                                                                14:13:50   Log-Likelihood:                -119.93\n",
      "No. Observations:                                                          41   AIC:                             243.9\n",
      "Df Residuals:                                                              39   BIC:                             247.3\n",
      "Df Model:                                                                   1                                         \n",
      "Covariance Type:                                                    nonrobust                                         \n",
      "================================================================================\n",
      "                   coef    std err          t      P>|t|      [0.025      0.975]\n",
      "--------------------------------------------------------------------------------\n",
      "Intercept      -29.1270      1.462    -19.921      0.000     -32.084     -26.170\n",
      "C(laws)[T.1]     1.4067      1.681      0.837      0.408      -1.994       4.808\n",
      "==============================================================================\n",
      "Omnibus:                        3.693   Durbin-Watson:                   2.310\n",
      "Prob(Omnibus):                  0.158   Jarque-Bera (JB):                2.872\n",
      "Skew:                           0.645   Prob(JB):                        0.238\n",
      "Kurtosis:                       3.139   Cond. No.                         3.83\n",
      "==============================================================================\n",
      "\n",
      "Warnings:\n",
      "[1] Standard Errors assume that the covariance matrix of the errors is correctly specified.\n",
      "              sum_sq    df         F    PR(>F)\n",
      "C(laws)    14.961215   1.0  0.699858  0.407928\n",
      "Residual  833.722707  39.0       NaN       NaN\n"
     ]
    }
   ],
   "source": [
    "anova_table_and_summary(df2_cat, 'percent_difference_of_women_in_workforce_and_women_in_tech', 'laws')"
   ]
  },
  {
   "cell_type": "code",
   "execution_count": 53,
   "metadata": {},
   "outputs": [
    {
     "data": {
      "text/plain": [
       "<matplotlib.axes._subplots.AxesSubplot at 0x1c20bfb630>"
      ]
     },
     "execution_count": 53,
     "metadata": {},
     "output_type": "execute_result"
    },
    {
     "data": {
      "image/png": "[encoded data removed]",
      "text/plain": [
       "<Figure size 432x288 with 1 Axes>"
      ]
     },
     "metadata": {
      "needs_background": "light"
     },
     "output_type": "display_data"
    }
   ],
   "source": [
    "df2.boxplot('percent_difference_of_women_in_workforce_and_women_in_tech', by='laws')"
   ]
  },
  {
   "cell_type": "markdown",
   "metadata": {},
   "source": [
    "### Attempt to replicate a study when we restrict to only EU + OECD countries:\n",
    "### Does the gender inequality index negatively affect the percentage of STEM graduates who are female?"
   ]
  },
  {
   "cell_type": "code",
   "execution_count": 97,
   "metadata": {},
   "outputs": [],
   "source": [
    "q = get_attributes_query(('gender_inequality_index', 'gender_inequality_index'), \n",
    "                     'women_in_tech', ('female_stem_graduates_percentage','female_stem_graduates_percentage'))"
   ]
  },
  {
   "cell_type": "code",
   "execution_count": 98,
   "metadata": {},
   "outputs": [],
   "source": [
    "gend_df = get_data(q)"
   ]
  },
  {
   "cell_type": "code",
   "execution_count": 111,
   "metadata": {
    "collapsed": true
   },
   "outputs": [
    {
     "data": {
      "text/plain": [
       "country                              object\n",
       "gender_inequality_index               int64\n",
       "female_stem_graduates_percentage    float64\n",
       "dtype: object"
      ]
     },
     "execution_count": 111,
     "metadata": {},
     "output_type": "execute_result"
    }
   ],
   "source": [
    "gend_df.dtypes"
   ]
  },
  {
   "cell_type": "code",
   "execution_count": 100,
   "metadata": {},
   "outputs": [
    {
     "data": {
      "image/png": "[encoded data removed]",
      "text/plain": [
       "<Figure size 432x288 with 1 Axes>"
      ]
     },
     "metadata": {
      "needs_background": "light"
     },
     "output_type": "display_data"
    }
   ],
   "source": [
    "gend_df.boxplot('gender_inequality_index');"
   ]
  },
  {
   "cell_type": "code",
   "execution_count": 101,
   "metadata": {},
   "outputs": [],
   "source": [
    "med = gend_df['gender_inequality_index'].median()"
   ]
  },
  {
   "cell_type": "code",
   "execution_count": 102,
   "metadata": {},
   "outputs": [],
   "source": [
    "gend_df['gender_inequality_index'] = \\\n",
    "    gend_df['gender_inequality_index'].apply(lambda x: 1 if x> med else 0)"
   ]
  },
  {
   "cell_type": "code",
   "execution_count": 103,
   "metadata": {
    "collapsed": true
   },
   "outputs": [
    {
     "data": {
      "image/png": "[encoded data removed]",
      "text/plain": [
       "<Figure size 432x288 with 1 Axes>"
      ]
     },
     "metadata": {
      "needs_background": "light"
     },
     "output_type": "display_data"
    }
   ],
   "source": [
    "gend_df.hist('gender_inequality_index', bins = 20);"
   ]
  },
  {
   "cell_type": "code",
   "execution_count": 119,
   "metadata": {
    "collapsed": true
   },
   "outputs": [
    {
     "data": {
      "text/plain": [
       "1     20.63\n",
       "2     18.03\n",
       "4     24.81\n",
       "7     28.57\n",
       "9     28.57\n",
       "11    20.00\n",
       "12    25.37\n",
       "13    21.26\n",
       "16    27.54\n",
       "18    24.81\n",
       "19    33.33\n",
       "20    15.25\n",
       "21    21.26\n",
       "24    28.57\n",
       "27    18.70\n",
       "29    19.35\n",
       "31    30.56\n",
       "34    21.88\n",
       "35    25.93\n",
       "36    22.48\n",
       "37    21.88\n",
       "Name: female_stem_graduates_percentage, dtype: float64"
      ]
     },
     "execution_count": 119,
     "metadata": {},
     "output_type": "execute_result"
    }
   ],
   "source": [
    "gend_df[gend_df['gender_inequality_index'] == 0]['female_stem_graduates_percentage']"
   ]
  },
  {
   "cell_type": "code",
   "execution_count": 120,
   "metadata": {},
   "outputs": [
    {
     "data": {
      "text/plain": [
       "Ttest_indResult(statistic=-0.6783800154046294, pvalue=0.5015364299038596)"
      ]
     },
     "execution_count": 120,
     "metadata": {},
     "output_type": "execute_result"
    }
   ],
   "source": [
    "stats.ttest_ind(gend_df[gend_df['gender_inequality_index'] == 0]['female_stem_graduates_percentage'],\n",
    "                gend_df[gend_df['gender_inequality_index'] == 1]['female_stem_graduates_percentage'])"
   ]
  },
  {
   "cell_type": "code",
   "execution_count": 122,
   "metadata": {},
   "outputs": [
    {
     "data": {
      "text/plain": [
       "(0.10799245333391644, 0.5015364299038582)"
      ]
     },
     "execution_count": 122,
     "metadata": {},
     "output_type": "execute_result"
    }
   ],
   "source": [
    "stats.pearsonr(gend_df['gender_inequality_index'], gend_df['female_stem_graduates_percentage'])"
   ]
  },
  {
   "cell_type": "code",
   "execution_count": null,
   "metadata": {},
   "outputs": [],
   "source": []
  },
  {
   "cell_type": "code",
   "execution_count": 123,
   "metadata": {},
   "outputs": [],
   "source": [
    "gendf = get_data(q)"
   ]
  },
  {
   "cell_type": "code",
   "execution_count": 164,
   "metadata": {},
   "outputs": [
    {
     "data": {
      "image/png": "[encoded data removed]",
      "text/plain": [
       "<Figure size 1008x1152 with 1 Axes>"
      ]
     },
     "metadata": {},
     "output_type": "display_data"
    }
   ],
   "source": [
    "import seaborn as sns\n",
    "import matplotlib.pyplot as plt\n",
    "sns.set(rc = {'figure.figsize': (14,16)})\n",
    "txt = list(gendf['country'])\n",
    "x = list(gendf['female_stem_graduates_percentage'])\n",
    "y = list(1-(gendf[\"gender_inequality_index\"]))\n",
    "ax = sns.regplot(x,y)\n",
    "ax.set(title = 'graph', xlabel='STEM Grads', ylabel='Gender Equality', xlim = (15,40));\n",
    "for i in range(len(txt)):\n",
    "    ax.annotate(txt[i], (x[i], y[i]))"
   ]
  },
  {
   "cell_type": "markdown",
   "metadata": {},
   "source": [
    "### Female Higher Ed Enrollment versus Proportion of Women Workers in Tech"
   ]
  },
  {
   "cell_type": "code",
   "execution_count": 87,
   "metadata": {},
   "outputs": [],
   "source": [
    "higher_ed_query = '''\n",
    "        SELECT\n",
    "            w. country\n",
    "                AS country,\n",
    "            100*w.female_tech_workforce_thousands / (w.female_workforce_millions * 1000)\n",
    "                AS perc_women_workers_in_tech,\n",
    "            100 * max(t.value) / p.value\n",
    "                AS women_enrolled_in_ter_ed_as_perc_of_total_pop\n",
    "        FROM\n",
    "            gender.women_in_tech AS w\n",
    "            JOIN\n",
    "            gender.ter_ed_enrollment AS t\n",
    "            ON w.country = t.country\n",
    "            JOIN gender.population_data_full as p\n",
    "            ON w.country = p.country\n",
    "        WHERE\n",
    "            t.subgroup = \"Female\"\n",
    "        GROUP BY\n",
    "            t.country;'''\n",
    "\n",
    "\n",
    "df_edu = get_data(higher_ed_query)"
   ]
  },
  {
   "cell_type": "code",
   "execution_count": 88,
   "metadata": {},
   "outputs": [
    {
     "data": {
      "text/html": [
       "<div>\n",
       "<style scoped>\n",
       "    .dataframe tbody tr th:only-of-type {\n",
       "        vertical-align: middle;\n",
       "    }\n",
       "\n",
       "    .dataframe tbody tr th {\n",
       "        vertical-align: top;\n",
       "    }\n",
       "\n",
       "    .dataframe thead th {\n",
       "        text-align: right;\n",
       "    }\n",
       "</style>\n",
       "<table border=\"1\" class=\"dataframe\">\n",
       "  <thead>\n",
       "    <tr style=\"text-align: right;\">\n",
       "      <th></th>\n",
       "      <th>country</th>\n",
       "      <th>perc_women_workers_in_tech</th>\n",
       "      <th>women_enrolled_in_ter_ed_as_perc_of_total_pop</th>\n",
       "    </tr>\n",
       "  </thead>\n",
       "  <tbody>\n",
       "    <tr>\n",
       "      <th>0</th>\n",
       "      <td>Australia</td>\n",
       "      <td>2.298129</td>\n",
       "      <td>2.2130</td>\n",
       "    </tr>\n",
       "    <tr>\n",
       "      <th>1</th>\n",
       "      <td>Austria</td>\n",
       "      <td>1.461905</td>\n",
       "      <td>1.5511</td>\n",
       "    </tr>\n",
       "    <tr>\n",
       "      <th>2</th>\n",
       "      <td>Belgium</td>\n",
       "      <td>1.192140</td>\n",
       "      <td>1.8558</td>\n",
       "    </tr>\n",
       "    <tr>\n",
       "      <th>3</th>\n",
       "      <td>Bulgaria</td>\n",
       "      <td>1.580645</td>\n",
       "      <td>2.2866</td>\n",
       "    </tr>\n",
       "    <tr>\n",
       "      <th>4</th>\n",
       "      <td>Canada</td>\n",
       "      <td>2.434783</td>\n",
       "      <td>2.0209</td>\n",
       "    </tr>\n",
       "    <tr>\n",
       "      <th>5</th>\n",
       "      <td>Chile</td>\n",
       "      <td>1.400562</td>\n",
       "      <td>1.7061</td>\n",
       "    </tr>\n",
       "    <tr>\n",
       "      <th>6</th>\n",
       "      <td>Croatia</td>\n",
       "      <td>0.851852</td>\n",
       "      <td>1.5833</td>\n",
       "    </tr>\n",
       "    <tr>\n",
       "      <th>7</th>\n",
       "      <td>Cyprus</td>\n",
       "      <td>0.842105</td>\n",
       "      <td>0.8780</td>\n",
       "    </tr>\n",
       "    <tr>\n",
       "      <th>8</th>\n",
       "      <td>Czech Republic</td>\n",
       "      <td>0.852321</td>\n",
       "      <td>1.6654</td>\n",
       "    </tr>\n",
       "    <tr>\n",
       "      <th>9</th>\n",
       "      <td>Denmark</td>\n",
       "      <td>1.671329</td>\n",
       "      <td>2.3006</td>\n",
       "    </tr>\n",
       "    <tr>\n",
       "      <th>10</th>\n",
       "      <td>Estonia</td>\n",
       "      <td>1.882353</td>\n",
       "      <td>3.1552</td>\n",
       "    </tr>\n",
       "    <tr>\n",
       "      <th>11</th>\n",
       "      <td>Finland</td>\n",
       "      <td>2.759690</td>\n",
       "      <td>2.9697</td>\n",
       "    </tr>\n",
       "    <tr>\n",
       "      <th>12</th>\n",
       "      <td>France</td>\n",
       "      <td>1.277075</td>\n",
       "      <td>1.8032</td>\n",
       "    </tr>\n",
       "    <tr>\n",
       "      <th>13</th>\n",
       "      <td>Greece</td>\n",
       "      <td>0.302326</td>\n",
       "      <td>3.0803</td>\n",
       "    </tr>\n",
       "    <tr>\n",
       "      <th>14</th>\n",
       "      <td>Hungary</td>\n",
       "      <td>0.985714</td>\n",
       "      <td>2.6068</td>\n",
       "    </tr>\n",
       "    <tr>\n",
       "      <th>15</th>\n",
       "      <td>Iceland</td>\n",
       "      <td>1.888889</td>\n",
       "      <td>2.8339</td>\n",
       "    </tr>\n",
       "    <tr>\n",
       "      <th>16</th>\n",
       "      <td>Ireland</td>\n",
       "      <td>1.494949</td>\n",
       "      <td>2.1416</td>\n",
       "    </tr>\n",
       "    <tr>\n",
       "      <th>17</th>\n",
       "      <td>Israel</td>\n",
       "      <td>1.397312</td>\n",
       "      <td>1.9597</td>\n",
       "    </tr>\n",
       "    <tr>\n",
       "      <th>18</th>\n",
       "      <td>Italy</td>\n",
       "      <td>0.760989</td>\n",
       "      <td>1.8861</td>\n",
       "    </tr>\n",
       "    <tr>\n",
       "      <th>19</th>\n",
       "      <td>Japan</td>\n",
       "      <td>1.399965</td>\n",
       "      <td>1.4646</td>\n",
       "    </tr>\n",
       "    <tr>\n",
       "      <th>20</th>\n",
       "      <td>Korea Rep</td>\n",
       "      <td>1.399913</td>\n",
       "      <td>2.3012</td>\n",
       "    </tr>\n",
       "    <tr>\n",
       "      <th>21</th>\n",
       "      <td>Latvia</td>\n",
       "      <td>0.980000</td>\n",
       "      <td>4.2862</td>\n",
       "    </tr>\n",
       "    <tr>\n",
       "      <th>22</th>\n",
       "      <td>Lithuania</td>\n",
       "      <td>1.118421</td>\n",
       "      <td>4.2119</td>\n",
       "    </tr>\n",
       "    <tr>\n",
       "      <th>23</th>\n",
       "      <td>Luxembourg</td>\n",
       "      <td>1.153846</td>\n",
       "      <td>0.2699</td>\n",
       "    </tr>\n",
       "    <tr>\n",
       "      <th>24</th>\n",
       "      <td>Malta</td>\n",
       "      <td>1.000000</td>\n",
       "      <td>1.1000</td>\n",
       "    </tr>\n",
       "    <tr>\n",
       "      <th>25</th>\n",
       "      <td>Mexico</td>\n",
       "      <td>0.320049</td>\n",
       "      <td>0.9497</td>\n",
       "    </tr>\n",
       "    <tr>\n",
       "      <th>26</th>\n",
       "      <td>Netherlands</td>\n",
       "      <td>1.579327</td>\n",
       "      <td>1.6719</td>\n",
       "    </tr>\n",
       "    <tr>\n",
       "      <th>27</th>\n",
       "      <td>New Zealand</td>\n",
       "      <td>1.401626</td>\n",
       "      <td>2.9111</td>\n",
       "    </tr>\n",
       "    <tr>\n",
       "      <th>28</th>\n",
       "      <td>Norway</td>\n",
       "      <td>1.692308</td>\n",
       "      <td>2.3983</td>\n",
       "    </tr>\n",
       "    <tr>\n",
       "      <th>29</th>\n",
       "      <td>Poland</td>\n",
       "      <td>0.807742</td>\n",
       "      <td>3.2073</td>\n",
       "    </tr>\n",
       "    <tr>\n",
       "      <th>30</th>\n",
       "      <td>Portugal</td>\n",
       "      <td>0.691700</td>\n",
       "      <td>2.2064</td>\n",
       "    </tr>\n",
       "    <tr>\n",
       "      <th>31</th>\n",
       "      <td>Romania</td>\n",
       "      <td>1.122137</td>\n",
       "      <td>2.0730</td>\n",
       "    </tr>\n",
       "    <tr>\n",
       "      <th>32</th>\n",
       "      <td>Slovakia</td>\n",
       "      <td>0.544000</td>\n",
       "      <td>1.8420</td>\n",
       "    </tr>\n",
       "    <tr>\n",
       "      <th>33</th>\n",
       "      <td>Slovenia</td>\n",
       "      <td>1.217391</td>\n",
       "      <td>3.1385</td>\n",
       "    </tr>\n",
       "    <tr>\n",
       "      <th>34</th>\n",
       "      <td>Spain</td>\n",
       "      <td>0.808671</td>\n",
       "      <td>2.1195</td>\n",
       "    </tr>\n",
       "    <tr>\n",
       "      <th>35</th>\n",
       "      <td>Sweden</td>\n",
       "      <td>2.577689</td>\n",
       "      <td>2.5125</td>\n",
       "    </tr>\n",
       "    <tr>\n",
       "      <th>36</th>\n",
       "      <td>Switzerland</td>\n",
       "      <td>1.398230</td>\n",
       "      <td>1.0796</td>\n",
       "    </tr>\n",
       "    <tr>\n",
       "      <th>37</th>\n",
       "      <td>Turkey</td>\n",
       "      <td>0.252336</td>\n",
       "      <td>1.0713</td>\n",
       "    </tr>\n",
       "    <tr>\n",
       "      <th>38</th>\n",
       "      <td>United Kingdom</td>\n",
       "      <td>1.680206</td>\n",
       "      <td>1.9678</td>\n",
       "    </tr>\n",
       "    <tr>\n",
       "      <th>39</th>\n",
       "      <td>United States of America</td>\n",
       "      <td>2.000054</td>\n",
       "      <td>3.0213</td>\n",
       "    </tr>\n",
       "  </tbody>\n",
       "</table>\n",
       "</div>"
      ],
      "text/plain": [
       "                     country  perc_women_workers_in_tech  \\\n",
       "0                  Australia                    2.298129   \n",
       "1                    Austria                    1.461905   \n",
       "2                    Belgium                    1.192140   \n",
       "3                   Bulgaria                    1.580645   \n",
       "4                     Canada                    2.434783   \n",
       "5                      Chile                    1.400562   \n",
       "6                    Croatia                    0.851852   \n",
       "7                     Cyprus                    0.842105   \n",
       "8             Czech Republic                    0.852321   \n",
       "9                    Denmark                    1.671329   \n",
       "10                   Estonia                    1.882353   \n",
       "11                   Finland                    2.759690   \n",
       "12                    France                    1.277075   \n",
       "13                    Greece                    0.302326   \n",
       "14                   Hungary                    0.985714   \n",
       "15                   Iceland                    1.888889   \n",
       "16                   Ireland                    1.494949   \n",
       "17                    Israel                    1.397312   \n",
       "18                     Italy                    0.760989   \n",
       "19                     Japan                    1.399965   \n",
       "20                 Korea Rep                    1.399913   \n",
       "21                    Latvia                    0.980000   \n",
       "22                 Lithuania                    1.118421   \n",
       "23                Luxembourg                    1.153846   \n",
       "24                     Malta                    1.000000   \n",
       "25                    Mexico                    0.320049   \n",
       "26               Netherlands                    1.579327   \n",
       "27               New Zealand                    1.401626   \n",
       "28                    Norway                    1.692308   \n",
       "29                    Poland                    0.807742   \n",
       "30                  Portugal                    0.691700   \n",
       "31                   Romania                    1.122137   \n",
       "32                  Slovakia                    0.544000   \n",
       "33                  Slovenia                    1.217391   \n",
       "34                     Spain                    0.808671   \n",
       "35                    Sweden                    2.577689   \n",
       "36               Switzerland                    1.398230   \n",
       "37                    Turkey                    0.252336   \n",
       "38            United Kingdom                    1.680206   \n",
       "39  United States of America                    2.000054   \n",
       "\n",
       "   women_enrolled_in_ter_ed_as_perc_of_total_pop  \n",
       "0                                         2.2130  \n",
       "1                                         1.5511  \n",
       "2                                         1.8558  \n",
       "3                                         2.2866  \n",
       "4                                         2.0209  \n",
       "5                                         1.7061  \n",
       "6                                         1.5833  \n",
       "7                                         0.8780  \n",
       "8                                         1.6654  \n",
       "9                                         2.3006  \n",
       "10                                        3.1552  \n",
       "11                                        2.9697  \n",
       "12                                        1.8032  \n",
       "13                                        3.0803  \n",
       "14                                        2.6068  \n",
       "15                                        2.8339  \n",
       "16                                        2.1416  \n",
       "17                                        1.9597  \n",
       "18                                        1.8861  \n",
       "19                                        1.4646  \n",
       "20                                        2.3012  \n",
       "21                                        4.2862  \n",
       "22                                        4.2119  \n",
       "23                                        0.2699  \n",
       "24                                        1.1000  \n",
       "25                                        0.9497  \n",
       "26                                        1.6719  \n",
       "27                                        2.9111  \n",
       "28                                        2.3983  \n",
       "29                                        3.2073  \n",
       "30                                        2.2064  \n",
       "31                                        2.0730  \n",
       "32                                        1.8420  \n",
       "33                                        3.1385  \n",
       "34                                        2.1195  \n",
       "35                                        2.5125  \n",
       "36                                        1.0796  \n",
       "37                                        1.0713  \n",
       "38                                        1.9678  \n",
       "39                                        3.0213  "
      ]
     },
     "execution_count": 88,
     "metadata": {},
     "output_type": "execute_result"
    }
   ],
   "source": [
    "df_edu"
   ]
  },
  {
   "cell_type": "code",
   "execution_count": null,
   "metadata": {},
   "outputs": [],
   "source": []
  }
 ],
 "metadata": {
  "kernelspec": {
   "display_name": "learn-env",
   "language": "python",
   "name": "learn-env"
  },
  "language_info": {
   "codemirror_mode": {
    "name": "ipython",
    "version": 3
   },
   "file_extension": ".py",
   "mimetype": "text/x-python",
   "name": "python",
   "nbconvert_exporter": "python",
   "pygments_lexer": "ipython3",
   "version": "3.6.6"
  }
 },
 "nbformat": 4,
 "nbformat_minor": 2
}
