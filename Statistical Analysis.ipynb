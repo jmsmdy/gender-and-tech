{
 "cells": [
  {
   "cell_type": "markdown",
   "metadata": {},
   "source": [
    "### Imports and Definitions"
   ]
  },
  {
   "cell_type": "code",
   "execution_count": 13,
   "metadata": {},
   "outputs": [
    {
     "name": "stdout",
     "output_type": "stream",
     "text": [
      "The autoreload extension is already loaded. To reload it, use:\n",
      "  %reload_ext autoreload\n"
     ]
    }
   ],
   "source": [
    "from functions import *\n",
    "from SQL_functions import *\n",
    "from stats_forumulas import *\n",
    "import config\n",
    "import matplotlib.pyplot as plt\n",
    "import mysql.connector\n",
    "from mysql.connector import errorcode\n",
    "import math\n",
    "import pandas as pd\n",
    "import numpy as np\n",
    "%load_ext autoreload\n",
    "%reload_ext autoreload\n",
    "%autoreload 2"
   ]
  },
  {
   "cell_type": "markdown",
   "metadata": {},
   "source": [
    "### Running Queries Between Tables"
   ]
  },
  {
   "cell_type": "code",
   "execution_count": 5,
   "metadata": {},
   "outputs": [],
   "source": [
    "query1 = get_attributes_query(('value', 'laws'), 'abortion_info',\n",
    "                              ('percent_women_in_tech', 'percent_women_in_tech'))"
   ]
  },
  {
   "cell_type": "code",
   "execution_count": 7,
   "metadata": {},
   "outputs": [],
   "source": [
    "df1 = get_data(query1)"
   ]
  },
  {
   "cell_type": "code",
   "execution_count": 16,
   "metadata": {},
   "outputs": [],
   "source": [
    "query2 = get_attributes_query(('value', 'laws'), 'abortion_info',\n",
    "                              ('percent_difference_of_women_in_workforce_and_women_in_tech', 'percent_difference_of_women_in_workforce_and_women_in_tech'))"
   ]
  },
  {
   "cell_type": "code",
   "execution_count": 17,
   "metadata": {},
   "outputs": [],
   "source": [
    "df2 = get_data(query2)"
   ]
  },
  {
   "cell_type": "markdown",
   "metadata": {},
   "source": [
    "## Stats Testing "
   ]
  },
  {
   "cell_type": "code",
   "execution_count": 14,
   "metadata": {
    "collapsed": true
   },
   "outputs": [
    {
     "name": "stdout",
     "output_type": "stream",
     "text": [
      "                              OLS Regression Results                             \n",
      "=================================================================================\n",
      "Dep. Variable:     percent_women_in_tech   R-squared:                       0.039\n",
      "Model:                               OLS   Adj. R-squared:                  0.014\n",
      "Method:                    Least Squares   F-statistic:                     1.576\n",
      "Date:                   Thu, 03 Oct 2019   Prob (F-statistic):              0.217\n",
      "Time:                           13:30:31   Log-Likelihood:                -123.84\n",
      "No. Observations:                     41   AIC:                             251.7\n",
      "Df Residuals:                         39   BIC:                             255.1\n",
      "Df Model:                              1                                         \n",
      "Covariance Type:               nonrobust                                         \n",
      "==============================================================================\n",
      "                 coef    std err          t      P>|t|      [0.025      0.975]\n",
      "------------------------------------------------------------------------------\n",
      "Intercept     13.8292      3.043      4.545      0.000       7.674      19.984\n",
      "laws           0.6024      0.480      1.255      0.217      -0.368       1.573\n",
      "==============================================================================\n",
      "Omnibus:                        2.104   Durbin-Watson:                   1.844\n",
      "Prob(Omnibus):                  0.349   Jarque-Bera (JB):                1.984\n",
      "Skew:                           0.494   Prob(JB):                        0.371\n",
      "Kurtosis:                       2.568   Cond. No.                         24.9\n",
      "==============================================================================\n",
      "\n",
      "Warnings:\n",
      "[1] Standard Errors assume that the covariance matrix of the errors is correctly specified.\n",
      "               sum_sq    df         F    PR(>F)\n",
      "laws        40.785724   1.0  1.576165  0.216784\n",
      "Residual  1009.185725  39.0       NaN       NaN\n"
     ]
    }
   ],
   "source": [
    "anova_table_and_summary(df1, 'percent_women_in_tech', 'laws')"
   ]
  },
  {
   "cell_type": "code",
   "execution_count": 19,
   "metadata": {
    "collapsed": true
   },
   "outputs": [
    {
     "name": "stdout",
     "output_type": "stream",
     "text": [
      "                                                OLS Regression Results                                                \n",
      "======================================================================================================================\n",
      "Dep. Variable:     percent_difference_of_women_in_workforce_and_women_in_tech   R-squared:                       0.000\n",
      "Model:                                                                    OLS   Adj. R-squared:                 -0.026\n",
      "Method:                                                         Least Squares   F-statistic:                  0.004581\n",
      "Date:                                                        Thu, 03 Oct 2019   Prob (F-statistic):              0.946\n",
      "Time:                                                                13:31:44   Log-Likelihood:                -120.29\n",
      "No. Observations:                                                          41   AIC:                             244.6\n",
      "Df Residuals:                                                              39   BIC:                             248.0\n",
      "Df Model:                                                                   1                                         \n",
      "Covariance Type:                                                    nonrobust                                         \n",
      "==============================================================================\n",
      "                 coef    std err          t      P>|t|      [0.025      0.975]\n",
      "------------------------------------------------------------------------------\n",
      "Intercept    -28.2457      2.790    -10.122      0.000     -33.890     -22.602\n",
      "laws           0.0298      0.440      0.068      0.946      -0.860       0.920\n",
      "==============================================================================\n",
      "Omnibus:                        5.027   Durbin-Watson:                   2.292\n",
      "Prob(Omnibus):                  0.081   Jarque-Bera (JB):                3.943\n",
      "Skew:                           0.739   Prob(JB):                        0.139\n",
      "Kurtosis:                       3.349   Cond. No.                         24.9\n",
      "==============================================================================\n",
      "\n",
      "Warnings:\n",
      "[1] Standard Errors assume that the covariance matrix of the errors is correctly specified.\n",
      "              sum_sq    df         F    PR(>F)\n",
      "laws        0.099679   1.0  0.004581  0.946383\n",
      "Residual  848.584243  39.0       NaN       NaN\n"
     ]
    }
   ],
   "source": [
    "anova_table_and_summary(df2, 'percent_difference_of_women_in_workforce_and_women_in_tech', 'laws')"
   ]
  },
  {
   "cell_type": "code",
   "execution_count": 20,
   "metadata": {},
   "outputs": [
    {
     "data": {
      "text/plain": [
       "<matplotlib.axes._subplots.AxesSubplot at 0x1c26672cc0>"
      ]
     },
     "execution_count": 20,
     "metadata": {},
     "output_type": "execute_result"
    },
    {
     "data": {
      "image/png": "[encoded data removed]",
      "text/plain": [
       "<Figure size 432x288 with 1 Axes>"
      ]
     },
     "metadata": {
      "needs_background": "light"
     },
     "output_type": "display_data"
    }
   ],
   "source": [
    "df2.boxplot('percent_difference_of_women_in_workforce_and_women_in_tech', by='laws')"
   ]
  },
  {
   "cell_type": "code",
   "execution_count": 47,
   "metadata": {},
   "outputs": [
    {
     "data": {
      "text/plain": [
       "<matplotlib.axes._subplots.AxesSubplot at 0x1c2117ea90>"
      ]
     },
     "execution_count": 47,
     "metadata": {},
     "output_type": "execute_result"
    },
    {
     "data": {
      "image/png": "[encoded data removed]",
      "text/plain": [
       "<Figure size 432x288 with 1 Axes>"
      ]
     },
     "metadata": {
      "needs_background": "light"
     },
     "output_type": "display_data"
    }
   ],
   "source": [
    "import matplotlib.pyplot as plt\n",
    "df1.boxplot('percent_women_in_tech', by='laws')"
   ]
  },
  {
   "cell_type": "code",
   "execution_count": 23,
   "metadata": {},
   "outputs": [],
   "source": [
    "df1_cat = df1\n",
    "df1_cat['laws'] = df1['laws'].apply(lambda x: 1 if x > 5 else 0)"
   ]
  },
  {
   "cell_type": "code",
   "execution_count": 24,
   "metadata": {},
   "outputs": [],
   "source": [
    "df2_cat = df2\n",
    "df2_cat['laws'] = df2['laws'].apply(lambda x: 1 if x > 5 else 0)"
   ]
  },
  {
   "cell_type": "code",
   "execution_count": 25,
   "metadata": {},
   "outputs": [
    {
     "name": "stdout",
     "output_type": "stream",
     "text": [
      "                              OLS Regression Results                             \n",
      "=================================================================================\n",
      "Dep. Variable:     percent_women_in_tech   R-squared:                       0.000\n",
      "Model:                               OLS   Adj. R-squared:                  0.000\n",
      "Method:                    Least Squares   F-statistic:                       inf\n",
      "Date:                   Thu, 03 Oct 2019   Prob (F-statistic):                nan\n",
      "Time:                           13:56:26   Log-Likelihood:                -124.66\n",
      "No. Observations:                     41   AIC:                             251.3\n",
      "Df Residuals:                         40   BIC:                             253.0\n",
      "Df Model:                              0                                         \n",
      "Covariance Type:               nonrobust                                         \n",
      "==============================================================================\n",
      "                 coef    std err          t      P>|t|      [0.025      0.975]\n",
      "------------------------------------------------------------------------------\n",
      "Intercept     17.5171      0.800     21.892      0.000      15.900      19.134\n",
      "laws                0          0        nan        nan           0           0\n",
      "==============================================================================\n",
      "Omnibus:                        3.118   Durbin-Watson:                   1.770\n",
      "Prob(Omnibus):                  0.210   Jarque-Bera (JB):                2.858\n",
      "Skew:                           0.628   Prob(JB):                        0.240\n",
      "Kurtosis:                       2.692   Cond. No.                          inf\n",
      "==============================================================================\n",
      "\n",
      "Warnings:\n",
      "[1] Standard Errors assume that the covariance matrix of the errors is correctly specified.\n",
      "[2] The smallest eigenvalue is      0. This might indicate that there are\n",
      "strong multicollinearity problems or that the design matrix is singular.\n",
      "               sum_sq    df   F  PR(>F)\n",
      "laws              NaN   1.0 NaN     NaN\n",
      "Residual  1049.971449  40.0 NaN     NaN\n"
     ]
    },
    {
     "name": "stderr",
     "output_type": "stream",
     "text": [
      "//anaconda3/lib/python3.7/site-packages/statsmodels/regression/linear_model.py:1755: RuntimeWarning: divide by zero encountered in double_scalars\n",
      "  return np.sqrt(eigvals[0]/eigvals[-1])\n",
      "//anaconda3/lib/python3.7/site-packages/statsmodels/regression/linear_model.py:1657: RuntimeWarning: divide by zero encountered in double_scalars\n",
      "  return self.ess/self.df_model\n",
      "//anaconda3/lib/python3.7/site-packages/statsmodels/base/model.py:1294: RuntimeWarning: invalid value encountered in true_divide\n",
      "  return self.params / self.bse\n",
      "//anaconda3/lib/python3.7/site-packages/scipy/stats/_distn_infrastructure.py:901: RuntimeWarning: invalid value encountered in greater\n",
      "  return (a < x) & (x < b)\n",
      "//anaconda3/lib/python3.7/site-packages/scipy/stats/_distn_infrastructure.py:901: RuntimeWarning: invalid value encountered in less\n",
      "  return (a < x) & (x < b)\n",
      "//anaconda3/lib/python3.7/site-packages/scipy/stats/_distn_infrastructure.py:1892: RuntimeWarning: invalid value encountered in less_equal\n",
      "  cond2 = cond0 & (x <= _a)\n",
      "//anaconda3/lib/python3.7/site-packages/statsmodels/base/model.py:1752: ValueWarning: covariance of constraints does not have full rank. The number of constraints is 1, but rank is 0\n",
      "  'rank is %d' % (J, J_), ValueWarning)\n",
      "//anaconda3/lib/python3.7/site-packages/statsmodels/base/model.py:1768: RuntimeWarning: invalid value encountered in true_divide\n",
      "  F /= J\n"
     ]
    }
   ],
   "source": [
    "anova_table_and_summary(df1_cat, 'percent_women_in_tech', 'laws')"
   ]
  },
  {
   "cell_type": "code",
   "execution_count": 26,
   "metadata": {},
   "outputs": [
    {
     "name": "stdout",
     "output_type": "stream",
     "text": [
      "                                                OLS Regression Results                                                \n",
      "======================================================================================================================\n",
      "Dep. Variable:     percent_difference_of_women_in_workforce_and_women_in_tech   R-squared:                       0.018\n",
      "Model:                                                                    OLS   Adj. R-squared:                 -0.008\n",
      "Method:                                                         Least Squares   F-statistic:                    0.6999\n",
      "Date:                                                        Thu, 03 Oct 2019   Prob (F-statistic):              0.408\n",
      "Time:                                                                13:56:26   Log-Likelihood:                -119.93\n",
      "No. Observations:                                                          41   AIC:                             243.9\n",
      "Df Residuals:                                                              39   BIC:                             247.3\n",
      "Df Model:                                                                   1                                         \n",
      "Covariance Type:                                                    nonrobust                                         \n",
      "==============================================================================\n",
      "                 coef    std err          t      P>|t|      [0.025      0.975]\n",
      "------------------------------------------------------------------------------\n",
      "Intercept    -29.1270      1.462    -19.921      0.000     -32.084     -26.170\n",
      "laws           1.4067      1.681      0.837      0.408      -1.994       4.808\n",
      "==============================================================================\n",
      "Omnibus:                        3.693   Durbin-Watson:                   2.310\n",
      "Prob(Omnibus):                  0.158   Jarque-Bera (JB):                2.872\n",
      "Skew:                           0.645   Prob(JB):                        0.238\n",
      "Kurtosis:                       3.139   Cond. No.                         3.83\n",
      "==============================================================================\n",
      "\n",
      "Warnings:\n",
      "[1] Standard Errors assume that the covariance matrix of the errors is correctly specified.\n",
      "              sum_sq    df         F    PR(>F)\n",
      "laws       14.961215   1.0  0.699858  0.407928\n",
      "Residual  833.722707  39.0       NaN       NaN\n"
     ]
    }
   ],
   "source": [
    "anova_table_and_summary(df2_cat, 'percent_difference_of_women_in_workforce_and_women_in_tech', 'laws')"
   ]
  },
  {
   "cell_type": "code",
   "execution_count": 53,
   "metadata": {},
   "outputs": [
    {
     "data": {
      "text/plain": [
       "<matplotlib.axes._subplots.AxesSubplot at 0x1c20bfb630>"
      ]
     },
     "execution_count": 53,
     "metadata": {},
     "output_type": "execute_result"
    },
    {
     "data": {
      "image/png": "[encoded data removed]",
      "text/plain": [
       "<Figure size 432x288 with 1 Axes>"
      ]
     },
     "metadata": {
      "needs_background": "light"
     },
     "output_type": "display_data"
    }
   ],
   "source": [
    "\n",
    "df2.boxplot('percent_difference_of_women_in_workforce_and_women_in_tech', by='laws')"
   ]
  },
  {
   "cell_type": "code",
   "execution_count": 54,
   "metadata": {},
   "outputs": [
    {
     "data": {
      "text/plain": [
       "<matplotlib.axes._subplots.AxesSubplot at 0x1c20bfb3c8>"
      ]
     },
     "execution_count": 54,
     "metadata": {},
     "output_type": "execute_result"
    },
    {
     "data": {
      "image/png": "[encoded data removed]",
      "text/plain": [
       "<Figure size 432x288 with 1 Axes>"
      ]
     },
     "metadata": {
      "needs_background": "light"
     },
     "output_type": "display_data"
    }
   ],
   "source": [
    "import matplotlib.pyplot as plt\n",
    "df1.boxplot('percent_women_in_tech', by='laws')"
   ]
  },
  {
   "cell_type": "code",
   "execution_count": null,
   "metadata": {},
   "outputs": [],
   "source": []
  },
  {
   "cell_type": "code",
   "execution_count": null,
   "metadata": {},
   "outputs": [],
   "source": []
  }
 ],
 "metadata": {
  "kernelspec": {
   "display_name": "Python 3",
   "language": "python",
   "name": "python3"
  },
  "language_info": {
   "codemirror_mode": {
    "name": "ipython",
    "version": 3
   },
   "file_extension": ".py",
   "mimetype": "text/x-python",
   "name": "python",
   "nbconvert_exporter": "python",
   "pygments_lexer": "ipython3",
   "version": "3.7.3"
  }
 },
 "nbformat": 4,
 "nbformat_minor": 2
}
