{
 "cells": [
  {
   "cell_type": "code",
   "execution_count": 1,
   "metadata": {},
   "outputs": [],
   "source": [
    "import pandas as pd"
   ]
  },
  {
   "cell_type": "code",
   "execution_count": 2,
   "metadata": {},
   "outputs": [],
   "source": [
    "df = pd.read_csv('Data To Use/Honeypot_Women_in_Tech.csv')"
   ]
  },
  {
   "cell_type": "code",
   "execution_count": 3,
   "metadata": {},
   "outputs": [],
   "source": [
    "countries = list(df['Country'])"
   ]
  },
  {
   "cell_type": "code",
   "execution_count": 4,
   "metadata": {},
   "outputs": [
    {
     "data": {
      "text/plain": [
       "['Portugal',\n",
       " 'United States',\n",
       " 'Latvia',\n",
       " 'Finland',\n",
       " 'France',\n",
       " 'Sweden',\n",
       " 'United Kingdom',\n",
       " 'Estonia',\n",
       " 'Spain',\n",
       " 'Cyprus',\n",
       " 'Iceland',\n",
       " 'Turkey',\n",
       " 'New Zealand',\n",
       " 'Netherlands',\n",
       " 'Canada',\n",
       " 'Croatia',\n",
       " 'Ireland',\n",
       " 'Austria',\n",
       " 'Bulgaria',\n",
       " 'South Korea',\n",
       " 'Mexico',\n",
       " 'Norway',\n",
       " 'Switzerland',\n",
       " 'Chile',\n",
       " 'Israel',\n",
       " 'Belgium',\n",
       " 'Germany',\n",
       " 'Japan',\n",
       " 'Denmark',\n",
       " 'Australia',\n",
       " 'Malta',\n",
       " 'Slovenia',\n",
       " 'Hungary',\n",
       " 'Italy',\n",
       " 'Czech Republic',\n",
       " 'Romania',\n",
       " 'Luxembourg',\n",
       " 'Slovak Republic',\n",
       " 'Greece',\n",
       " 'Lithuania',\n",
       " 'Poland']"
      ]
     },
     "execution_count": 4,
     "metadata": {},
     "output_type": "execute_result"
    }
   ],
   "source": [
    "countries"
   ]
  },
  {
   "cell_type": "code",
   "execution_count": 5,
   "metadata": {},
   "outputs": [
    {
     "name": "stdout",
     "output_type": "stream",
     "text": [
      "The autoreload extension is already loaded. To reload it, use:\n",
      "  %reload_ext autoreload\n"
     ]
    }
   ],
   "source": [
    "from functions import *\n",
    "import config\n",
    "import mysql.connector\n",
    "from mysql.connector import errorcode\n",
    "import math\n",
    "import pandas as pd\n",
    "import numpy as np\n",
    "%load_ext autoreload\n",
    "%reload_ext autoreload\n",
    "%autoreload 2"
   ]
  },
  {
   "cell_type": "code",
   "execution_count": 6,
   "metadata": {},
   "outputs": [],
   "source": [
    "cur, cnx = connect_to_db('gender')"
   ]
  },
  {
   "cell_type": "code",
   "execution_count": 7,
   "metadata": {},
   "outputs": [],
   "source": [
    "tables = ['child_birth_rate',\n",
    "          'contraceptive_prevalence',\n",
    "          'gender_urban_ratio',\n",
    "          'gender_rural_ratio',\n",
    "          'ter_ed_enrollment',\n",
    "          'women_teach_sec',\n",
    "          'women_teach_ter',\n",
    "          'abortion_laws',\n",
    "          'abortion_rate']"
   ]
  },
  {
   "cell_type": "code",
   "execution_count": 12,
   "metadata": {},
   "outputs": [],
   "source": [
    "def query(table):\n",
    "    result = f'''\n",
    "        SELECT DISTINCT country FROM {table}\n",
    "        '''\n",
    "    return result"
   ]
  },
  {
   "cell_type": "code",
   "execution_count": 21,
   "metadata": {},
   "outputs": [],
   "source": [
    "thing = {}\n",
    "for table in tables:\n",
    "    cur.execute(query(table))\n",
    "    thing[table] = list(map(lambda x: x[0], cur.fetchall()))"
   ]
  },
  {
   "cell_type": "code",
   "execution_count": 25,
   "metadata": {},
   "outputs": [
    {
     "name": "stdout",
     "output_type": "stream",
     "text": [
      "child_birth_rate ['United States', 'France', 'Sweden', 'United Kingdom', 'Spain', 'Cyprus', 'Iceland', 'New Zealand', 'Netherlands', 'Ireland', 'Bulgaria', 'South Korea', 'Norway', 'Switzerland', 'Chile', 'Israel', 'Belgium', 'Germany', 'Japan', 'Denmark', 'Australia', 'Malta', 'Italy', 'Slovak Republic', 'Greece', 'Poland']\n",
      "\n",
      "contraceptive_prevalence ['Portugal', 'United States', 'Finland', 'Sweden', 'Cyprus', 'Iceland', 'Croatia', 'Ireland', 'South Korea', 'Norway', 'Chile', 'Israel', 'Denmark', 'Australia', 'Malta', 'Luxembourg', 'Slovak Republic', 'Greece']\n",
      "\n",
      "gender_urban_ratio ['United States', 'South Korea', 'Belgium', 'Germany', 'Denmark', 'Malta', 'Italy', 'Luxembourg', 'Slovak Republic']\n",
      "\n",
      "gender_rural_ratio ['United States', 'South Korea', 'Belgium', 'Germany', 'Denmark', 'Malta', 'Italy', 'Luxembourg', 'Slovak Republic']\n",
      "\n",
      "ter_ed_enrollment ['United States', 'South Korea', 'Germany', 'Slovak Republic']\n",
      "\n",
      "women_teach_sec ['United States', 'Turkey', 'Ireland', 'South Korea', 'Switzerland', 'Australia', 'Slovak Republic']\n",
      "\n",
      "women_teach_ter ['United States', 'South Korea', 'Mexico', 'Chile', 'Israel', 'Denmark', 'Australia', 'Luxembourg', 'Slovak Republic']\n",
      "\n",
      "abortion_laws ['United States', 'South Korea', 'Slovak Republic']\n",
      "\n",
      "abortion_rate ['United States', 'Cyprus', 'Turkey', 'Ireland', 'South Korea', 'Chile', 'Malta', 'Luxembourg', 'Slovak Republic']\n",
      "\n"
     ]
    }
   ],
   "source": [
    "for table in thing.keys():\n",
    "    print(table, [x for x in countries if x not in thing[table]])\n",
    "    print('')"
   ]
  },
  {
   "cell_type": "code",
   "execution_count": 26,
   "metadata": {},
   "outputs": [],
   "source": [
    "fix_germany_query = '''UPDATE gender.gender_rural_ratio\n",
    "SET country = \n",
    "IF(country = \"German Democratic Republic (former)\",\"Germany\", country)\n",
    "WHERE country = country;'''\n"
   ]
  },
  {
   "cell_type": "code",
   "execution_count": null,
   "metadata": {},
   "outputs": [],
   "source": []
  }
 ],
 "metadata": {
  "kernelspec": {
   "display_name": "learn-env",
   "language": "python",
   "name": "learn-env"
  },
  "language_info": {
   "codemirror_mode": {
    "name": "ipython",
    "version": 3
   },
   "file_extension": ".py",
   "mimetype": "text/x-python",
   "name": "python",
   "nbconvert_exporter": "python",
   "pygments_lexer": "ipython3",
   "version": "3.6.6"
  }
 },
 "nbformat": 4,
 "nbformat_minor": 2
}
