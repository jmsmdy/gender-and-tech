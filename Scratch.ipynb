{
 "cells": [
  {
   "cell_type": "code",
   "execution_count": 56,
   "metadata": {},
   "outputs": [],
   "source": [
    "import pandas as pd"
   ]
  },
  {
   "cell_type": "code",
   "execution_count": 57,
   "metadata": {},
   "outputs": [],
   "source": [
    "df = pd.read_csv('Data To Use/Honeypot_Women_in_Tech.csv')"
   ]
  },
  {
   "cell_type": "code",
   "execution_count": 58,
   "metadata": {},
   "outputs": [],
   "source": [
    "countries = list(df['Country'])"
   ]
  },
  {
   "cell_type": "code",
   "execution_count": 59,
   "metadata": {},
   "outputs": [
    {
     "data": {
      "text/plain": [
       "['Portugal',\n",
       " 'United States of America',\n",
       " 'Latvia',\n",
       " 'Finland',\n",
       " 'France',\n",
       " 'Sweden',\n",
       " 'United Kingdom',\n",
       " 'Estonia',\n",
       " 'Spain',\n",
       " 'Cyprus',\n",
       " 'Iceland',\n",
       " 'Turkey',\n",
       " 'New Zealand',\n",
       " 'Netherlands',\n",
       " 'Canada',\n",
       " 'Croatia',\n",
       " 'Ireland',\n",
       " 'Austria',\n",
       " 'Bulgaria',\n",
       " 'Korea Rep',\n",
       " 'Mexico',\n",
       " 'Norway',\n",
       " 'Switzerland',\n",
       " 'Chile',\n",
       " 'Israel',\n",
       " 'Belgium',\n",
       " 'Germany',\n",
       " 'Japan',\n",
       " 'Denmark',\n",
       " 'Australia',\n",
       " 'Malta',\n",
       " 'Slovenia',\n",
       " 'Hungary',\n",
       " 'Italy',\n",
       " 'Czech Republic',\n",
       " 'Romania',\n",
       " 'Luxembourg',\n",
       " 'Slovakia',\n",
       " 'Greece',\n",
       " 'Lithuania',\n",
       " 'Poland']"
      ]
     },
     "execution_count": 59,
     "metadata": {},
     "output_type": "execute_result"
    }
   ],
   "source": [
    "countries"
   ]
  },
  {
   "cell_type": "code",
   "execution_count": 68,
   "metadata": {},
   "outputs": [
    {
     "name": "stdout",
     "output_type": "stream",
     "text": [
      "The autoreload extension is already loaded. To reload it, use:\n",
      "  %reload_ext autoreload\n"
     ]
    }
   ],
   "source": [
    "from functions import *\n",
    "import config\n",
    "import mysql.connector\n",
    "from mysql.connector import errorcode\n",
    "import math\n",
    "import pandas as pd\n",
    "import numpy as np\n",
    "%load_ext autoreload\n",
    "%reload_ext autoreload\n",
    "%autoreload 2"
   ]
  },
  {
   "cell_type": "code",
   "execution_count": 75,
   "metadata": {},
   "outputs": [],
   "source": [
    "cur, cnx = connect_to_db('gender')"
   ]
  },
  {
   "cell_type": "code",
   "execution_count": 76,
   "metadata": {},
   "outputs": [],
   "source": [
    "tables = ['child_birth_rate',\n",
    "          'contraceptive_prevalence',\n",
    "          'gender_urban_ratio',\n",
    "          'gender_rural_ratio',\n",
    "          'ter_ed_enrollment',\n",
    "          'women_teach_sec',\n",
    "          'women_teach_ter',\n",
    "          'abortion_info',\n",
    "          'abortion_laws',\n",
    "          'abortion_rate']"
   ]
  },
  {
   "cell_type": "code",
   "execution_count": 77,
   "metadata": {},
   "outputs": [],
   "source": [
    "def query(table):\n",
    "    result = f'''\n",
    "        SELECT DISTINCT country FROM {table}\n",
    "        '''\n",
    "    return result"
   ]
  },
  {
   "cell_type": "code",
   "execution_count": 78,
   "metadata": {},
   "outputs": [],
   "source": [
    "thing = {}\n",
    "for table in tables:\n",
    "    cur.execute(query(table))\n",
    "    thing[table] = list(map(lambda x: x[0], cur.fetchall()))"
   ]
  },
  {
   "cell_type": "code",
   "execution_count": 79,
   "metadata": {},
   "outputs": [],
   "source": [
    "cnx.close()"
   ]
  },
  {
   "cell_type": "code",
   "execution_count": 80,
   "metadata": {},
   "outputs": [
    {
     "name": "stdout",
     "output_type": "stream",
     "text": [
      "child_birth_rate ['France', 'Sweden', 'United Kingdom', 'Spain', 'Cyprus', 'Iceland', 'New Zealand', 'Netherlands', 'Ireland', 'Bulgaria', 'Norway', 'Switzerland', 'Chile', 'Israel', 'Belgium', 'Germany', 'Japan', 'Denmark', 'Australia', 'Malta', 'Italy', 'Slovakia', 'Greece', 'Poland']\n",
      "\n",
      "contraceptive_prevalence ['Portugal', 'Finland', 'Sweden', 'Cyprus', 'Iceland', 'Croatia', 'Ireland', 'Norway', 'Chile', 'Israel', 'Denmark', 'Australia', 'Malta', 'Luxembourg', 'Greece']\n",
      "\n",
      "gender_urban_ratio ['Belgium', 'Denmark', 'Malta', 'Italy', 'Luxembourg']\n",
      "\n",
      "gender_rural_ratio ['Belgium', 'Denmark', 'Malta', 'Italy', 'Luxembourg']\n",
      "\n",
      "ter_ed_enrollment ['Germany']\n",
      "\n",
      "women_teach_sec ['Turkey', 'Ireland', 'Switzerland', 'Australia']\n",
      "\n",
      "women_teach_ter ['Mexico', 'Chile', 'Israel', 'Denmark', 'Australia', 'Luxembourg']\n",
      "\n",
      "abortion_info []\n",
      "\n",
      "abortion_laws []\n",
      "\n",
      "abortion_rate ['Cyprus', 'Turkey', 'Ireland', 'Korea Rep', 'Chile', 'Malta', 'Luxembourg']\n",
      "\n"
     ]
    }
   ],
   "source": [
    "for table in thing.keys():\n",
    "    print(table, [x for x in countries if x not in thing[table]])\n",
    "    print('')"
   ]
  },
  {
   "cell_type": "code",
   "execution_count": 67,
   "metadata": {},
   "outputs": [],
   "source": [
    "fix_germany_query = '''UPDATE gender.gender_rural_ratio\n",
    "SET country = \n",
    "IF(country = \"German Democratic Republic (former)\",\"Germany\", country)\n",
    "WHERE country = country;'''\n"
   ]
  },
  {
   "cell_type": "code",
   "execution_count": null,
   "metadata": {},
   "outputs": [],
   "source": []
  }
 ],
 "metadata": {
  "kernelspec": {
   "display_name": "learn-env",
   "language": "python",
   "name": "learn-env"
  },
  "language_info": {
   "codemirror_mode": {
    "name": "ipython",
    "version": 3
   },
   "file_extension": ".py",
   "mimetype": "text/x-python",
   "name": "python",
   "nbconvert_exporter": "python",
   "pygments_lexer": "ipython3",
   "version": "3.6.6"
  }
 },
 "nbformat": 4,
 "nbformat_minor": 2
}
