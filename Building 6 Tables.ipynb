{
 "cells": [
  {
   "cell_type": "code",
   "execution_count": 1,
   "metadata": {},
   "outputs": [],
   "source": [
    "from functions import *\n",
    "import config\n",
    "import mysql.connector\n",
    "from mysql.connector import errorcode\n",
    "import math\n",
    "import pandas as pd\n",
    "import numpy as np\n",
    "%load_ext autoreload\n",
    "%reload_ext autoreload\n",
    "%autoreload 2"
   ]
  },
  {
   "cell_type": "code",
   "execution_count": null,
   "metadata": {},
   "outputs": [],
   "source": [
    "cur, cnx = connect_to_db('gender')"
   ]
  },
  {
   "cell_type": "code",
   "execution_count": null,
   "metadata": {},
   "outputs": [],
   "source": [
    "# Creating table for child birth rate\n",
    "TABLES = {}\n",
    "TABLES['child_birth_rate'] = (\"\"\"\n",
    "    CREATE TABLE child_birth_rate (\n",
    "    country varchar(50),\n",
    "    subgroup varchar(200),\n",
    "    year int(50),\n",
    "    unit varchar(50),\n",
    "    value int(50),\n",
    "    PRIMARY KEY (country, subgroup, year)\n",
    "    ) \n",
    "    \"\"\")"
   ]
  },
  {
   "cell_type": "code",
   "execution_count": null,
   "metadata": {},
   "outputs": [],
   "source": [
    "# Creating table for contraceptive prevalence\n",
    "TABLES['contraceptive_prevalence'] = (\"\"\"\n",
    "    CREATE TABLE contraceptive_prevalence (\n",
    "    country varchar(50),\n",
    "    subgroup varchar(200),\n",
    "    year int(50),\n",
    "    unit varchar(50),\n",
    "    value int(50),\n",
    "    PRIMARY KEY (country, subgroup, year)\n",
    "    ) \n",
    "    \"\"\")"
   ]
  },
  {
   "cell_type": "code",
   "execution_count": null,
   "metadata": {},
   "outputs": [],
   "source": [
    "# Creating table for contraceptive prevalence\n",
    "TABLES['gender_rural_ratio'] = (\"\"\"\n",
    "    CREATE TABLE gender_rural_ratio (\n",
    "    country varchar(50),\n",
    "    subgroup varchar(200),\n",
    "    year int(50),\n",
    "    unit varchar(50),\n",
    "    value int(50),\n",
    "    PRIMARY KEY (country, subgroup, year)\n",
    "    ) \n",
    "    \"\"\")"
   ]
  },
  {
   "cell_type": "code",
   "execution_count": null,
   "metadata": {},
   "outputs": [],
   "source": [
    "# Creating table for gender rural ratio\n",
    "TABLES['gender_urban_ratio'] = (\"\"\"\n",
    "    CREATE TABLE gender_urban_ratio (\n",
    "    country varchar(50),\n",
    "    subgroup varchar(200),\n",
    "    year int(50),\n",
    "    unit varchar(50),\n",
    "    value int(50),\n",
    "    PRIMARY KEY (country, subgroup, year)\n",
    "    ) \n",
    "    \"\"\")"
   ]
  },
  {
   "cell_type": "code",
   "execution_count": null,
   "metadata": {},
   "outputs": [],
   "source": [
    "# Creating table for tertiary education enrollment\n",
    "TABLES['ter_ed_enrollment'] = (\"\"\"\n",
    "    CREATE TABLE ter_ed_enrollment (\n",
    "    country varchar(50),\n",
    "    subgroup varchar(200),\n",
    "    year int(50),\n",
    "    unit varchar(50),\n",
    "    value int(50),\n",
    "    PRIMARY KEY (country, subgroup, year)\n",
    "    ) \n",
    "    \"\"\")"
   ]
  },
  {
   "cell_type": "code",
   "execution_count": null,
   "metadata": {},
   "outputs": [],
   "source": [
    "# Creating table for percentage of women teaching secondary education\n",
    "TABLES['women_teach_sec'] = (\"\"\"\n",
    "    CREATE TABLE women_teach_sec (\n",
    "    country varchar(50),\n",
    "    subgroup varchar(200),\n",
    "    year int(50),\n",
    "    unit varchar(50),\n",
    "    value int(50),\n",
    "    PRIMARY KEY (country, subgroup, year)\n",
    "    ) \n",
    "    \"\"\")"
   ]
  },
  {
   "cell_type": "code",
   "execution_count": null,
   "metadata": {},
   "outputs": [],
   "source": [
    "# Creating table for  percentage of women teaching tertiary education\n",
    "TABLES['women_teach_ter'] = (\"\"\"\n",
    "    CREATE TABLE women_teach_ter (\n",
    "    country varchar(50),\n",
    "    subgroup varchar(200),\n",
    "    year int(50),\n",
    "    unit varchar(50),\n",
    "    value int(50),\n",
    "    PRIMARY KEY (country, subgroup, year)\n",
    "    ) \n",
    "    \"\"\")"
   ]
  },
  {
   "cell_type": "code",
   "execution_count": null,
   "metadata": {},
   "outputs": [],
   "source": [
    "# added to DB\n",
    "cur.execute(TABLES['child_birth_rate']) \n",
    "cur.execute(TABLES['contraceptive_prevalence'])\n",
    "cur.execute(TABLES['gender_urban_ratio'])\n",
    "cur.execute(TABLES['gender_rural_ratio'])\n",
    "cur.execute(TABLES['ter_ed_enrollment'])\n",
    "cur.execute(TABLES['women_teach_sec'])\n",
    "cur.execute(TABLES['women_teach_ter'])"
   ]
  },
  {
   "cell_type": "code",
   "execution_count": null,
   "metadata": {},
   "outputs": [],
   "source": [
    "# close cursor\n",
    "cnx.close()\n",
    "cur.close() # returned True"
   ]
  },
  {
   "cell_type": "markdown",
   "metadata": {},
   "source": [
    "Populating our Tables"
   ]
  },
  {
   "cell_type": "code",
   "execution_count": 2,
   "metadata": {},
   "outputs": [],
   "source": [
    "# child birth rate\n",
    "def insert_query(table_name):\n",
    "    \"\"\" calls SQL query to insert country, subgroup, year, unit, value into pre-existing table \"\"\"\n",
    "    insert_query = f\"\"\"\n",
    "    INSERT IGNORE INTO {table_name} \n",
    "    (country, subgroup, year, unit, value)\n",
    "    VALUES \n",
    "    (%s, %s, %s, %s, %s)\n",
    "    \"\"\"\n",
    "    return insert_query\n"
   ]
  },
  {
   "cell_type": "code",
   "execution_count": 3,
   "metadata": {},
   "outputs": [],
   "source": [
    "def insert_data(table_name, csv_name):\n",
    "    cur, cnx = connect_to_db('gender')\n",
    "    df = pd.read_csv(f'Data To Use/{csv_name}.csv')\n",
    "    stop = df.loc[df['Country or Area'] == 'fnSeqID'].index[0]\n",
    "    df2 = df.iloc[0:stop]\n",
    "    df2['Year'] = pd.to_numeric(df2['Year'], errors = 'coerce')\n",
    "    df2['Value'] = pd.to_numeric(df2['Value'], errors = 'coerce')\n",
    "    cur.executemany(insert_query(table_name), get_tuples(df2))\n",
    "    cnx.commit()\n",
    "    cnx.close()"
   ]
  },
  {
   "cell_type": "code",
   "execution_count": 1,
   "metadata": {},
   "outputs": [],
   "source": [
    "def get_tuples(df):\n",
    "    \"\"\"takes a dataframe and returns a list of tuples of each row with relevant columns\"\"\"\n",
    "    tuple_list = []\n",
    "    for index, row in df.iterrows():\n",
    "        tup = tuple(row[['Country or Area', 'Subgroup', 'Year', 'Unit', 'Value']])\n",
    "        tuple_list.append((tup[0], \n",
    "                           tup[1], \n",
    "                           int(tup[2]) if not math.isnan(tup[2]) else None, \n",
    "                           tup[3], \n",
    "                           int(tup[4]) if not math.isnan(tup[4]) else None\n",
    "                          ))\n",
    "    return tuple_list"
   ]
  },
  {
   "cell_type": "code",
   "execution_count": null,
   "metadata": {},
   "outputs": [],
   "source": [
    "get_tuples()"
   ]
  },
  {
   "cell_type": "code",
   "execution_count": 7,
   "metadata": {},
   "outputs": [
    {
     "name": "stderr",
     "output_type": "stream",
     "text": [
      "//anaconda3/lib/python3.7/site-packages/ipykernel_launcher.py:6: SettingWithCopyWarning: \n",
      "A value is trying to be set on a copy of a slice from a DataFrame.\n",
      "Try using .loc[row_indexer,col_indexer] = value instead\n",
      "\n",
      "See the caveats in the documentation: http://pandas.pydata.org/pandas-docs/stable/indexing.html#indexing-view-versus-copy\n",
      "  \n",
      "//anaconda3/lib/python3.7/site-packages/ipykernel_launcher.py:7: SettingWithCopyWarning: \n",
      "A value is trying to be set on a copy of a slice from a DataFrame.\n",
      "Try using .loc[row_indexer,col_indexer] = value instead\n",
      "\n",
      "See the caveats in the documentation: http://pandas.pydata.org/pandas-docs/stable/indexing.html#indexing-view-versus-copy\n",
      "  import sys\n"
     ]
    },
    {
     "ename": "KeyboardInterrupt",
     "evalue": "",
     "output_type": "error",
     "traceback": [
      "\u001b[0;31m---------------------------------------------------------------------------\u001b[0m",
      "\u001b[0;31mKeyboardInterrupt\u001b[0m                         Traceback (most recent call last)",
      "\u001b[0;32m<ipython-input-7-20b8240f658c>\u001b[0m in \u001b[0;36m<module>\u001b[0;34m\u001b[0m\n\u001b[0;32m----> 1\u001b[0;31m \u001b[0minsert_data\u001b[0m\u001b[0;34m(\u001b[0m\u001b[0;34m'child_birth_rate'\u001b[0m\u001b[0;34m,\u001b[0m \u001b[0;34m'child_birth_rate'\u001b[0m\u001b[0;34m)\u001b[0m\u001b[0;34m\u001b[0m\u001b[0;34m\u001b[0m\u001b[0m\n\u001b[0m\u001b[1;32m      2\u001b[0m \u001b[0minsert_data\u001b[0m\u001b[0;34m(\u001b[0m\u001b[0;34m'contraceptive_prevalence'\u001b[0m\u001b[0;34m,\u001b[0m \u001b[0;34m'contraceptive_prevalence'\u001b[0m\u001b[0;34m)\u001b[0m\u001b[0;34m\u001b[0m\u001b[0;34m\u001b[0m\u001b[0m\n\u001b[1;32m      3\u001b[0m \u001b[0minsert_data\u001b[0m\u001b[0;34m(\u001b[0m\u001b[0;34m'gender_urban_ratio'\u001b[0m\u001b[0;34m,\u001b[0m \u001b[0;34m'gender_urban_ratio'\u001b[0m\u001b[0;34m)\u001b[0m\u001b[0;34m\u001b[0m\u001b[0;34m\u001b[0m\u001b[0m\n\u001b[1;32m      4\u001b[0m \u001b[0minsert_data\u001b[0m\u001b[0;34m(\u001b[0m\u001b[0;34m'gender_rural_ratio'\u001b[0m\u001b[0;34m,\u001b[0m \u001b[0;34m'gender_rural_ratio'\u001b[0m\u001b[0;34m)\u001b[0m\u001b[0;34m\u001b[0m\u001b[0;34m\u001b[0m\u001b[0m\n\u001b[1;32m      5\u001b[0m \u001b[0minsert_data\u001b[0m\u001b[0;34m(\u001b[0m\u001b[0;34m'ter_ed_enrollment'\u001b[0m\u001b[0;34m,\u001b[0m \u001b[0;34m'ter_ed_enrollment'\u001b[0m\u001b[0;34m)\u001b[0m\u001b[0;34m\u001b[0m\u001b[0;34m\u001b[0m\u001b[0m\n",
      "\u001b[0;32m<ipython-input-3-61cb7a570759>\u001b[0m in \u001b[0;36minsert_data\u001b[0;34m(table_name, csv_name)\u001b[0m\n\u001b[1;32m      6\u001b[0m     \u001b[0mdf2\u001b[0m\u001b[0;34m[\u001b[0m\u001b[0;34m'Year'\u001b[0m\u001b[0;34m]\u001b[0m \u001b[0;34m=\u001b[0m \u001b[0mpd\u001b[0m\u001b[0;34m.\u001b[0m\u001b[0mto_numeric\u001b[0m\u001b[0;34m(\u001b[0m\u001b[0mdf2\u001b[0m\u001b[0;34m[\u001b[0m\u001b[0;34m'Year'\u001b[0m\u001b[0;34m]\u001b[0m\u001b[0;34m,\u001b[0m \u001b[0merrors\u001b[0m \u001b[0;34m=\u001b[0m \u001b[0;34m'coerce'\u001b[0m\u001b[0;34m)\u001b[0m\u001b[0;34m\u001b[0m\u001b[0;34m\u001b[0m\u001b[0m\n\u001b[1;32m      7\u001b[0m     \u001b[0mdf2\u001b[0m\u001b[0;34m[\u001b[0m\u001b[0;34m'Value'\u001b[0m\u001b[0;34m]\u001b[0m \u001b[0;34m=\u001b[0m \u001b[0mpd\u001b[0m\u001b[0;34m.\u001b[0m\u001b[0mto_numeric\u001b[0m\u001b[0;34m(\u001b[0m\u001b[0mdf2\u001b[0m\u001b[0;34m[\u001b[0m\u001b[0;34m'Value'\u001b[0m\u001b[0;34m]\u001b[0m\u001b[0;34m,\u001b[0m \u001b[0merrors\u001b[0m \u001b[0;34m=\u001b[0m \u001b[0;34m'coerce'\u001b[0m\u001b[0;34m)\u001b[0m\u001b[0;34m\u001b[0m\u001b[0;34m\u001b[0m\u001b[0m\n\u001b[0;32m----> 8\u001b[0;31m     \u001b[0mcur\u001b[0m\u001b[0;34m.\u001b[0m\u001b[0mexecutemany\u001b[0m\u001b[0;34m(\u001b[0m\u001b[0minsert_query\u001b[0m\u001b[0;34m(\u001b[0m\u001b[0mtable_name\u001b[0m\u001b[0;34m)\u001b[0m\u001b[0;34m,\u001b[0m \u001b[0mget_tuples\u001b[0m\u001b[0;34m(\u001b[0m\u001b[0mdf2\u001b[0m\u001b[0;34m)\u001b[0m\u001b[0;34m)\u001b[0m\u001b[0;34m\u001b[0m\u001b[0;34m\u001b[0m\u001b[0m\n\u001b[0m\u001b[1;32m      9\u001b[0m     \u001b[0mcnx\u001b[0m\u001b[0;34m.\u001b[0m\u001b[0mcommit\u001b[0m\u001b[0;34m(\u001b[0m\u001b[0;34m)\u001b[0m\u001b[0;34m\u001b[0m\u001b[0;34m\u001b[0m\u001b[0m\n\u001b[1;32m     10\u001b[0m     \u001b[0mcnx\u001b[0m\u001b[0;34m.\u001b[0m\u001b[0mclose\u001b[0m\u001b[0;34m(\u001b[0m\u001b[0;34m)\u001b[0m\u001b[0;34m\u001b[0m\u001b[0;34m\u001b[0m\u001b[0m\n",
      "\u001b[0;32m//anaconda3/lib/python3.7/site-packages/mysql/connector/cursor_cext.py\u001b[0m in \u001b[0;36mexecutemany\u001b[0;34m(self, operation, seq_params)\u001b[0m\n\u001b[1;32m    355\u001b[0m         \u001b[0;32mtry\u001b[0m\u001b[0;34m:\u001b[0m\u001b[0;34m\u001b[0m\u001b[0;34m\u001b[0m\u001b[0m\n\u001b[1;32m    356\u001b[0m             \u001b[0;32mfor\u001b[0m \u001b[0mparams\u001b[0m \u001b[0;32min\u001b[0m \u001b[0mseq_params\u001b[0m\u001b[0;34m:\u001b[0m\u001b[0;34m\u001b[0m\u001b[0;34m\u001b[0m\u001b[0m\n\u001b[0;32m--> 357\u001b[0;31m                 \u001b[0mself\u001b[0m\u001b[0;34m.\u001b[0m\u001b[0mexecute\u001b[0m\u001b[0;34m(\u001b[0m\u001b[0moperation\u001b[0m\u001b[0;34m,\u001b[0m \u001b[0mparams\u001b[0m\u001b[0;34m)\u001b[0m\u001b[0;34m\u001b[0m\u001b[0;34m\u001b[0m\u001b[0m\n\u001b[0m\u001b[1;32m    358\u001b[0m                 \u001b[0;32mtry\u001b[0m\u001b[0;34m:\u001b[0m\u001b[0;34m\u001b[0m\u001b[0;34m\u001b[0m\u001b[0m\n\u001b[1;32m    359\u001b[0m                     \u001b[0;32mwhile\u001b[0m \u001b[0;32mTrue\u001b[0m\u001b[0;34m:\u001b[0m\u001b[0;34m\u001b[0m\u001b[0;34m\u001b[0m\u001b[0m\n",
      "\u001b[0;32m//anaconda3/lib/python3.7/site-packages/mysql/connector/cursor_cext.py\u001b[0m in \u001b[0;36mexecute\u001b[0;34m(self, operation, params, multi)\u001b[0m\n\u001b[1;32m    264\u001b[0m             result = self._cnx.cmd_query(stmt, raw=self._raw,\n\u001b[1;32m    265\u001b[0m                                          \u001b[0mbuffered\u001b[0m\u001b[0;34m=\u001b[0m\u001b[0mself\u001b[0m\u001b[0;34m.\u001b[0m\u001b[0m_buffered\u001b[0m\u001b[0;34m,\u001b[0m\u001b[0;34m\u001b[0m\u001b[0;34m\u001b[0m\u001b[0m\n\u001b[0;32m--> 266\u001b[0;31m                                          raw_as_string=self._raw_as_string)\n\u001b[0m\u001b[1;32m    267\u001b[0m         \u001b[0;32mexcept\u001b[0m \u001b[0mMySQLInterfaceError\u001b[0m \u001b[0;32mas\u001b[0m \u001b[0mexc\u001b[0m\u001b[0;34m:\u001b[0m\u001b[0;34m\u001b[0m\u001b[0;34m\u001b[0m\u001b[0m\n\u001b[1;32m    268\u001b[0m             raise errors.get_mysql_exception(msg=exc.msg, errno=exc.errno,\n",
      "\u001b[0;32m//anaconda3/lib/python3.7/site-packages/mysql/connector/connection_cext.py\u001b[0m in \u001b[0;36mcmd_query\u001b[0;34m(self, query, raw, buffered, raw_as_string)\u001b[0m\n\u001b[1;32m    470\u001b[0m             self._cmysql.query(query,\n\u001b[1;32m    471\u001b[0m                                \u001b[0mraw\u001b[0m\u001b[0;34m=\u001b[0m\u001b[0mraw\u001b[0m\u001b[0;34m,\u001b[0m \u001b[0mbuffered\u001b[0m\u001b[0;34m=\u001b[0m\u001b[0mbuffered\u001b[0m\u001b[0;34m,\u001b[0m\u001b[0;34m\u001b[0m\u001b[0;34m\u001b[0m\u001b[0m\n\u001b[0;32m--> 472\u001b[0;31m                                raw_as_string=raw_as_string)\n\u001b[0m\u001b[1;32m    473\u001b[0m         \u001b[0;32mexcept\u001b[0m \u001b[0mMySQLInterfaceError\u001b[0m \u001b[0;32mas\u001b[0m \u001b[0mexc\u001b[0m\u001b[0;34m:\u001b[0m\u001b[0;34m\u001b[0m\u001b[0;34m\u001b[0m\u001b[0m\n\u001b[1;32m    474\u001b[0m             raise errors.get_mysql_exception(exc.errno, msg=exc.msg,\n",
      "\u001b[0;31mKeyboardInterrupt\u001b[0m: "
     ]
    }
   ],
   "source": [
    "insert_data('child_birth_rate', 'child_birth_rate')\n",
    "insert_data('contraceptive_prevalence', 'contraceptive_prevalence')\n",
    "insert_data('gender_urban_ratio', 'gender_urban_ratio')\n",
    "insert_data('gender_rural_ratio', 'gender_rural_ratio')\n",
    "insert_data('ter_ed_enrollment', 'ter_ed_enrollment')\n",
    "insert_data('women_teach_sec', 'women_teach_sec')\n",
    "insert_data('women_teach_ter', 'women_teach_ter')"
   ]
  },
  {
   "cell_type": "code",
   "execution_count": null,
   "metadata": {},
   "outputs": [],
   "source": []
  }
 ],
 "metadata": {
  "kernelspec": {
   "display_name": "Python 3",
   "language": "python",
   "name": "python3"
  },
  "language_info": {
   "codemirror_mode": {
    "name": "ipython",
    "version": 3
   },
   "file_extension": ".py",
   "mimetype": "text/x-python",
   "name": "python",
   "nbconvert_exporter": "python",
   "pygments_lexer": "ipython3",
   "version": "3.7.3"
  }
 },
 "nbformat": 4,
 "nbformat_minor": 2
}
