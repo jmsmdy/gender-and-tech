{
 "cells": [
  {
   "cell_type": "code",
   "execution_count": 6,
   "metadata": {},
   "outputs": [],
   "source": [
    "# this notebook creates and populates tables for UN Data reports"
   ]
  },
  {
   "cell_type": "code",
   "execution_count": 1,
   "metadata": {},
   "outputs": [],
   "source": [
    "from functions import *\n",
    "from SQL_functions import *\n",
    "import config\n",
    "import mysql.connector\n",
    "from mysql.connector import errorcode\n",
    "import math\n",
    "import pandas as pd\n",
    "import numpy as np\n",
    "%load_ext autoreload\n",
    "%reload_ext autoreload\n",
    "%autoreload 2"
   ]
  },
  {
   "cell_type": "code",
   "execution_count": 2,
   "metadata": {},
   "outputs": [],
   "source": [
    "cur, cnx = connect_to_db('gender')"
   ]
  },
  {
   "cell_type": "markdown",
   "metadata": {},
   "source": [
    "## Creating Tables for UN Data"
   ]
  },
  {
   "cell_type": "code",
   "execution_count": 4,
   "metadata": {},
   "outputs": [],
   "source": [
    "TABLES = {}"
   ]
  },
  {
   "cell_type": "code",
   "execution_count": null,
   "metadata": {},
   "outputs": [],
   "source": [
    "# Creating table for child birth rate\n",
    "TABLES['child_birth_rate'] = (\"\"\"\n",
    "    CREATE TABLE child_birth_rate (\n",
    "    country varchar(50),\n",
    "    subgroup varchar(200),\n",
    "    year int(50),\n",
    "    unit varchar(50),\n",
    "    value int(50),\n",
    "    PRIMARY KEY (country, subgroup, year)\n",
    "    ) \n",
    "    \"\"\")"
   ]
  },
  {
   "cell_type": "code",
   "execution_count": null,
   "metadata": {},
   "outputs": [],
   "source": [
    "# Creating table for contraceptive prevalence\n",
    "TABLES['contraceptive_prevalence'] = (\"\"\"\n",
    "    CREATE TABLE contraceptive_prevalence (\n",
    "    country varchar(50),\n",
    "    subgroup varchar(200),\n",
    "    year int(50),\n",
    "    unit varchar(50),\n",
    "    value int(50),\n",
    "    PRIMARY KEY (country, subgroup, year)\n",
    "    ) \n",
    "    \"\"\")"
   ]
  },
  {
   "cell_type": "code",
   "execution_count": null,
   "metadata": {},
   "outputs": [],
   "source": [
    "# Creating table for contraceptive prevalence\n",
    "TABLES['gender_rural_ratio'] = (\"\"\"\n",
    "    CREATE TABLE gender_rural_ratio (\n",
    "    country varchar(50),\n",
    "    subgroup varchar(200),\n",
    "    year int(50),\n",
    "    unit varchar(50),\n",
    "    value int(50),\n",
    "    PRIMARY KEY (country, subgroup, year)\n",
    "    ) \n",
    "    \"\"\")"
   ]
  },
  {
   "cell_type": "code",
   "execution_count": null,
   "metadata": {},
   "outputs": [],
   "source": [
    "# Creating table for gender rural ratio\n",
    "TABLES['gender_urban_ratio'] = (\"\"\"\n",
    "    CREATE TABLE gender_urban_ratio (\n",
    "    country varchar(50),\n",
    "    subgroup varchar(200),\n",
    "    year int(50),\n",
    "    unit varchar(50),\n",
    "    value int(50),\n",
    "    PRIMARY KEY (country, subgroup, year)\n",
    "    ) \n",
    "    \"\"\")"
   ]
  },
  {
   "cell_type": "code",
   "execution_count": null,
   "metadata": {},
   "outputs": [],
   "source": [
    "# Creating table for tertiary education enrollment\n",
    "TABLES['ter_ed_enrollment'] = (\"\"\"\n",
    "    CREATE TABLE ter_ed_enrollment (\n",
    "    country varchar(50),\n",
    "    subgroup varchar(200),\n",
    "    year int(50),\n",
    "    unit varchar(50),\n",
    "    value int(50),\n",
    "    PRIMARY KEY (country, subgroup, year)\n",
    "    ) \n",
    "    \"\"\")"
   ]
  },
  {
   "cell_type": "code",
   "execution_count": null,
   "metadata": {},
   "outputs": [],
   "source": [
    "# Creating table for percentage of women teaching secondary education\n",
    "TABLES['women_teach_sec'] = (\"\"\"\n",
    "    CREATE TABLE women_teach_sec (\n",
    "    country varchar(50),\n",
    "    subgroup varchar(200),\n",
    "    year int(50),\n",
    "    unit varchar(50),\n",
    "    value int(50),\n",
    "    PRIMARY KEY (country, subgroup, year)\n",
    "    ) \n",
    "    \"\"\")"
   ]
  },
  {
   "cell_type": "code",
   "execution_count": 5,
   "metadata": {},
   "outputs": [],
   "source": [
    "# Creating table for  percentage of women teaching tertiary education\n",
    "TABLES['women_teach_ter'] = (\"\"\"\n",
    "    CREATE TABLE women_teach_ter (\n",
    "    country varchar(50),\n",
    "    subgroup varchar(200),\n",
    "    year int(50),\n",
    "    unit varchar(50),\n",
    "    value int(50),\n",
    "    PRIMARY KEY (country, subgroup, year)\n",
    "    ) \n",
    "    \"\"\")"
   ]
  },
  {
   "cell_type": "code",
   "execution_count": 6,
   "metadata": {},
   "outputs": [],
   "source": [
    "# Creating table for  percentage of women teaching tertiary education\n",
    "TABLES['abortion_laws'] = (\"\"\"\n",
    "    CREATE TABLE abortion_laws (\n",
    "    country varchar(50),\n",
    "    subgroup varchar(200),\n",
    "    year int(50),\n",
    "    unit varchar(50),\n",
    "    value int(50),\n",
    "    PRIMARY KEY (country, subgroup, year)\n",
    "    ) \n",
    "    \"\"\")"
   ]
  },
  {
   "cell_type": "code",
   "execution_count": 11,
   "metadata": {},
   "outputs": [],
   "source": [
    "# Creating table for  percentage of women teaching tertiary education\n",
    "TABLES['abortion_rate'] = (\"\"\"\n",
    "    CREATE TABLE abortion_rate (\n",
    "    country varchar(50),\n",
    "    subgroup varchar(200),\n",
    "    year int(50),\n",
    "    unit varchar(50),\n",
    "    value int(50),\n",
    "    PRIMARY KEY (country, subgroup, year)\n",
    "    ) \n",
    "    \"\"\")"
   ]
  },
  {
   "cell_type": "code",
   "execution_count": 12,
   "metadata": {},
   "outputs": [],
   "source": [
    "# added to DB\n",
    "cur.execute(TABLES['child_birth_rate']) \n",
    "cur.execute(TABLES['contraceptive_prevalence'])\n",
    "cur.execute(TABLES['gender_urban_ratio'])\n",
    "cur.execute(TABLES['gender_rural_ratio'])\n",
    "cur.execute(TABLES['ter_ed_enrollment'])\n",
    "cur.execute(TABLES['women_teach_sec'])\n",
    "cur.execute(TABLES['women_teach_ter'])\n",
    "cur.execute(TABLES['abortion_laws'])\n",
    "cur.execute(TABLES['abortion_rate'])"
   ]
  },
  {
   "cell_type": "code",
   "execution_count": 13,
   "metadata": {},
   "outputs": [
    {
     "data": {
      "text/plain": [
       "True"
      ]
     },
     "execution_count": 13,
     "metadata": {},
     "output_type": "execute_result"
    }
   ],
   "source": [
    "# close cursor\n",
    "cnx.close()\n",
    "cur.close() # returned True"
   ]
  },
  {
   "cell_type": "markdown",
   "metadata": {},
   "source": [
    "## Populating our Tables"
   ]
  },
  {
   "cell_type": "code",
   "execution_count": 14,
   "metadata": {},
   "outputs": [
    {
     "name": "stderr",
     "output_type": "stream",
     "text": [
      "/Users/rebeccarosen/Desktop/flatiron 2019/mod3/project2/gender-and-tech/SQL_functions.py:43: SettingWithCopyWarning: \n",
      "A value is trying to be set on a copy of a slice from a DataFrame.\n",
      "Try using .loc[row_indexer,col_indexer] = value instead\n",
      "\n",
      "See the caveats in the documentation: http://pandas.pydata.org/pandas-docs/stable/indexing.html#indexing-view-versus-copy\n",
      "  df2['Year'] = pd.to_numeric(df2['Year'], errors = 'coerce')\n",
      "/Users/rebeccarosen/Desktop/flatiron 2019/mod3/project2/gender-and-tech/SQL_functions.py:44: SettingWithCopyWarning: \n",
      "A value is trying to be set on a copy of a slice from a DataFrame.\n",
      "Try using .loc[row_indexer,col_indexer] = value instead\n",
      "\n",
      "See the caveats in the documentation: http://pandas.pydata.org/pandas-docs/stable/indexing.html#indexing-view-versus-copy\n",
      "  df2['Value'] = pd.to_numeric(df2['Value'], errors = 'coerce')\n"
     ]
    }
   ],
   "source": [
    "# # see SQL_functions.py for function definitions\n",
    "# insert_data('child_birth_rate', 'child_birth_rate')\n",
    "# insert_data('contraceptive_prevalence', 'contraceptive_prevalence')\n",
    "# insert_data('gender_urban_ratio', 'gender_urban_ratio')\n",
    "# insert_data('gender_rural_ratio', 'gender_rural_ratio')\n",
    "# insert_data('ter_ed_enrollment', 'ter_ed_enrollment')\n",
    "# insert_data('women_teach_sec', 'women_teach_sec')\n",
    "# insert_data('women_teach_ter', 'women_teach_ter')\n",
    "insert_data('abortion_laws', 'abortion_laws')\n",
    "insert_data('abortion_rate', 'abortion_rate')"
   ]
  },
  {
   "cell_type": "code",
   "execution_count": null,
   "metadata": {},
   "outputs": [],
   "source": []
  }
 ],
 "metadata": {
  "kernelspec": {
   "display_name": "Python 3",
   "language": "python",
   "name": "python3"
  },
  "language_info": {
   "codemirror_mode": {
    "name": "ipython",
    "version": 3
   },
   "file_extension": ".py",
   "mimetype": "text/x-python",
   "name": "python",
   "nbconvert_exporter": "python",
   "pygments_lexer": "ipython3",
   "version": "3.7.3"
  }
 },
 "nbformat": 4,
 "nbformat_minor": 2
}
