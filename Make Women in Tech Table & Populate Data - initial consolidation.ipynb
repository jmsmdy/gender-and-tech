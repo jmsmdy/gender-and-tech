{
 "cells": [
  {
   "cell_type": "markdown",
   "metadata": {},
   "source": [
    "## Create Main Table"
   ]
  },
  {
   "cell_type": "code",
   "execution_count": 1,
   "metadata": {},
   "outputs": [],
   "source": [
    "from functions import *"
   ]
  },
  {
   "cell_type": "code",
   "execution_count": 2,
   "metadata": {},
   "outputs": [],
   "source": [
    "## Connect to DB server on AWS\n",
    "cur, cnx = connect_to_db('gender')"
   ]
  },
  {
   "cell_type": "code",
   "execution_count": 3,
   "metadata": {},
   "outputs": [],
   "source": [
    "create_main_table_query = '''\n",
    "CREATE TABLE women_in_tech (\n",
    "    country varchar(255) NOT NULL,\n",
    "    total_workforce_millions FLOAT,\n",
    "    female_workforce_millions FLOAT,\n",
    "    percent_women_workers FLOAT,\n",
    "    percent_women_legislators_senior_officials_and_managers FLOAT,\n",
    "    percent_women_in_parliament FLOAT,\n",
    "    percent_women_in_ministerial_positions FLOAT,\n",
    "    overall_workforce_average_wage_USD INT,\n",
    "    womens_average_wage_USD INT,\n",
    "    gender_pay_gap_percentage FLOAT,\n",
    "    tech_workforce_thousands FLOAT,\n",
    "    percent_workforce_in_tech FLOAT,\n",
    "    female_tech_workforce_thousands FLOAT,\n",
    "    percent_women_in_tech FLOAT,\n",
    "    percent_difference_of_women_in_workforce_and_women_in_tech FLOAT,\n",
    "    female_stem_graduates_percentage FLOAT,\n",
    "    tech_average_wage_USD INT,\n",
    "    tech_average_wage_for_women_USD INT,\n",
    "    gender_pay_gap_in_tech_percentage FLOAT,\n",
    "    percent_difference_overall_gender_pay_gap_vs_tech_gender_pay_gap FLOAT,\n",
    "    gender_inequality_index FLOAT,\n",
    "    gender_pay_gap_2010 FLOAT,\n",
    "    comparison_of_gender_pay_gap_from_2010_to_2015 FLOAT,\n",
    "    PRIMARY KEY (country)\n",
    "    )\n",
    "'''"
   ]
  },
  {
   "cell_type": "code",
   "execution_count": 4,
   "metadata": {},
   "outputs": [],
   "source": [
    "cur.execute(create_main_table_query)"
   ]
  },
  {
   "cell_type": "code",
   "execution_count": 5,
   "metadata": {},
   "outputs": [],
   "source": [
    "cnx.close()"
   ]
  },
  {
   "cell_type": "markdown",
   "metadata": {},
   "source": [
    "## Insert Honeypot Women in Tech Data into AWS DB"
   ]
  },
  {
   "cell_type": "code",
   "execution_count": 6,
   "metadata": {},
   "outputs": [],
   "source": [
    "import pandas as pd\n",
    "from functions import *"
   ]
  },
  {
   "cell_type": "code",
   "execution_count": 7,
   "metadata": {},
   "outputs": [],
   "source": [
    "def insert_more_query(table_name):\n",
    "    insert_query = f'''INSERT IGNORE INTO {table_name} (\n",
    "        country,\n",
    "        total_workforce_millions,\n",
    "        female_workforce_millions,\n",
    "        percent_women_workers,\n",
    "        percent_women_legislators_senior_officials_and_managers,\n",
    "        percent_women_in_parliament,\n",
    "        percent_women_in_ministerial_positions,\n",
    "        overall_workforce_average_wage_USD,\n",
    "        womens_average_wage_USD,\n",
    "        gender_pay_gap_percentage,\n",
    "        tech_workforce_thousands,\n",
    "        percent_workforce_in_tech,\n",
    "        female_tech_workforce_thousands,\n",
    "        percent_women_in_tech,\n",
    "        percent_difference_of_women_in_workforce_and_women_in_tech,\n",
    "        female_stem_graduates_percentage,\n",
    "        tech_average_wage_USD,\n",
    "        tech_average_wage_for_women_USD,\n",
    "        gender_pay_gap_in_tech_percentage,\n",
    "        percent_difference_overall_gender_pay_gap_vs_tech_gender_pay_gap,\n",
    "        gender_inequality_index,\n",
    "        gender_pay_gap_2010,\n",
    "        comparison_of_gender_pay_gap_from_2010_to_2015\n",
    "        )\n",
    "        VALUES \n",
    "        (%s, %s, %s, %s, %s, %s, %s, %s, %s, %s, %s, %s, %s, %s, %s, %s, %s, %s, %s, %s, %s, %s, %s)\n",
    "        '''"
   ]
  },
  {
   "cell_type": "code",
   "execution_count": 8,
   "metadata": {},
   "outputs": [],
   "source": [
    "def get_more_tuples(df):\n",
    "    tuple_list = []\n",
    "    for index, row in df.iterrows():\n",
    "        tup = (row[1],\n",
    "               row[2],\n",
    "               row[3],\n",
    "               float(row[4][:-1]),\n",
    "               float(row[5][:-1]),    \n",
    "               float(row[6][:-1]),\n",
    "               float(row[7][:-1]),\n",
    "               row[8],\n",
    "               row[9],\n",
    "               float(row[10][:-1]),\n",
    "               row[11],\n",
    "               float(row[12][:-1]),\n",
    "               row[13],\n",
    "               float(row[14][:-1]),\n",
    "               float(row[15][:-1]),\n",
    "               float(row[16][:-1]),\n",
    "               row[17],\n",
    "               row[18],\n",
    "               float(row[19][:-1]),\n",
    "               float(row[20][:-1]),\n",
    "               row[21],\n",
    "               float(row[22][:-1]),\n",
    "               float(row[23][:-1])\n",
    "              ) \n",
    "        tuple_list.append(tup)\n",
    "    return tuple_list"
   ]
  },
  {
   "cell_type": "code",
   "execution_count": 9,
   "metadata": {},
   "outputs": [],
   "source": [
    "cur, cnx = connect_to_db('gender')\n",
    "df = pd.read_csv('Data To Use/Honeypot_Women_in_Tech.csv')\n",
    "cur.executemany(insert_more_query('women_in_tech'), get_more_tuples(df))\n",
    "cnx.commit()\n",
    "cnx.close()"
   ]
  }
 ],
 "metadata": {
  "kernelspec": {
   "display_name": "Python 3",
   "language": "python",
   "name": "python3"
  },
  "language_info": {
   "codemirror_mode": {
    "name": "ipython",
    "version": 3
   },
   "file_extension": ".py",
   "mimetype": "text/x-python",
   "name": "python",
   "nbconvert_exporter": "python",
   "pygments_lexer": "ipython3",
   "version": "3.7.3"
  }
 },
 "nbformat": 4,
 "nbformat_minor": 2
}
