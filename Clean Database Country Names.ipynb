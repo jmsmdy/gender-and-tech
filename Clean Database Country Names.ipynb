{
 "cells": [
  {
   "cell_type": "markdown",
   "metadata": {},
   "source": [
    "### Definitions and Imports"
   ]
  },
  {
   "cell_type": "code",
   "execution_count": 2,
   "metadata": {},
   "outputs": [],
   "source": [
    "from functions import *"
   ]
  },
  {
   "cell_type": "code",
   "execution_count": 3,
   "metadata": {},
   "outputs": [],
   "source": [
    "cur, cnx = connect_to_db('gender')"
   ]
  },
  {
   "cell_type": "code",
   "execution_count": 4,
   "metadata": {},
   "outputs": [],
   "source": [
    "def fix_country_query(old, new, table_name):\n",
    "    query = f'''UPDATE gender.{table_name}\n",
    "        SET country = \n",
    "        IF(country = \"{old}\",\"{new}\", country)\n",
    "        WHERE country = country;'''\n",
    "    return query"
   ]
  },
  {
   "cell_type": "code",
   "execution_count": 5,
   "metadata": {},
   "outputs": [],
   "source": [
    "def fix_countries_in_table(replacement_dicitonary, table):\n",
    "    cur, cnx = connect_to_db('gender')\n",
    "    for key, value in replacement_dict.items():\n",
    "        cur.execute(fix_country_query(key, value, table))\n",
    "        cnx.commit()\n",
    "    cnx.close()"
   ]
  },
  {
   "cell_type": "code",
   "execution_count": 6,
   "metadata": {},
   "outputs": [],
   "source": [
    "def fix_countries(replacement_dictionary, tables_to_fix):\n",
    "    for table in tables_to_fix:\n",
    "        fix_countries_in_table(replacement_dictionary, table)"
   ]
  },
  {
   "cell_type": "markdown",
   "metadata": {},
   "source": [
    "### Data and Execution of Queries"
   ]
  },
  {
   "cell_type": "code",
   "execution_count": 11,
   "metadata": {},
   "outputs": [],
   "source": [
    "tables = ['child_birth_rate',\n",
    "          'contraceptive_prevalence',\n",
    "          'gender_urban_ratio',\n",
    "          'gender_rural_ratio',\n",
    "          'ter_ed_enrollment',\n",
    "          'women_teach_sec',\n",
    "          'women_teach_ter',\n",
    "          'abortion_info',\n",
    "          'abortion_laws',\n",
    "          'abortion_rate',\n",
    "          'women_in_tech']"
   ]
  },
  {
   "cell_type": "code",
   "execution_count": 12,
   "metadata": {},
   "outputs": [],
   "source": [
    "replacement_dict = {\"German Democratic Republic (former)\": \"Germany\",\n",
    "                    \"South Korea\"                        : \"Korea Rep\",\n",
    "                    \"Republic of Korea\"                  : \"Korea Rep\",\n",
    "                    \"Czechia\"                            : \"Czech Republic\"\n",
    "                   }"
   ]
  },
  {
   "cell_type": "code",
   "execution_count": 13,
   "metadata": {},
   "outputs": [],
   "source": [
    "fix_countries(replacement_dict, tables)"
   ]
  }
 ],
 "metadata": {
  "kernelspec": {
   "display_name": "learn-env",
   "language": "python",
   "name": "learn-env"
  },
  "language_info": {
   "codemirror_mode": {
    "name": "ipython",
    "version": 3
   },
   "file_extension": ".py",
   "mimetype": "text/x-python",
   "name": "python",
   "nbconvert_exporter": "python",
   "pygments_lexer": "ipython3",
   "version": "3.6.6"
  }
 },
 "nbformat": 4,
 "nbformat_minor": 2
}
