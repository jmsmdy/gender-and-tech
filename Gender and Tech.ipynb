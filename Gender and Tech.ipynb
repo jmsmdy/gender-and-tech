{
 "cells": [
  {
   "cell_type": "markdown",
   "metadata": {},
   "source": [
    "# Gender and Tech"
   ]
  },
  {
   "cell_type": "code",
   "execution_count": 80,
   "metadata": {},
   "outputs": [],
   "source": [
    "import json\n",
    "import pandas as pd"
   ]
  },
  {
   "cell_type": "code",
   "execution_count": 81,
   "metadata": {},
   "outputs": [],
   "source": [
    "ilo_data = r\"\"\"{\"meta\":{\"schema\":\"https://raw.githubusercontent.com/sdmx-twg/sdmx-json/develop/data-message/tools/schemas/1.0/sdmx-json-data-schema.json\",\n",
    "\"id\":\"f317a682-b10c-4797-997b-96504151836a\",\"prepared\":\"2019-10-01T21:32:03\",\n",
    "\"test\":false,\"content-languages\":[\"en\"],\"sender\":{\"id\":\"ILO\",\"name\":{\"en\":\"ILOSTAT\"}}},\n",
    "\"data\":{\"dataSets\":[{\"action\":\"Information\",\n",
    "\"annotations\":[0,1,2,3,4,5],\"series\":{\"0:0:0:0:0:0:0\":{\"attributes\":[],\"annotations\":[],\n",
    "\"observations\":{\"0\":[41.30,null,null,0,0,0,null,0,0,0]}},\"0:0:0:0:0:1:0\":{\"attributes\":[],\n",
    "\"annotations\":[],\"observations\":{\"0\":[41.60,null,null,0,0,0,null,0,0,0]}},\n",
    "\"0:0:0:0:0:2:0\":{\"attributes\":[],\"annotations\":[],\"observations\":{\"0\":[40.90,null,null,0,0,0,null,0,0,0]}},\"0:1:0:1:0:0:0\":{\"attributes\":[],\"annotations\":[],\"observations\":{\"0\":[39,null,null,0,0,0,null,0,0,0]}},\"0:1:0:1:0:1:0\":{\"attributes\":[],\"annotations\":[],\"observations\":{\"0\":[37.10,null,null,0,0,0,null,0,0,0]}},\"0:1:0:1:0:2:0\":{\"attributes\":[],\"annotations\":[],\"observations\":{\"0\":[41,null,null,0,0,0,null,0,0,0]}},\"0:2:0:2:0:0:1\":{\"attributes\":[],\"annotations\":[],\"observations\":{\"1\":[23.30,null,null,0,0,0,null,0,0,0]}},\"0:2:0:2:0:1:1\":{\"attributes\":[],\"annotations\":[],\"observations\":{\"1\":[19.40,null,null,0,0,0,null,0,0,0]}},\"0:2:0:2:0:2:1\":{\"attributes\":[],\"annotations\":[],\"observations\":{\"1\":[20.70,null,null,0,0,0,null,0,0,0]}},\"0:3:0:3:0:0:0\":{\"attributes\":[],\"annotations\":[],\"observations\":{\"0\":[24.30,null,null,0,0,0,null,0,0,0]}},\"0:3:0:3:0:1:0\":{\"attributes\":[],\"annotations\":[],\"observations\":{\"0\":[24.80,null,null,0,0,0,null,0,0,0]}},\"0:3:0:3:0:2:0\":{\"attributes\":[],\"annotations\":[],\"observations\":{\"0\":[23.70,null,null,0,0,0,null,0,0,0]}},\"0:4:0:4:0:0:1\":{\"attributes\":[],\"annotations\":[],\"observations\":{\"1\":[29.10,null,null,0,0,0,null,0,0,0]}},\"0:4:0:4:0:1:1\":{\"attributes\":[],\"annotations\":[],\"observations\":{\"1\":[26.90,null,null,0,0,0,null,0,0,0]}},\"0:4:0:4:0:2:1\":{\"attributes\":[],\"annotations\":[],\"observations\":{\"1\":[30.60,null,null,0,0,0,null,0,0,0]}},\"0:5:0:5:0:0:0\":{\"attributes\":[],\"annotations\":[],\"observations\":{\"0\":[16.20,null,null,0,0,0,null,0,0,0]}},\"0:5:0:5:0:1:0\":{\"attributes\":[],\"annotations\":[],\"observations\":{\"0\":[17.70,null,null,0,0,0,null,0,0,0]}},\"0:5:0:5:0:2:0\":{\"attributes\":[],\"annotations\":[],\"observations\":{\"0\":[14.50,null,null,0,0,0,null,0,0,0]}},\"0:6:0:6:0:0:0\":{\"attributes\":[],\"annotations\":[],\"observations\":{\"0\":[36.20,null,null,0,0,0,null,0,0,0]}},\"0:6:0:6:0:1:0\":{\"attributes\":[],\"annotations\":[],\"observations\":{\"0\":[35.70,null,null,0,0,0,null,0,0,0]}},\"0:6:0:6:0:2:0\":{\"attributes\":[],\"annotations\":[],\"observations\":{\"0\":[36.80,null,null,0,0,0,null,0,0,0]}},\"0:7:0:7:0:0:0\":{\"attributes\":[],\"annotations\":[],\"observations\":{\"0\":[13.10,null,null,0,0,0,null,0,0,0]}},\"0:7:0:7:0:1:0\":{\"attributes\":[],\"annotations\":[],\"observations\":{\"0\":[12.70,null,null,0,0,0,null,0,0,0]}},\"0:7:0:7:0:2:0\":{\"attributes\":[],\"annotations\":[],\"observations\":{\"0\":[13.60,null,null,0,0,0,null,0,0,0]}},\"0:8:0:8:0:0:1\":{\"attributes\":[],\"annotations\":[],\"observations\":{\"1\":[5.30,null,null,0,0,0,null,0,0,0]}},\"0:8:0:8:0:1:1\":{\"attributes\":[],\"annotations\":[],\"observations\":{\"1\":[4.50,null,null,0,0,0,null,0,0,0]}},\"0:8:0:8:0:2:1\":{\"attributes\":[],\"annotations\":[],\"observations\":{\"1\":[6.20,null,null,0,0,0,null,0,0,0]}},\"0:9:0:9:0:0:1\":{\"attributes\":[],\"annotations\":[],\"observations\":{\"1\":[48.60,null,null,0,0,0,null,0,0,0]}},\"0:9:0:9:0:1:1\":{\"attributes\":[],\"annotations\":[],\"observations\":{\"1\":[50.50,null,null,0,0,0,null,0,0,0]}},\"0:9:0:9:0:2:1\":{\"attributes\":[],\"annotations\":[],\"observations\":{\"1\":[46.50,null,null,0,0,0,null,0,0,0]}},\"0:10:0:10:0:0:0\":{\"attributes\":[],\"annotations\":[],\"observations\":{\"0\":[10.80,null,null,0,0,0,null,0,0,0]}},\"0:10:0:10:0:1:0\":{\"attributes\":[],\"annotations\":[],\"observations\":{\"0\":[10.10,null,null,0,0,0,null,0,0,0]}},\"0:10:0:10:0:2:0\":{\"attributes\":[],\"annotations\":[],\"observations\":{\"0\":[11.60,null,null,0,0,0,null,0,0,0]}},\"0:11:0:11:0:0:1\":{\"attributes\":[],\"annotations\":[],\"observations\":{\"1\":[5.60,null,null,0,0,0,null,0,0,0]}},\"0:11:0:11:0:1:1\":{\"attributes\":[],\"annotations\":[],\"observations\":{\"1\":[5.50,null,null,0,0,0,null,0,0,0]}},\"0:11:0:11:0:2:1\":{\"attributes\":[],\"annotations\":[],\"observations\":{\"1\":[5.60,null,null,0,0,0,null,0,0,0]}},\"0:12:0:12:0:0:0\":{\"attributes\":[],\"annotations\":[],\"observations\":{\"2\":[26.70,null,null,0,0,0,null,0,0,0]}},\"0:12:0:12:0:1:0\":{\"attributes\":[],\"annotations\":[],\"observations\":{\"2\":[22.40,null,null,0,0,0,null,0,0,0]}},\"0:12:0:12:0:2:0\":{\"attributes\":[],\"annotations\":[],\"observations\":{\"2\":[31.10,null,null,0,0,0,null,0,0,0]}},\"0:13:0:13:0:0:1\":{\"attributes\":[],\"annotations\":[],\"observations\":{\"2\":[38.80,null,null,0,0,0,null,0,0,0]}},\"0:13:0:13:0:1:1\":{\"attributes\":[],\"annotations\":[],\"observations\":{\"2\":[39.50,null,null,0,0,0,null,0,0,0]}},\"0:13:0:13:0:2:1\":{\"attributes\":[],\"annotations\":[],\"observations\":{\"2\":[38.10,null,null,0,0,0,null,0,0,0]}},\"0:14:0:14:0:0:0\":{\"attributes\":[],\"annotations\":[],\"observations\":{\"2\":[21.40,null,null,0,0,0,null,0,0,0]}},\"0:14:0:14:0:1:0\":{\"attributes\":[],\"annotations\":[],\"observations\":{\"2\":[22.80,null,null,0,0,0,null,0,0,0]}},\"0:14:0:14:0:2:0\":{\"attributes\":[],\"annotations\":[],\"observations\":{\"2\":[19.90,null,null,0,0,0,null,0,0,0]}},\"0:15:0:15:0:0:0\":{\"attributes\":[],\"annotations\":[],\"observations\":{\"2\":[3.30,null,null,0,0,0,null,0,0,0]}},\"0:15:0:15:0:1:0\":{\"attributes\":[],\"annotations\":[],\"observations\":{\"2\":[3.90,null,null,0,0,0,null,0,0,0]}},\"0:15:0:15:0:2:0\":{\"attributes\":[],\"annotations\":[],\"observations\":{\"2\":[2.60,null,null,0,0,0,null,0,0,0]}},\"0:16:0:16:0:0:0\":{\"attributes\":[],\"annotations\":[],\"observations\":{\"2\":[16.60,null,null,0,0,0,null,0,0,0]}},\"0:16:0:16:0:1:0\":{\"attributes\":[],\"annotations\":[],\"observations\":{\"2\":[17.80,null,null,0,0,0,null,0,0,0]}},\"0:16:0:16:0:2:0\":{\"attributes\":[],\"annotations\":[],\"observations\":{\"2\":[15.30,null,null,0,0,0,null,0,0,0]}},\"0:17:0:17:0:0:0\":{\"attributes\":[],\"annotations\":[],\"observations\":{\"2\":[19,0,null,0,0,0,null,0,0,0]}},\"0:17:0:17:0:1:0\":{\"attributes\":[],\"annotations\":[],\"observations\":{\"2\":[16.80,0,null,0,0,0,null,0,0,0]}},\"0:17:0:17:0:2:0\":{\"attributes\":[],\"annotations\":[],\"observations\":{\"2\":[21.20,0,null,0,0,0,null,0,0,0]}},\"0:18:0:18:0:0:0\":{\"attributes\":[],\"annotations\":[],\"observations\":{\"2\":[19.40,null,null,0,0,0,null,0,0,0]}},\"0:18:0:18:0:1:0\":{\"attributes\":[],\"annotations\":[],\"observations\":{\"2\":[19.60,null,null,0,0,0,null,0,0,0]}},\"0:18:0:18:0:2:0\":{\"attributes\":[],\"annotations\":[],\"observations\":{\"2\":[19.20,null,null,0,0,0,null,0,0,0]}},\"0:19:0:19:0:0:0\":{\"attributes\":[],\"annotations\":[],\"observations\":{\"2\":[22.60,null,null,0,0,0,null,0,0,0]}},\"0:19:0:19:0:1:0\":{\"attributes\":[],\"annotations\":[],\"observations\":{\"2\":[23.20,null,null,0,0,0,null,0,0,0]}},\"0:19:0:19:0:2:0\":{\"attributes\":[],\"annotations\":[],\"observations\":{\"2\":[22,null,null,0,0,0,null,0,0,0]}},\"0:20:0:20:0:0:0\":{\"attributes\":[],\"annotations\":[],\"observations\":{\"2\":[9.40,null,null,0,0,0,null,0,0,0]}},\"0:20:0:20:0:1:0\":{\"attributes\":[],\"annotations\":[],\"observations\":{\"2\":[9.80,null,null,0,0,0,null,0,0,0]}},\"0:20:0:20:0:2:0\":{\"attributes\":[],\"annotations\":[],\"observations\":{\"2\":[9,null,null,0,0,0,null,0,0,0]}},\"0:21:0:21:0:0:0\":{\"attributes\":[],\"annotations\":[],\"observations\":{\"3\":[22.80,null,null,0,0,0,null,0,0,0]}},\"0:21:0:21:0:1:0\":{\"attributes\":[],\"annotations\":[],\"observations\":{\"3\":[27.10,null,null,0,0,0,null,0,0,0]}},\"0:21:0:21:0:2:0\":{\"attributes\":[],\"annotations\":[],\"observations\":{\"3\":[18.60,null,null,0,0,0,null,0,0,0]}},\"0:22:0:22:0:0:0\":{\"attributes\":[],\"annotations\":[],\"observations\":{\"3\":[1.70,null,null,0,0,0,null,0,0,0]}},\"0:22:0:22:0:1:0\":{\"attributes\":[],\"annotations\":[],\"observations\":{\"3\":[2.30,null,null,0,0,0,null,0,0,0]}},\"0:22:0:22:0:2:0\":{\"attributes\":[],\"annotations\":[],\"observations\":{\"3\":[1,null,null,0,0,0,null,0,0,0]}},\"0:23:0:23:0:0:0\":{\"attributes\":[],\"annotations\":[],\"observations\":{\"3\":[3.60,null,null,0,0,0,null,0,0,0]}},\"0:23:0:23:0:1:0\":{\"attributes\":[],\"annotations\":[],\"observations\":{\"3\":[4.50,null,null,0,0,0,null,0,0,0]}},\"0:23:0:23:0:2:0\":{\"attributes\":[],\"annotations\":[],\"observations\":{\"3\":[2.50,null,null,0,0,0,null,0,0,0]}},\"0:24:0:24:0:0:1\":{\"attributes\":[],\"annotations\":[],\"observations\":{\"4\":[28.50,null,null,0,0,0,null,0,0,0]}},\"0:24:0:24:0:1:1\":{\"attributes\":[],\"annotations\":[],\"observations\":{\"4\":[25.10,null,null,0,0,0,null,0,0,0]}},\"0:24:0:24:0:2:1\":{\"attributes\":[],\"annotations\":[],\"observations\":{\"4\":[31.90,null,null,0,0,0,null,0,0,0]}},\"0:25:0:25:0:0:1\":{\"attributes\":[],\"annotations\":[],\"observations\":{\"4\":[34.40,null,null,0,0,0,null,0,0,0]}},\"0:25:0:25:0:1:1\":{\"attributes\":[],\"annotations\":[],\"observations\":{\"4\":[34.10,null,null,0,0,0,null,0,0,0]}},\"0:25:0:25:0:2:1\":{\"attributes\":[],\"annotations\":[],\"observations\":{\"4\":[34.50,null,null,0,0,0,null,0,0,0]}},\"0:26:0:26:0:0:0\":{\"attributes\":[],\"annotations\":[],\"observations\":{\"5\":[4.90,null,null,0,0,0,null,0,0,0]}},\"0:26:0:26:0:1:0\":{\"attributes\":[],\"annotations\":[],\"observations\":{\"5\":[5.80,null,null,0,0,0,null,0,0,0]}},\"0:26:0:26:0:2:0\":{\"attributes\":[],\"annotations\":[],\"observations\":{\"5\":[4,null,null,0,0,0,null,0,0,0]}},\"0:27:0:27:0:0:0\":{\"attributes\":[],\"annotations\":[],\"observations\":{\"3\":[31.50,null,null,0,0,0,null,0,0,0]}},\"0:27:0:27:0:1:0\":{\"attributes\":[],\"annotations\":[],\"observations\":{\"3\":[32.30,null,null,0,0,0,null,0,0,0]}},\"0:27:0:27:0:2:0\":{\"attributes\":[],\"annotations\":[],\"observations\":{\"3\":[30.70,null,null,0,0,0,null,0,0,0]}},\"0:28:0:28:0:0:1\":{\"attributes\":[],\"annotations\":[],\"observations\":{\"4\":[32.80,null,null,0,0,0,null,0,0,0]}},\"0:28:0:28:0:1:1\":{\"attributes\":[],\"annotations\":[],\"observations\":{\"4\":[32.60,null,null,0,0,0,null,0,0,0]}},\"0:28:0:28:0:2:1\":{\"attributes\":[],\"annotations\":[],\"observations\":{\"4\":[32.50,null,null,0,0,0,null,0,0,0]}},\"0:29:0:29:0:0:0\":{\"attributes\":[],\"annotations\":[],\"observations\":{\"5\":[17.90,null,null,0,0,0,null,0,0,0]}},\"0:29:0:29:0:1:0\":{\"attributes\":[],\"annotations\":[],\"observations\":{\"5\":[20.30,null,null,0,0,0,null,0,0,0]}},\"0:29:0:29:0:2:0\":{\"attributes\":[],\"annotations\":[],\"observations\":{\"5\":[13.10,null,null,0,0,0,null,0,0,0]}},\"0:30:0:30:0:0:1\":{\"attributes\":[],\"annotations\":[],\"observations\":{\"5\":[17.90,null,null,0,0,0,null,0,0,0]}},\"0:30:0:30:0:1:1\":{\"attributes\":[],\"annotations\":[],\"observations\":{\"5\":[17.10,null,null,0,0,0,null,0,0,0]}},\"0:30:0:30:0:2:1\":{\"attributes\":[],\"annotations\":[],\"observations\":{\"5\":[18.60,null,null,0,0,0,null,0,0,0]}},\"0:31:0:31:0:0:1\":{\"attributes\":[],\"annotations\":[],\"observations\":{\"4\":[3.30,null,null,0,0,0,null,0,0,0]}},\"0:31:0:31:0:1:1\":{\"attributes\":[],\"annotations\":[],\"observations\":{\"4\":[4.60,null,null,0,0,0,null,0,0,0]}},\"0:31:0:31:0:2:1\":{\"attributes\":[],\"annotations\":[],\"observations\":{\"4\":[1.90,null,null,0,0,0,null,0,0,0]}},\"0:32:0:32:0:0:1\":{\"attributes\":[],\"annotations\":[],\"observations\":{\"4\":[1.40,null,null,0,0,0,null,0,0,0]}},\"0:32:0:32:0:1:1\":{\"attributes\":[],\"annotations\":[],\"observations\":{\"4\":[1.80,null,null,0,0,0,null,0,0,0]}},\"0:32:0:32:0:2:1\":{\"attributes\":[],\"annotations\":[],\"observations\":{\"4\":[0.90,null,null,0,0,0,null,0,0,0]}},\"0:33:0:33:0:0:0\":{\"attributes\":[],\"annotations\":[],\"observations\":{\"5\":[5.40,null,null,0,0,0,null,0,0,0]}},\"0:33:0:33:0:1:0\":{\"attributes\":[],\"annotations\":[],\"observations\":{\"5\":[5.40,null,null,0,0,0,null,0,0,0]}},\"0:33:0:33:0:2:0\":{\"attributes\":[],\"annotations\":[],\"observations\":{\"5\":[5.30,null,null,0,0,0,null,0,0,0]}},\"0:34:0:34:0:0:0\":{\"attributes\":[],\"annotations\":[],\"observations\":{\"5\":[14.50,null,null,0,0,0,null,0,0,0]}},\"0:34:0:34:0:1:0\":{\"attributes\":[],\"annotations\":[],\"observations\":{\"5\":[14.30,null,null,0,0,0,null,0,0,0]}},\"0:34:0:34:0:2:0\":{\"attributes\":[],\"annotations\":[],\"observations\":{\"5\":[14.70,null,null,0,0,0,null,0,0,0]}},\"0:35:0:35:0:0:0\":{\"attributes\":[],\"annotations\":[],\"observations\":{\"5\":[0.30,null,null,0,0,0,null,0,0,0]}},\"0:35:0:35:0:1:0\":{\"attributes\":[],\"annotations\":[],\"observations\":{\"5\":[0.40,null,null,0,0,0,null,0,0,0]}},\"0:35:0:35:0:2:0\":{\"attributes\":[],\"annotations\":[],\"observations\":{\"5\":[0.10,null,null,0,0,0,null,0,0,0]}},\"0:36:0:36:0:0:1\":{\"attributes\":[],\"annotations\":[],\"observations\":{\"4\":[19.60,null,null,0,0,0,null,0,0,0]}},\"0:36:0:36:0:1:1\":{\"attributes\":[],\"annotations\":[],\"observations\":{\"4\":[19.30,null,null,0,0,0,null,0,0,0]}},\"0:36:0:36:0:2:1\":{\"attributes\":[],\"annotations\":[],\"observations\":{\"4\":[16.60,null,null,0,0,0,null,0,0,0]}},\"0:37:0:37:0:0:1\":{\"attributes\":[],\"annotations\":[],\"observations\":{\"4\":[4.30,null,null,0,0,0,null,0,0,0]}},\"0:37:0:37:0:1:1\":{\"attributes\":[],\"annotations\":[],\"observations\":{\"4\":[4.80,null,null,0,0,0,null,0,0,0]}},\"0:37:0:37:0:2:1\":{\"attributes\":[],\"annotations\":[],\"observations\":{\"4\":[3.70,null,null,0,0,0,null,0,0,0]}},\"0:38:0:38:0:0:0\":{\"attributes\":[],\"annotations\":[],\"observations\":{\"5\":[1.60,null,null,0,0,0,null,0,0,0]}},\"0:38:0:38:0:1:0\":{\"attributes\":[],\"annotations\":[],\"observations\":{\"5\":[2.10,null,null,0,0,0,null,0,0,0]}},\"0:38:0:38:0:2:0\":{\"attributes\":[],\"annotations\":[],\"observations\":{\"5\":[1,null,null,0,0,0,null,0,0,0]}},\"0:39:0:39:0:0:0\":{\"attributes\":[],\"annotations\":[],\"observations\":{\"4\":[19.90,1,null,0,0,0,null,0,0,0]}},\"0:39:0:39:0:1:0\":{\"attributes\":[],\"annotations\":[],\"observations\":{\"4\":[18.60,1,null,0,0,0,null,0,0,0]}},\"0:39:0:39:0:2:0\":{\"attributes\":[],\"annotations\":[],\"observations\":{\"4\":[21.30,1,null,0,0,0,null,0,0,0]}},\"0:40:0:40:0:0:0\":{\"attributes\":[],\"annotations\":[],\"observations\":{\"4\":[20.60,null,null,0,0,0,null,0,0,0]}},\"0:40:0:40:0:1:0\":{\"attributes\":[],\"annotations\":[],\"observations\":{\"4\":[19.80,null,null,0,0,0,null,0,0,0]}},\"0:40:0:40:0:2:0\":{\"attributes\":[],\"annotations\":[],\"observations\":{\"4\":[21.40,null,null,0,0,0,null,0,0,0]}},\"0:41:0:41:0:0:1\":{\"attributes\":[],\"annotations\":[],\"observations\":{\"4\":[1,null,null,0,0,0,null,0,0,0]}},\"0:41:0:41:0:1:1\":{\"attributes\":[],\"annotations\":[],\"observations\":{\"4\":[1,null,null,0,0,0,null,0,0,0]}},\"0:41:0:41:0:2:1\":{\"attributes\":[],\"annotations\":[],\"observations\":{\"4\":[1,null,null,0,0,0,null,0,0,0]}},\"0:42:0:42:0:0:0\":{\"attributes\":[],\"annotations\":[],\"observations\":{\"5\":[10,null,null,0,0,0,null,0,0,0]}},\"0:42:0:42:0:1:0\":{\"attributes\":[],\"annotations\":[],\"observations\":{\"5\":[9.20,null,null,0,0,0,null,0,0,0]}},\"0:42:0:42:0:2:0\":{\"attributes\":[],\"annotations\":[],\"observations\":{\"5\":[10.80,null,null,0,0,0,null,0,0,0]}},\"0:43:0:43:0:0:0\":{\"attributes\":[],\"annotations\":[],\"observations\":{\"4\":[12.60,null,null,0,0,0,null,0,0,0]}},\"0:43:0:43:0:1:0\":{\"attributes\":[],\"annotations\":[],\"observations\":{\"4\":[11.50,null,null,0,0,0,null,0,0,0]}},\"0:43:0:43:0:2:0\":{\"attributes\":[],\"annotations\":[],\"observations\":{\"4\":[13.80,null,null,0,0,0,null,0,0,0]}},\"0:44:0:44:0:0:0\":{\"attributes\":[],\"annotations\":[],\"observations\":{\"4\":[5.90,null,null,0,0,0,null,0,0,0]}},\"0:44:0:44:0:1:0\":{\"attributes\":[],\"annotations\":[],\"observations\":{\"4\":[6.70,null,null,0,0,0,null,0,0,0]}},\"0:44:0:44:0:2:0\":{\"attributes\":[],\"annotations\":[],\"observations\":{\"4\":[5.20,null,null,0,0,0,null,0,0,0]}},\"0:45:0:45:0:0:1\":{\"attributes\":[],\"annotations\":[],\"observations\":{\"4\":[35.50,null,null,0,0,0,null,0,0,0]}},\"0:45:0:45:0:1:1\":{\"attributes\":[],\"annotations\":[],\"observations\":{\"4\":[44,null,null,0,0,0,null,0,0,0]}},\"0:45:0:45:0:2:1\":{\"attributes\":[],\"annotations\":[],\"observations\":{\"4\":[26.20,null,null,0,0,0,null,0,0,0]}},\"0:46:0:46:0:0:0\":{\"attributes\":[],\"annotations\":[],\"observations\":{\"5\":[37.10,null,null,0,0,0,null,0,0,0]}},\"0:46:0:46:0:1:0\":{\"attributes\":[],\"annotations\":[],\"observations\":{\"5\":[39.50,null,null,0,0,0,null,0,0,0]}},\"0:46:0:46:0:2:0\":{\"attributes\":[],\"annotations\":[],\"observations\":{\"5\":[34.50,null,null,0,0,0,null,0,0,0]}},\"0:47:0:47:0:0:1\":{\"attributes\":[],\"annotations\":[],\"observations\":{\"4\":[3.20,null,null,0,0,0,null,0,0,0]}},\"0:47:0:47:0:1:1\":{\"attributes\":[],\"annotations\":[],\"observations\":{\"4\":[3.10,null,null,0,0,0,null,0,0,0]}},\"0:47:0:47:0:2:1\":{\"attributes\":[],\"annotations\":[],\"observations\":{\"4\":[3.40,null,null,0,0,0,null,0,0,0]}},\"0:48:0:48:0:0:0\":{\"attributes\":[],\"annotations\":[],\"observations\":{\"5\":[4.10,null,null,0,0,0,null,0,0,0]}},\"0:48:0:48:0:1:0\":{\"attributes\":[],\"annotations\":[],\"observations\":{\"5\":[5,null,null,0,0,0,null,0,0,0]}},\"0:48:0:48:0:2:0\":{\"attributes\":[],\"annotations\":[],\"observations\":{\"5\":[3,null,null,0,0,0,null,0,0,0]}},\"0:49:0:49:0:0:0\":{\"attributes\":[],\"annotations\":[],\"observations\":{\"5\":[18.70,null,null,0,0,0,null,0,0,0]}},\"0:49:0:49:0:1:0\":{\"attributes\":[],\"annotations\":[],\"observations\":{\"5\":[16.60,null,null,0,0,0,null,0,0,0]}},\"0:49:0:49:0:2:0\":{\"attributes\":[],\"annotations\":[],\"observations\":{\"5\":[19.90,null,null,0,0,0,null,0,0,0]}},\"0:50:0:50:0:0:1\":{\"attributes\":[],\"annotations\":[],\"observations\":{\"6\":[3.80,null,null,0,0,0,null,0,0,0]}},\"0:50:0:50:0:1:1\":{\"attributes\":[],\"annotations\":[],\"observations\":{\"6\":[4,null,null,0,0,0,null,0,0,0]}},\"0:50:0:50:0:2:1\":{\"attributes\":[],\"annotations\":[],\"observations\":{\"6\":[3.70,null,null,0,0,0,null,0,0,0]}},\"0:51:0:51:0:0:1\":{\"attributes\":[],\"annotations\":[],\"observations\":{\"6\":[9.40,null,null,0,0,0,null,0,0,0]}},\"0:51:0:51:0:1:1\":{\"attributes\":[],\"annotations\":[],\"observations\":{\"6\":[10.50,null,null,0,0,0,null,0,0,0]}},\"0:51:0:51:0:2:1\":{\"attributes\":[],\"annotations\":[],\"observations\":{\"6\":[8.20,null,null,0,0,0,null,0,0,0]}},\"0:52:0:52:0:0:1\":{\"attributes\":[],\"annotations\":[],\"observations\":{\"6\":[7.80,null,null,0,0,0,null,0,0,0]}},\"0:52:0:52:0:1:1\":{\"attributes\":[],\"annotations\":[],\"observations\":{\"6\":[8.40,null,null,0,0,0,null,0,0,0]}},\"0:52:0:52:0:2:1\":{\"attributes\":[],\"annotations\":[],\"observations\":{\"6\":[7.10,null,null,0,0,0,null,0,0,0]}},\"0:53:0:53:0:2:1\":{\"attributes\":[],\"annotations\":[],\"observations\":{\"6\":[32.50,null,null,0,0,0,null,0,0,0]}},\"0:53:0:53:0:0:1\":{\"attributes\":[],\"annotations\":[],\"observations\":{\"6\":[31.60,null,null,0,0,0,null,0,0,0]}},\"0:53:0:53:0:1:1\":{\"attributes\":[],\"annotations\":[],\"observations\":{\"6\":[29.40,null,null,0,0,0,null,0,0,0]}},\"0:54:0:54:0:0:0\":{\"attributes\":[],\"annotations\":[],\"observations\":{\"6\":[14,null,null,0,0,0,null,0,0,0]}},\"0:54:0:54:0:1:0\":{\"attributes\":[],\"annotations\":[],\"observations\":{\"6\":[15,null,null,0,0,0,null,0,0,0]}},\"0:54:0:54:0:2:0\":{\"attributes\":[],\"annotations\":[],\"observations\":{\"6\":[12.90,null,null,0,0,0,null,0,0,0]}},\"0:55:0:55:0:0:1\":{\"attributes\":[],\"annotations\":[],\"observations\":{\"6\":[42,null,null,0,0,0,null,0,0,0]}},\"0:55:0:55:0:1:1\":{\"attributes\":[],\"annotations\":[],\"observations\":{\"6\":[43.70,null,null,0,0,0,null,0,0,0]}},\"0:55:0:55:0:2:1\":{\"attributes\":[],\"annotations\":[],\"observations\":{\"6\":[39.90,null,null,0,0,0,null,0,0,0]}},\"0:56:0:56:0:0:0\":{\"attributes\":[],\"annotations\":[],\"observations\":{\"6\":[12.30,null,null,0,0,0,null,0,0,0]}},\"0:56:0:56:0:1:0\":{\"attributes\":[],\"annotations\":[],\"observations\":{\"6\":[10.80,null,null,0,0,0,null,0,0,0]}},\"0:56:0:56:0:2:0\":{\"attributes\":[],\"annotations\":[],\"observations\":{\"6\":[13.80,null,null,0,0,0,null,0,0,0]}},\"0:57:0:57:0:0:1\":{\"attributes\":[],\"annotations\":[],\"observations\":{\"6\":[30.50,null,null,0,0,0,null,0,0,0]}},\"0:57:0:57:0:1:1\":{\"attributes\":[],\"annotations\":[],\"observations\":{\"6\":[28.70,null,null,0,0,0,null,0,0,0]}},\"0:57:0:57:0:2:1\":{\"attributes\":[],\"annotations\":[],\"observations\":{\"6\":[32.20,null,null,0,0,0,null,0,0,0]}},\"0:58:0:58:0:0:1\":{\"attributes\":[],\"annotations\":[],\"observations\":{\"6\":[3.30,null,null,0,0,0,null,0,0,0]}},\"0:58:0:58:0:1:1\":{\"attributes\":[],\"annotations\":[],\"observations\":{\"6\":[3.60,null,null,0,0,0,null,0,0,0]}},\"0:58:0:58:0:2:1\":{\"attributes\":[],\"annotations\":[],\"observations\":{\"6\":[3,null,null,0,0,0,null,0,0,0]}},\"0:59:0:59:0:0:1\":{\"attributes\":[],\"annotations\":[],\"observations\":{\"6\":[3.50,null,null,0,0,0,null,0,0,0]}},\"0:59:0:59:0:1:1\":{\"attributes\":[],\"annotations\":[],\"observations\":{\"6\":[2.80,null,null,0,0,0,null,0,0,0]}},\"0:59:0:59:0:2:1\":{\"attributes\":[],\"annotations\":[],\"observations\":{\"6\":[4.20,null,null,0,0,0,null,0,0,0]}},\"0:60:0:60:0:0:0\":{\"attributes\":[],\"annotations\":[],\"observations\":{\"0\":[18.20,null,null,0,0,0,null,0,0,0]}},\"0:60:0:60:0:1:0\":{\"attributes\":[],\"annotations\":[],\"observations\":{\"0\":[17.40,null,null,0,0,0,null,0,0,0]}},\"0:60:0:60:0:2:0\":{\"attributes\":[],\"annotations\":[],\"observations\":{\"0\":[18.90,null,null,0,0,0,null,0,0,0]}},\"0:61:0:61:0:0:0\":{\"attributes\":[],\"annotations\":[],\"observations\":{\"0\":[7,null,null,0,0,0,null,0,0,0]}},\"0:61:0:61:0:1:0\":{\"attributes\":[],\"annotations\":[],\"observations\":{\"0\":[7.90,null,null,0,0,0,null,0,0,0]}},\"0:61:0:61:0:2:0\":{\"attributes\":[],\"annotations\":[],\"observations\":{\"0\":[6,null,null,0,0,0,null,0,0,0]}},\"0:62:0:62:0:2:1\":{\"attributes\":[],\"annotations\":[],\"observations\":{\"1\":[17.90,null,null,0,0,0,null,0,0,0]}},\"0:62:0:62:0:0:1\":{\"attributes\":[],\"annotations\":[],\"observations\":{\"1\":[17.40,null,null,0,0,0,null,0,0,0]}},\"0:62:0:62:0:1:1\":{\"attributes\":[],\"annotations\":[],\"observations\":{\"1\":[16.80,null,null,0,0,0,null,0,0,0]}},\"0:63:0:63:0:0:0\":{\"attributes\":[],\"annotations\":[],\"observations\":{\"0\":[2.60,null,null,0,0,0,null,0,0,0]}},\"0:63:0:63:0:1:0\":{\"attributes\":[],\"annotations\":[],\"observations\":{\"0\":[3.30,null,null,0,0,0,null,0,0,0]}},\"0:63:0:63:0:2:0\":{\"attributes\":[],\"annotations\":[],\"observations\":{\"0\":[1.90,null,null,0,0,0,null,0,0,0]}},\"0:64:0:64:0:0:1\":{\"attributes\":[],\"annotations\":[],\"observations\":{\"1\":[7.60,null,null,0,0,0,null,0,0,0]}},\"0:64:0:64:0:1:1\":{\"attributes\":[],\"annotations\":[],\"observations\":{\"1\":[8,null,null,0,0,0,null,0,0,0]}},\"0:64:0:64:0:2:1\":{\"attributes\":[],\"annotations\":[],\"observations\":{\"1\":[7.10,null,null,0,0,0,null,0,0,0]}},\"0:65:0:65:0:0:0\":{\"attributes\":[],\"annotations\":[],\"observations\":{\"0\":[4.80,null,null,0,0,0,null,0,0,0]}},\"0:65:0:65:0:1:0\":{\"attributes\":[],\"annotations\":[],\"observations\":{\"0\":[5.80,null,null,0,0,0,null,0,0,0]}},\"0:65:0:65:0:2:0\":{\"attributes\":[],\"annotations\":[],\"observations\":{\"0\":[3.70,null,null,0,0,0,null,0,0,0]}},\"0:66:0:66:0:0:0\":{\"attributes\":[],\"annotations\":[],\"observations\":{\"0\":[21.70,null,null,0,0,0,null,0,0,0]}},\"0:66:0:66:0:1:0\":{\"attributes\":[],\"annotations\":[],\"observations\":{\"0\":[20.30,null,null,0,0,0,null,0,0,0]}},\"0:66:0:66:0:2:0\":{\"attributes\":[],\"annotations\":[],\"observations\":{\"0\":[23.10,null,null,0,0,0,null,0,0,0]}},\"0:67:0:67:0:0:1\":{\"attributes\":[],\"annotations\":[],\"observations\":{\"1\":[2.90,null,null,0,0,0,null,0,0,0]}},\"0:67:0:67:0:1:1\":{\"attributes\":[],\"annotations\":[],\"observations\":{\"1\":[2.80,null,null,0,0,0,null,0,0,0]}},\"0:67:0:67:0:2:1\":{\"attributes\":[],\"annotations\":[],\"observations\":{\"1\":[3,null,null,0,0,0,null,0,0,0]}},\"0:68:0:68:0:0:0\":{\"attributes\":[],\"annotations\":[],\"observations\":{\"0\":[38.90,null,null,0,0,0,null,0,0,0]}},\"0:68:0:68:0:1:0\":{\"attributes\":[],\"annotations\":[],\"observations\":{\"0\":[40.10,null,null,0,0,0,null,0,0,0]}},\"0:68:0:68:0:2:0\":{\"attributes\":[],\"annotations\":[],\"observations\":{\"0\":[37.70,null,null,0,0,0,null,0,0,0]}},\"0:69:0:69:0:0:0\":{\"attributes\":[],\"annotations\":[],\"observations\":{\"0\":[18.10,null,null,0,0,0,null,0,0,0]}},\"0:69:0:69:0:1:0\":{\"attributes\":[],\"annotations\":[],\"observations\":{\"0\":[19.90,null,null,0,0,0,null,0,0,0]}},\"0:69:0:69:0:2:0\":{\"attributes\":[],\"annotations\":[],\"observations\":{\"0\":[16.30,null,null,0,0,0,null,0,0,0]}},\"0:70:0:70:0:0:1\":{\"attributes\":[],\"annotations\":[],\"observations\":{\"1\":[2.30,null,null,0,0,0,null,0,0,0]}},\"0:70:0:70:0:1:1\":{\"attributes\":[],\"annotations\":[],\"observations\":{\"1\":[3,null,null,0,0,0,null,0,0,0]}},\"0:70:0:70:0:2:1\":{\"attributes\":[],\"annotations\":[],\"observations\":{\"1\":[1.40,null,null,0,0,0,null,0,0,0]}},\"0:71:0:71:0:0:0\":{\"attributes\":[],\"annotations\":[],\"observations\":{\"0\":[7,null,null,0,0,0,null,0,0,0]}},\"0:71:0:71:0:1:0\":{\"attributes\":[],\"annotations\":[],\"observations\":{\"0\":[7.80,null,null,0,0,0,null,0,0,0]}},\"0:71:0:71:0:2:0\":{\"attributes\":[],\"annotations\":[],\"observations\":{\"0\":[6.10,null,null,0,0,0,null,0,0,0]}}}}],\"structure\":{\"name\":{\"en\":\"SDG indicator 8.7.1 - Proportion of children engaged in economic activity and household chores\"},\"description\":{\"en\":\"Estimates on economic activity and household chores among children aged 5-17 refer to: (a) children 5&ndash;11 years old who, during the reference week, did at least one hour of economic activity or at least 21 hours of household chores, (b) children 12&ndash;14 years old who, during the reference week, did at least 14 hours of economic activity or at least 21 hours of household chores, (c) children 15&ndash;17 years old who, during the reference week, did at least 43 hours of economic activity. For more information, see the <a href=\\\"https://unstats.un.org/sdgs/metadata/\\\">SDG Indicators Metadata Repository</a>.\"},\"dimensions\":{\"dataset\":[],\"series\":[{\"id\":\"COLLECTION\",\"name\":{\"en\":\"Data collection\"},\"keyPosition\":0,\"roles\":[\"COLLECTION\"],\"values\":[{\"id\":\"SDG\",\"order\":1,\"name\":{\"en\":\"SDG labour market indicators\"},\"annotations\":[6]}]},{\"id\":\"REF_AREA\",\"name\":{\"en\":\"Reference area\"},\"keyPosition\":1,\"roles\":[\"REF_AREA\"],\"values\":[{\"id\":\"BEN\",\"order\":170,\"name\":{\"en\":\"Benin\"},\"annotations\":[7,8,9,10,11,12]},{\"id\":\"TCD\",\"order\":207,\"name\":{\"en\":\"Chad\"},\"annotations\":[13,8,14,15,11,12]},{\"id\":\"COG\",\"order\":177,\"name\":{\"en\":\"Congo\"},\"annotations\":[16,8,17,18,11,19]},{\"id\":\"TZA\",\"order\":151,\"name\":{\"en\":\"Tanzania, United Republic of\"},\"annotations\":[20,8,21,22,11,12]},{\"id\":\"CIV\",\"order\":174,\"name\":{\"en\":\"Côte d'Ivoire\"},\"annotations\":[23,8,24,25,11,19]},{\"id\":\"KGZ\",\"order\":38,\"name\":{\"en\":\"Kyrgyzstan\"},\"annotations\":[26,8,27,28,29,19]},{\"id\":\"GNB\",\"order\":186,\"name\":{\"en\":\"Guinea-Bissau\"},\"annotations\":[30,8,31,32,11,12]},{\"id\":\"VNM\",\"order\":159,\"name\":{\"en\":\"Viet Nam\"},\"annotations\":[33,8,34,35,36,19]},{\"id\":\"CRI\",\"order\":216,\"name\":{\"en\":\"Costa Rica\"},\"annotations\":[37,8,38,39,40,41]},{\"id\":\"ETH\",\"order\":4,\"name\":{\"en\":\"Ethiopia\"},\"annotations\":[42,8,43,44,11,12]},{\"id\":\"GUY\",\"order\":19,\"name\":{\"en\":\"Guyana\"},\"annotations\":[45,8,46,47,40,41]},{\"id\":\"IRQ\",\"order\":28,\"name\":{\"en\":\"Iraq\"},\"annotations\":[48,8,49,50,51,41]},{\"id\":\"COD\",\"order\":176,\"name\":{\"en\":\"Congo, Democratic Republic of the\"},\"annotations\":[52,8,53,54,11,12]},{\"id\":\"SLE\",\"order\":129,\"name\":{\"en\":\"Sierra Leone\"},\"annotations\":[55,8,56,57,11,12]},{\"id\":\"AFG\",\"order\":59,\"name\":{\"en\":\"Afghanistan\"},\"annotations\":[58,8,59,60,36,12]},{\"id\":\"BLZ\",\"order\":76,\"name\":{\"en\":\"Belize\"},\"annotations\":[61,8,62,63,40,41]},{\"id\":\"MNG\",\"order\":97,\"name\":{\"en\":\"Mongolia\"},\"annotations\":[64,8,65,66,36,19]},{\"id\":\"RWA\",\"order\":204,\"name\":{\"en\":\"Rwanda\"},\"annotations\":[67,8,68,69,11,12]},{\"id\":\"MWI\",\"order\":101,\"name\":{\"en\":\"Malawi\"},\"annotations\":[70,8,71,72,11,12]},{\"id\":\"TGO\",\"order\":208,\"name\":{\"en\":\"Togo\"},\"annotations\":[73,8,74,75,11,12]},{\"id\":\"MNE\",\"order\":96,\"name\":{\"en\":\"Montenegro\"},\"annotations\":[76,8,77,78,29,41]},{\"id\":\"SEN\",\"order\":205,\"name\":{\"en\":\"Senegal\"},\"annotations\":[79,8,80,81,11,12]},{\"id\":\"JOR\",\"order\":34,\"name\":{\"en\":\"Jordan\"},\"annotations\":[82,8,83,84,51,41]},{\"id\":\"COL\",\"order\":215,\"name\":{\"en\":\"Colombia\"},\"annotations\":[85,8,86,87,40,41]},{\"id\":\"COM\",\"order\":178,\"name\":{\"en\":\"Comoros\"},\"annotations\":[88,8,89,90,11,12]},{\"id\":\"NER\",\"order\":199,\"name\":{\"en\":\"Niger\"},\"annotations\":[91,8,92,93,11,12]},{\"id\":\"MEX\",\"order\":225,\"name\":{\"en\":\"Mexico\"},\"annotations\":[94,8,95,96,40,41]},{\"id\":\"NGA\",\"order\":106,\"name\":{\"en\":\"Nigeria\"},\"annotations\":[97,8,98,99,11,19]},{\"id\":\"GIN\",\"order\":184,\"name\":{\"en\":\"Guinea\"},\"annotations\":[100,8,101,102,11,12]},{\"id\":\"PRY\",\"order\":229,\"name\":{\"en\":\"Paraguay\"},\"annotations\":[103,8,104,105,40,41]},{\"id\":\"SLB\",\"order\":128,\"name\":{\"en\":\"Solomon Islands\"},\"annotations\":[106,8,107,108,36,19]},{\"id\":\"LCA\",\"order\":48,\"name\":{\"en\":\"Saint Lucia\"},\"annotations\":[109,8,110,111,40,41]},{\"id\":\"BRB\",\"order\":78,\"name\":{\"en\":\"Barbados\"},\"annotations\":[112,8,113,114,40,115]},{\"id\":\"BRA\",\"order\":213,\"name\":{\"en\":\"Brazil\"},\"annotations\":[116,8,117,118,40,41]},{\"id\":\"PER\",\"order\":228,\"name\":{\"en\":\"Peru\"},\"annotations\":[119,8,120,121,40,41]},{\"id\":\"TKM\",\"order\":144,\"name\":{\"en\":\"Turkmenistan\"},\"annotations\":[122,8,123,124,29,41]},{\"id\":\"GAB\",\"order\":183,\"name\":{\"en\":\"Gabon\"},\"annotations\":[125,8,126,127,11,41]},{\"id\":\"DZA\",\"order\":181,\"name\":{\"en\":\"Algeria\"},\"annotations\":[128,8,129,130,11,41]},{\"id\":\"GEO\",\"order\":10,\"name\":{\"en\":\"Georgia\"},\"annotations\":[131,8,132,133,29,19]},{\"id\":\"GHA\",\"order\":12,\"name\":{\"en\":\"Ghana\"},\"annotations\":[134,8,135,136,11,19]},{\"id\":\"UGA\",\"order\":152,\"name\":{\"en\":\"Uganda\"},\"annotations\":[137,8,138,139,11,12]},{\"id\":\"BLR\",\"order\":75,\"name\":{\"en\":\"Belarus\"},\"annotations\":[140,8,141,142,29,41]},{\"id\":\"SLV\",\"order\":230,\"name\":{\"en\":\"El Salvador\"},\"annotations\":[143,8,144,145,40,19]},{\"id\":\"KHM\",\"order\":39,\"name\":{\"en\":\"Cambodia\"},\"annotations\":[146,8,147,148,36,19]},{\"id\":\"CHL\",\"order\":214,\"name\":{\"en\":\"Chile\"},\"annotations\":[149,8,150,151,40,115]},{\"id\":\"HTI\",\"order\":188,\"name\":{\"en\":\"Haiti\"},\"annotations\":[152,8,153,154,40,12]},{\"id\":\"MLI\",\"order\":194,\"name\":{\"en\":\"Mali\"},\"annotations\":[155,8,156,157,11,12]},{\"id\":\"UKR\",\"order\":153,\"name\":{\"en\":\"Ukraine\"},\"annotations\":[158,8,159,160,29,19]},{\"id\":\"ARM\",\"order\":64,\"name\":{\"en\":\"Armenia\"},\"annotations\":[161,8,162,163,29,41]},{\"id\":\"AGO\",\"order\":166,\"name\":{\"en\":\"Angola\"},\"annotations\":[164,8,165,166,11,19]},{\"id\":\"SUR\",\"order\":133,\"name\":{\"en\":\"Suriname\"},\"annotations\":[167,8,168,169,40,41]},{\"id\":\"PSE\",\"order\":121,\"name\":{\"en\":\"Occupied Palestinian Territory\"},\"annotations\":[170,8,171,172,51,19]},{\"id\":\"SWZ\",\"order\":137,\"name\":{\"en\":\"Eswatini\"},\"annotations\":[173,8,174,175,11,19]},{\"id\":\"BDI\",\"order\":168,\"name\":{\"en\":\"Burundi\"},\"annotations\":[176,8,177,178,11,12]},{\"id\":\"LBR\",\"order\":46,\"name\":{\"en\":\"Liberia\"},\"annotations\":[179,8,180,181,11,12]},{\"id\":\"BFA\",\"order\":171,\"name\":{\"en\":\"Burkina Faso\"},\"annotations\":[182,8,183,184,11,12]},{\"id\":\"LAO\",\"order\":45,\"name\":{\"en\":\"Lao People's Democratic Republic\"},\"annotations\":[185,8,186,187,36,19]},{\"id\":\"CAF\",\"order\":172,\"name\":{\"en\":\"Central African Republic\"},\"annotations\":[188,8,189,190,11,12]},{\"id\":\"ALB\",\"order\":61,\"name\":{\"en\":\"Albania\"},\"annotations\":[191,8,192,193,29,41]},{\"id\":\"BTN\",\"order\":80,\"name\":{\"en\":\"Bhutan\"},\"annotations\":[194,8,195,196,36,19]},{\"id\":\"STP\",\"order\":231,\"name\":{\"en\":\"Sao Tome and Principe\"},\"annotations\":[197,8,198,199,11,19]},{\"id\":\"DOM\",\"order\":218,\"name\":{\"en\":\"Dominican Republic\"},\"annotations\":[200,8,201,202,40,41]},{\"id\":\"MRT\",\"order\":196,\"name\":{\"en\":\"Mauritania\"},\"annotations\":[203,8,204,205,11,19]},{\"id\":\"PAN\",\"order\":227,\"name\":{\"en\":\"Panama\"},\"annotations\":[206,8,207,208,40,115]},{\"id\":\"MKD\",\"order\":93,\"name\":{\"en\":\"North Macedonia\"},\"annotations\":[209,8,210,211,29,41]},{\"id\":\"EGY\",\"order\":1,\"name\":{\"en\":\"Egypt\"},\"annotations\":[212,8,213,214,11,19]},{\"id\":\"NPL\",\"order\":110,\"name\":{\"en\":\"Nepal\"},\"annotations\":[215,8,216,217,36,12]},{\"id\":\"JAM\",\"order\":32,\"name\":{\"en\":\"Jamaica\"},\"annotations\":[218,8,219,220,40,41]},{\"id\":\"CMR\",\"order\":175,\"name\":{\"en\":\"Cameroon\"},\"annotations\":[221,8,222,223,11,19]},{\"id\":\"SDN\",\"order\":125,\"name\":{\"en\":\"Sudan\"},\"annotations\":[224,8,225,226,11,19]},{\"id\":\"TUN\",\"order\":209,\"name\":{\"en\":\"Tunisia\"},\"annotations\":[227,8,228,229,11,19]},{\"id\":\"SRB\",\"order\":132,\"name\":{\"en\":\"Serbia\"},\"annotations\":[230,8,231,232,29,41]}]},{\"id\":\"FREQ\",\"name\":{\"en\":\"Frequency\"},\"keyPosition\":2,\"roles\":[\"FREQ\"],\"values\":[{\"id\":\"A\",\"order\":1,\"name\":{\"en\":\"Annual\"},\"annotations\":[233]}]},{\"id\":\"SURVEY\",\"name\":{\"en\":\"Survey\"},\"keyPosition\":3,\"roles\":[\"SURVEY\"],\"values\":[{\"id\":\"13971\",\"order\":3883,\"name\":{\"en\":\"UNICEF and ILO calculations\"},\"annotations\":[234,235,236,237]},{\"id\":\"13983\",\"order\":3895,\"name\":{\"en\":\"UNICEF and ILO calculations\"},\"annotations\":[234,238,236,237]},{\"id\":\"13967\",\"order\":3879,\"name\":{\"en\":\"UNICEF and ILO calculations\"},\"annotations\":[234,239,236,237]},{\"id\":\"13985\",\"order\":3897,\"name\":{\"en\":\"UNICEF and ILO calculations\"},\"annotations\":[234,240,236,237]},{\"id\":\"14013\",\"order\":3925,\"name\":{\"en\":\"UNICEF and ILO calculations\"},\"annotations\":[234,241,236,237]},{\"id\":\"13968\",\"order\":3880,\"name\":{\"en\":\"UNICEF and ILO calculations\"},\"annotations\":[234,242,236,237]},{\"id\":\"14011\",\"order\":3923,\"name\":{\"en\":\"UNICEF and ILO calculations\"},\"annotations\":[234,243,236,237]},{\"id\":\"14026\",\"order\":3938,\"name\":{\"en\":\"UNICEF and ILO calculations\"},\"annotations\":[234,244,236,237]},{\"id\":\"13992\",\"order\":3904,\"name\":{\"en\":\"UNICEF and ILO calculations\"},\"annotations\":[234,245,236,237]},{\"id\":\"13962\",\"order\":3874,\"name\":{\"en\":\"UNICEF and ILO calculations\"},\"annotations\":[234,246,236,237]},{\"id\":\"14015\",\"order\":3927,\"name\":{\"en\":\"UNICEF and ILO calculations\"},\"annotations\":[234,247,236,237]},{\"id\":\"14023\",\"order\":3935,\"name\":{\"en\":\"UNICEF and ILO calculations\"},\"annotations\":[234,248,236,237]},{\"id\":\"14021\",\"order\":3933,\"name\":{\"en\":\"UNICEF and ILO calculations\"},\"annotations\":[234,249,236,237]},{\"id\":\"13964\",\"order\":3876,\"name\":{\"en\":\"UNICEF and ILO calculations\"},\"annotations\":[234,250,236,237]},{\"id\":\"14027\",\"order\":3939,\"name\":{\"en\":\"UNICEF and ILO calculations\"},\"annotations\":[234,251,236,237]},{\"id\":\"13986\",\"order\":3898,\"name\":{\"en\":\"UNICEF and ILO calculations\"},\"annotations\":[234,252,236,237]},{\"id\":\"13997\",\"order\":3909,\"name\":{\"en\":\"UNICEF and ILO calculations\"},\"annotations\":[234,253,236,237]},{\"id\":\"14033\",\"order\":3945,\"name\":{\"en\":\"UNICEF and ILO calculations\"},\"annotations\":[234,254,236,237]},{\"id\":\"13999\",\"order\":3911,\"name\":{\"en\":\"UNICEF and ILO calculations\"},\"annotations\":[234,255,236,237]},{\"id\":\"14020\",\"order\":3932,\"name\":{\"en\":\"UNICEF and ILO calculations\"},\"annotations\":[234,256,236,237]},{\"id\":\"13972\",\"order\":3884,\"name\":{\"en\":\"UNICEF and ILO calculations\"},\"annotations\":[234,257,236,237]},{\"id\":\"13979\",\"order\":3891,\"name\":{\"en\":\"UNICEF and ILO calculations\"},\"annotations\":[234,258,236,237]},{\"id\":\"13987\",\"order\":3899,\"name\":{\"en\":\"UNICEF and ILO calculations\"},\"annotations\":[234,259,236,237]},{\"id\":\"13988\",\"order\":3900,\"name\":{\"en\":\"UNICEF and ILO calculations\"},\"annotations\":[234,260,236,237]},{\"id\":\"13969\",\"order\":3881,\"name\":{\"en\":\"UNICEF and ILO calculations\"},\"annotations\":[234,261,236,237]},{\"id\":\"13974\",\"order\":3886,\"name\":{\"en\":\"UNICEF and ILO calculations\"},\"annotations\":[234,262,236,237]},{\"id\":\"13993\",\"order\":3905,\"name\":{\"en\":\"UNICEF and ILO calculations\"},\"annotations\":[234,263,236,237]},{\"id\":\"14001\",\"order\":3913,\"name\":{\"en\":\"UNICEF and ILO calculations\"},\"annotations\":[234,264,236,237]},{\"id\":\"14032\",\"order\":3944,\"name\":{\"en\":\"UNICEF and ILO calculations\"},\"annotations\":[234,265,236,237]},{\"id\":\"13978\",\"order\":3890,\"name\":{\"en\":\"UNICEF and ILO calculations\"},\"annotations\":[234,266,236,237]},{\"id\":\"14012\",\"order\":3924,\"name\":{\"en\":\"UNICEF and ILO calculations\"},\"annotations\":[234,267,236,237]},{\"id\":\"13970\",\"order\":3882,\"name\":{\"en\":\"UNICEF and ILO calculations\"},\"annotations\":[234,268,236,237]},{\"id\":\"13998\",\"order\":3910,\"name\":{\"en\":\"UNICEF and ILO calculations\"},\"annotations\":[234,269,236,237]},{\"id\":\"13960\",\"order\":3872,\"name\":{\"en\":\"UNICEF and ILO calculations\"},\"annotations\":[234,270,236,237]},{\"id\":\"13963\",\"order\":3875,\"name\":{\"en\":\"UNICEF and ILO calculations\"},\"annotations\":[234,271,236,237]},{\"id\":\"13966\",\"order\":3878,\"name\":{\"en\":\"UNICEF and ILO calculations\"},\"annotations\":[234,272,236,237]},{\"id\":\"14004\",\"order\":3916,\"name\":{\"en\":\"UNICEF and ILO calculations\"},\"annotations\":[234,273,236,237]},{\"id\":\"13996\",\"order\":3908,\"name\":{\"en\":\"UNICEF and ILO calculations\"},\"annotations\":[234,274,236,237]},{\"id\":\"13977\",\"order\":3889,\"name\":{\"en\":\"UNICEF and ILO calculations\"},\"annotations\":[234,275,236,237]},{\"id\":\"14008\",\"order\":3920,\"name\":{\"en\":\"UNICEF and ILO calculations\"},\"annotations\":[234,276,236,237]},{\"id\":\"14024\",\"order\":3936,\"name\":{\"en\":\"UNICEF and ILO calculations\"},\"annotations\":[234,277,236,237]},{\"id\":\"14017\",\"order\":3929,\"name\":{\"en\":\"UNICEF and ILO calculations\"},\"annotations\":[234,278,236,237]},{\"id\":\"14014\",\"order\":3926,\"name\":{\"en\":\"UNICEF and ILO calculations\"},\"annotations\":[234,279,236,237]},{\"id\":\"13989\",\"order\":3901,\"name\":{\"en\":\"UNICEF and ILO calculations\"},\"annotations\":[234,280,236,237]},{\"id\":\"14031\",\"order\":3943,\"name\":{\"en\":\"UNICEF and ILO calculations\"},\"annotations\":[234,281,236,237]},{\"id\":\"14019\",\"order\":3931,\"name\":{\"en\":\"UNICEF and ILO calculations\"},\"annotations\":[234,282,236,237]},{\"id\":\"13995\",\"order\":3907,\"name\":{\"en\":\"UNICEF and ILO calculations\"},\"annotations\":[234,283,236,237]},{\"id\":\"13954\",\"order\":3866,\"name\":{\"en\":\"UNICEF and ILO calculations\"},\"annotations\":[234,284,236,237]},{\"id\":\"14029\",\"order\":3941,\"name\":{\"en\":\"UNICEF and ILO calculations\"},\"annotations\":[234,285,236,237]},{\"id\":\"14028\",\"order\":3940,\"name\":{\"en\":\"UNICEF and ILO calculations\"},\"annotations\":[234,286,236,237]},{\"id\":\"13957\",\"order\":3869,\"name\":{\"en\":\"UNICEF and ILO calculations\"},\"annotations\":[234,287,236,237]},{\"id\":\"14009\",\"order\":3921,\"name\":{\"en\":\"UNICEF and ILO calculations\"},\"annotations\":[234,288,236,237]},{\"id\":\"14018\",\"order\":3930,\"name\":{\"en\":\"UNICEF and ILO calculations\"},\"annotations\":[234,289,236,237]},{\"id\":\"14025\",\"order\":3937,\"name\":{\"en\":\"UNICEF and ILO calculations\"},\"annotations\":[234,290,236,237]},{\"id\":\"13991\",\"order\":3903,\"name\":{\"en\":\"UNICEF and ILO calculations\"},\"annotations\":[234,291,236,237]},{\"id\":\"14002\",\"order\":3914,\"name\":{\"en\":\"UNICEF and ILO calculations\"},\"annotations\":[234,292,236,237]},{\"id\":\"13959\",\"order\":3871,\"name\":{\"en\":\"UNICEF and ILO calculations\"},\"annotations\":[234,293,236,237]},{\"id\":\"14006\",\"order\":3918,\"name\":{\"en\":\"UNICEF and ILO calculations\"},\"annotations\":[234,294,236,237]},{\"id\":\"13994\",\"order\":3906,\"name\":{\"en\":\"UNICEF and ILO calculations\"},\"annotations\":[234,295,236,237]},{\"id\":\"13975\",\"order\":3887,\"name\":{\"en\":\"UNICEF and ILO calculations\"},\"annotations\":[234,296,236,237]},{\"id\":\"14016\",\"order\":3928,\"name\":{\"en\":\"UNICEF and ILO calculations\"},\"annotations\":[234,297,236,237]},{\"id\":\"13955\",\"order\":3867,\"name\":{\"en\":\"UNICEF and ILO calculations\"},\"annotations\":[234,298,236,237]},{\"id\":\"13961\",\"order\":3873,\"name\":{\"en\":\"UNICEF and ILO calculations\"},\"annotations\":[234,299,236,237]},{\"id\":\"14005\",\"order\":3917,\"name\":{\"en\":\"UNICEF and ILO calculations\"},\"annotations\":[234,300,236,237]},{\"id\":\"13953\",\"order\":3865,\"name\":{\"en\":\"UNICEF and ILO calculations\"},\"annotations\":[234,301,236,237]},{\"id\":\"14000\",\"order\":3912,\"name\":{\"en\":\"UNICEF and ILO calculations\"},\"annotations\":[234,302,236,237]},{\"id\":\"14003\",\"order\":3915,\"name\":{\"en\":\"UNICEF and ILO calculations\"},\"annotations\":[234,303,236,237]},{\"id\":\"13958\",\"order\":3870,\"name\":{\"en\":\"UNICEF and ILO calculations\"},\"annotations\":[234,304,236,237]},{\"id\":\"13982\",\"order\":3894,\"name\":{\"en\":\"UNICEF and ILO calculations\"},\"annotations\":[234,305,236,237]},{\"id\":\"14010\",\"order\":3922,\"name\":{\"en\":\"UNICEF and ILO calculations\"},\"annotations\":[234,306,236,237]},{\"id\":\"14022\",\"order\":3934,\"name\":{\"en\":\"UNICEF and ILO calculations\"},\"annotations\":[234,307,236,237]},{\"id\":\"13981\",\"order\":3893,\"name\":{\"en\":\"UNICEF and ILO calculations\"},\"annotations\":[234,308,236,237]}]},{\"id\":\"MEASURE\",\"name\":{\"en\":\"Measure\"},\"keyPosition\":4,\"roles\":[\"MEASURE\"],\"values\":[{\"id\":\"SDG_B871_RT\",\"order\":144,\"name\":{\"en\":\"[8.7.1] Proportion of children engaged in economic activity\"},\"annotations\":[309,310]}]},{\"id\":\"SEX\",\"name\":{\"en\":\"Sex\"},\"keyPosition\":5,\"roles\":[\"SEX\"],\"values\":[{\"id\":\"SEX_T\",\"order\":0,\"name\":{\"en\":\"Total\"},\"annotations\":[311,312]},{\"id\":\"SEX_M\",\"order\":1,\"name\":{\"en\":\"Male\"},\"annotations\":[313,314]},{\"id\":\"SEX_F\",\"order\":2,\"name\":{\"en\":\"Female\"},\"annotations\":[315,314]}]},{\"id\":\"AGE\",\"name\":{\"en\":\"Age\"},\"keyPosition\":6,\"roles\":[\"AGE\"],\"values\":[{\"id\":\"AGE_CLDVERSION_Y5T17\",\"order\":0,\"name\":{\"en\":\"5 to 17\"},\"annotations\":[316,312]},{\"id\":\"AGE_CLDVERSION_Y5T14\",\"order\":1,\"name\":{\"en\":\"5 to 14\"},\"annotations\":[317,314]}]}],\"observation\":[{\"id\":\"TIME_PERIOD\",\"name\":{\"en\":\"Time period\"},\"keyPosition\":7,\"roles\":[\"TIME_PERIOD\"],\"values\":[{\"start\":\"2014-01-01T00:00:00\",\"end\":\"2014-12-31T23:59:59\",\"id\":\"2014\",\"name\":{\"en\":\"2014\"}},{\"start\":\"2011-01-01T00:00:00\",\"end\":\"2011-12-31T23:59:59\",\"id\":\"2011\",\"name\":{\"en\":\"2011\"}},{\"start\":\"2013-01-01T00:00:00\",\"end\":\"2013-12-31T23:59:59\",\"id\":\"2013\",\"name\":{\"en\":\"2013\"}},{\"start\":\"2016-01-01T00:00:00\",\"end\":\"2016-12-31T23:59:59\",\"id\":\"2016\",\"name\":{\"en\":\"2016\"}},{\"start\":\"2012-01-01T00:00:00\",\"end\":\"2012-12-31T23:59:59\",\"id\":\"2012\",\"name\":{\"en\":\"2012\"}},{\"start\":\"2015-01-01T00:00:00\",\"end\":\"2015-12-31T23:59:59\",\"id\":\"2015\",\"name\":{\"en\":\"2015\"}},{\"start\":\"2010-01-01T00:00:00\",\"end\":\"2010-12-31T23:59:59\",\"id\":\"2010\",\"name\":{\"en\":\"2010\"}}]}]},\"attributes\":{\"dataSet\":[],\"series\":[],\"observation\":[{\"id\":\"C6\",\"name\":{\"en\":\"Nonstandard age group\"},\"roles\":[\"C6\"],\"relationship\":{\"primaryMeasure\":\"OBS_VALUE\"},\"values\":[{\"id\":\"2354\",\"order\":79,\"name\":{\"en\":\"Excluding age 5\"},\"annotations\":[318,319,320]},{\"id\":\"2272\",\"order\":80,\"name\":{\"en\":\"Excluding ages 5-6\"},\"annotations\":[321,319,322]}]},{\"id\":\"OBS_STATUS\",\"name\":{\"en\":\"Observation status\"},\"roles\":[\"OBS_STATUS\"],\"relationship\":{\"primaryMeasure\":\"OBS_VALUE\"},\"values\":[]},{\"id\":\"UNIT_MEASURE_TYPE\",\"name\":{\"en\":\"Unit of measure type\"},\"roles\":[\"UNIT_MEASURE_TYPE\"],\"relationship\":{\"primaryMeasure\":\"OBS_VALUE\"},\"values\":[{\"id\":\"RT\",\"order\":1,\"name\":{\"en\":\"Rate\"},\"annotations\":[323]}]},{\"id\":\"UNIT_MEASURE\",\"name\":{\"en\":\"Unit of measure\"},\"roles\":[\"UNIT_MEASURE\"],\"relationship\":{\"primaryMeasure\":\"OBS_VALUE\"},\"values\":[{\"id\":\"PT\",\"order\":15,\"name\":{\"en\":\"Percentage\"},\"annotations\":[324]}]},{\"id\":\"UNIT_MULT\",\"name\":{\"en\":\"Unit multiplier\"},\"roles\":[\"UNIT_MULT\"],\"relationship\":{\"primaryMeasure\":\"OBS_VALUE\"},\"values\":[{\"id\":\"0\",\"order\":0,\"name\":{\"en\":\"Units\"},\"annotations\":[325]}]},{\"id\":\"FREE_TEXT_NOTE\",\"name\":{\"en\":\"Free text note; should only be used when a note cannot be coded or in the case of multiple values for one note type\"},\"roles\":[\"FREE_TEXT_NOTE\"],\"relationship\":{\"primaryMeasure\":\"OBS_VALUE\"},\"values\":[]},{\"id\":\"DECIMALS\",\"name\":{\"en\":\"Decimals\"},\"roles\":[\"DECIMALS\"],\"relationship\":{\"primaryMeasure\":\"OBS_VALUE\"},\"values\":[{\"id\":\"1\",\"name\":{\"en\":\"1\"}}]},{\"id\":\"SOURCE\",\"name\":{\"en\":\"Source\"},\"roles\":[\"SOURCE\"],\"relationship\":{\"primaryMeasure\":\"OBS_VALUE\"},\"values\":[{\"id\":\"XX\",\"order\":22,\"name\":{\"en\":\"Other source\"},\"annotations\":[326,327]}]},{\"id\":\"INDICATOR\",\"name\":{\"en\":\"Indicator\"},\"roles\":[\"INDICATOR\"],\"relationship\":{\"primaryMeasure\":\"OBS_VALUE\"},\"values\":[{\"id\":\"SDG_B871_SEX_AGE_RT\",\"order\":35,\"name\":{\"en\":\"SDG indicator 8.7.1 - Proportion of children engaged in economic activity and household chores\"},\"annotations\":[1]}]}]},\"annotations\":[{\"title\":\"11/12/2018 4:11:41 AM\",\"type\":\"LAST_UPDATE\"},{\"title\":\"1100\",\"type\":\"ORDER\"},{\"title\":\"AGE\",\"type\":\"LAYOUT_COLUMN\"},{\"title\":\"REF_AREA,SURVEY,SEX,TIME_PERIOD\",\"type\":\"LAYOUT_ROW\"},{\"title\":\"COLLECTION,SURVEY\",\"type\":\"NOT_DISPLAYED\"},{\"title\":\"FREQ=A,SEX=SEX_T,AGE=AGE_CLDVERSION_Y15T17+AGE_CLDVERSION_Y10T17+AGE_CLDVERSION_Y5T14+AGE_CLDVERSION_Y10T14+AGE_CLDVERSION_Y5T17,LASTNOBSERVATIONS=1\",\"type\":\"DEFAULT\"},{\"title\":\"110\",\"type\":\"ORDER\"},{\"type\":\"ORDER\",\"texts\":{\"en\":\"10105\"}},{\"title\":\"N\",\"type\":\"GROUP\"},{\"title\":\"BJ\",\"type\":\"ISO2Code\"},{\"title\":\"204\",\"type\":\"M49Code\"},{\"title\":\"X06\",\"type\":\"ILO_REGION\"},{\"title\":\"X02\",\"type\":\"WB_INCOME_GROUP\"},{\"type\":\"ORDER\",\"texts\":{\"en\":\"10195\"}},{\"title\":\"TD\",\"type\":\"ISO2Code\"},{\"title\":\"148\",\"type\":\"M49Code\"},{\"type\":\"ORDER\",\"texts\":{\"en\":\"10225\"}},{\"title\":\"CG\",\"type\":\"ISO2Code\"},{\"title\":\"178\",\"type\":\"M49Code\"},{\"title\":\"X03\",\"type\":\"WB_INCOME_GROUP\"},{\"type\":\"ORDER\",\"texts\":{\"en\":\"11100\"}},{\"title\":\"TZ\",\"type\":\"ISO2Code\"},{\"title\":\"834\",\"type\":\"M49Code\"},{\"type\":\"ORDER\",\"texts\":{\"en\":\"10275\"}},{\"title\":\"CI\",\"type\":\"ISO2Code\"},{\"title\":\"384\",\"type\":\"M49Code\"},{\"type\":\"ORDER\",\"texts\":{\"en\":\"10590\"}},{\"title\":\"KG\",\"type\":\"ISO2Code\"},{\"title\":\"417\",\"type\":\"M49Code\"},{\"title\":\"X60\",\"type\":\"ILO_REGION\"},{\"type\":\"ORDER\",\"texts\":{\"en\":\"10460\"}},{\"title\":\"GW\",\"type\":\"ISO2Code\"},{\"title\":\"624\",\"type\":\"M49Code\"},{\"type\":\"ORDER\",\"texts\":{\"en\":\"11215\"}},{\"title\":\"VN\",\"type\":\"ISO2Code\"},{\"title\":\"704\",\"type\":\"M49Code\"},{\"title\":\"X40\",\"type\":\"ILO_REGION\"},{\"type\":\"ORDER\",\"texts\":{\"en\":\"10240\"}},{\"title\":\"CR\",\"type\":\"ISO2Code\"},{\"title\":\"188\",\"type\":\"M49Code\"},{\"title\":\"X21\",\"type\":\"ILO_REGION\"},{\"title\":\"X04\",\"type\":\"WB_INCOME_GROUP\"},{\"type\":\"ORDER\",\"texts\":{\"en\":\"10330\"}},{\"title\":\"ET\",\"type\":\"ISO2Code\"},{\"title\":\"231\",\"type\":\"M49Code\"},{\"type\":\"ORDER\",\"texts\":{\"en\":\"10465\"}},{\"title\":\"GY\",\"type\":\"ISO2Code\"},{\"title\":\"328\",\"type\":\"M49Code\"},{\"type\":\"ORDER\",\"texts\":{\"en\":\"10510\"}},{\"title\":\"IQ\",\"type\":\"ISO2Code\"},{\"title\":\"368\",\"type\":\"M49Code\"},{\"title\":\"X36\",\"type\":\"ILO_REGION\"},{\"type\":\"ORDER\",\"texts\":{\"en\":\"10230\"}},{\"title\":\"CD\",\"type\":\"ISO2Code\"},{\"title\":\"180\",\"type\":\"M49Code\"},{\"type\":\"ORDER\",\"texts\":{\"en\":\"10995\"}},{\"title\":\"SL\",\"type\":\"ISO2Code\"},{\"title\":\"694\",\"type\":\"M49Code\"},{\"type\":\"ORDER\",\"texts\":{\"en\":\"10000\"}},{\"title\":\"AF\",\"type\":\"ISO2Code\"},{\"title\":\"004\",\"type\":\"M49Code\"},{\"type\":\"ORDER\",\"texts\":{\"en\":\"10100\"}},{\"title\":\"BZ\",\"type\":\"ISO2Code\"},{\"title\":\"084\",\"type\":\"M49Code\"},{\"type\":\"ORDER\",\"texts\":{\"en\":\"10740\"}},{\"title\":\"MN\",\"type\":\"ISO2Code\"},{\"title\":\"496\",\"type\":\"M49Code\"},{\"type\":\"ORDER\",\"texts\":{\"en\":\"10915\"}},{\"title\":\"RW\",\"type\":\"ISO2Code\"},{\"title\":\"646\",\"type\":\"M49Code\"},{\"type\":\"ORDER\",\"texts\":{\"en\":\"10655\"}},{\"title\":\"MW\",\"type\":\"ISO2Code\"},{\"title\":\"454\",\"type\":\"M49Code\"},{\"type\":\"ORDER\",\"texts\":{\"en\":\"11115\"}},{\"title\":\"TG\",\"type\":\"ISO2Code\"},{\"title\":\"768\",\"type\":\"M49Code\"},{\"type\":\"ORDER\",\"texts\":{\"en\":\"10745\"}},{\"title\":\"ME\",\"type\":\"ISO2Code\"},{\"title\":\"499\",\"type\":\"M49Code\"},{\"type\":\"ORDER\",\"texts\":{\"en\":\"10975\"}},{\"title\":\"SN\",\"type\":\"ISO2Code\"},{\"title\":\"686\",\"type\":\"M49Code\"},{\"type\":\"ORDER\",\"texts\":{\"en\":\"10550\"}},{\"title\":\"JO\",\"type\":\"ISO2Code\"},{\"title\":\"400\",\"type\":\"M49Code\"},{\"type\":\"ORDER\",\"texts\":{\"en\":\"10215\"}},{\"title\":\"CO\",\"type\":\"ISO2Code\"},{\"title\":\"170\",\"type\":\"M49Code\"},{\"type\":\"ORDER\",\"texts\":{\"en\":\"10220\"}},{\"title\":\"KM\",\"type\":\"ISO2Code\"},{\"title\":\"174\",\"type\":\"M49Code\"},{\"type\":\"ORDER\",\"texts\":{\"en\":\"10810\"}},{\"title\":\"NE\",\"type\":\"ISO2Code\"},{\"title\":\"562\",\"type\":\"M49Code\"},{\"type\":\"ORDER\",\"texts\":{\"en\":\"10720\"}},{\"title\":\"MX\",\"type\":\"ISO2Code\"},{\"title\":\"484\",\"type\":\"M49Code\"},{\"type\":\"ORDER\",\"texts\":{\"en\":\"10815\"}},{\"title\":\"NG\",\"type\":\"ISO2Code\"},{\"title\":\"566\",\"type\":\"M49Code\"},{\"type\":\"ORDER\",\"texts\":{\"en\":\"10455\"}},{\"title\":\"GN\",\"type\":\"ISO2Code\"},{\"title\":\"324\",\"type\":\"M49Code\"},{\"type\":\"ORDER\",\"texts\":{\"en\":\"10870\"}},{\"title\":\"PY\",\"type\":\"ISO2Code\"},{\"title\":\"600\",\"type\":\"M49Code\"},{\"type\":\"ORDER\",\"texts\":{\"en\":\"11020\"}},{\"title\":\"SB\",\"type\":\"ISO2Code\"},{\"title\":\"090\",\"type\":\"M49Code\"},{\"type\":\"ORDER\",\"texts\":{\"en\":\"10935\"}},{\"title\":\"LC\",\"type\":\"ISO2Code\"},{\"title\":\"662\",\"type\":\"M49Code\"},{\"type\":\"ORDER\",\"texts\":{\"en\":\"10085\"}},{\"title\":\"BB\",\"type\":\"ISO2Code\"},{\"title\":\"052\",\"type\":\"M49Code\"},{\"title\":\"X05\",\"type\":\"WB_INCOME_GROUP\"},{\"type\":\"ORDER\",\"texts\":{\"en\":\"10135\"}},{\"title\":\"BR\",\"type\":\"ISO2Code\"},{\"title\":\"076\",\"type\":\"M49Code\"},{\"type\":\"ORDER\",\"texts\":{\"en\":\"10875\"}},{\"title\":\"PE\",\"type\":\"ISO2Code\"},{\"title\":\"604\",\"type\":\"M49Code\"},{\"type\":\"ORDER\",\"texts\":{\"en\":\"11145\"}},{\"title\":\"TM\",\"type\":\"ISO2Code\"},{\"title\":\"795\",\"type\":\"M49Code\"},{\"type\":\"ORDER\",\"texts\":{\"en\":\"10375\"}},{\"title\":\"GA\",\"type\":\"ISO2Code\"},{\"title\":\"266\",\"type\":\"M49Code\"},{\"type\":\"ORDER\",\"texts\":{\"en\":\"10010\"}},{\"title\":\"DZ\",\"type\":\"ISO2Code\"},{\"title\":\"012\",\"type\":\"M49Code\"},{\"type\":\"ORDER\",\"texts\":{\"en\":\"10385\"}},{\"title\":\"GE\",\"type\":\"ISO2Code\"},{\"title\":\"268\",\"type\":\"M49Code\"},{\"type\":\"ORDER\",\"texts\":{\"en\":\"10410\"}},{\"title\":\"GH\",\"type\":\"ISO2Code\"},{\"title\":\"288\",\"type\":\"M49Code\"},{\"type\":\"ORDER\",\"texts\":{\"en\":\"11165\"}},{\"title\":\"UG\",\"type\":\"ISO2Code\"},{\"title\":\"800\",\"type\":\"M49Code\"},{\"type\":\"ORDER\",\"texts\":{\"en\":\"10090\"}},{\"title\":\"BY\",\"type\":\"ISO2Code\"},{\"title\":\"112\",\"type\":\"M49Code\"},{\"type\":\"ORDER\",\"texts\":{\"en\":\"10310\"}},{\"title\":\"SV\",\"type\":\"ISO2Code\"},{\"title\":\"222\",\"type\":\"M49Code\"},{\"type\":\"ORDER\",\"texts\":{\"en\":\"10165\"}},{\"title\":\"KH\",\"type\":\"ISO2Code\"},{\"title\":\"116\",\"type\":\"M49Code\"},{\"type\":\"ORDER\",\"texts\":{\"en\":\"10205\"}},{\"title\":\"CL\",\"type\":\"ISO2Code\"},{\"title\":\"152\",\"type\":\"M49Code\"},{\"type\":\"ORDER\",\"texts\":{\"en\":\"10470\"}},{\"title\":\"HT\",\"type\":\"ISO2Code\"},{\"title\":\"332\",\"type\":\"M49Code\"},{\"type\":\"ORDER\",\"texts\":{\"en\":\"10685\"}},{\"title\":\"ML\",\"type\":\"ISO2Code\"},{\"title\":\"466\",\"type\":\"M49Code\"},{\"type\":\"ORDER\",\"texts\":{\"en\":\"11170\"}},{\"title\":\"UA\",\"type\":\"ISO2Code\"},{\"title\":\"804\",\"type\":\"M49Code\"},{\"type\":\"ORDER\",\"texts\":{\"en\":\"10045\"}},{\"title\":\"AM\",\"type\":\"ISO2Code\"},{\"title\":\"051\",\"type\":\"M49Code\"},{\"type\":\"ORDER\",\"texts\":{\"en\":\"10025\"}},{\"title\":\"AO\",\"type\":\"ISO2Code\"},{\"title\":\"024\",\"type\":\"M49Code\"},{\"type\":\"ORDER\",\"texts\":{\"en\":\"11055\"}},{\"title\":\"SR\",\"type\":\"ISO2Code\"},{\"title\":\"740\",\"type\":\"M49Code\"},{\"type\":\"ORDER\",\"texts\":{\"en\":\"10840\"}},{\"title\":\"PS\",\"type\":\"ISO2Code\"},{\"title\":\"275\",\"type\":\"M49Code\"},{\"type\":\"ORDER\",\"texts\":{\"en\":\"10327\"}},{\"title\":\"SZ\",\"type\":\"ISO2Code\"},{\"title\":\"748\",\"type\":\"M49Code\"},{\"type\":\"ORDER\",\"texts\":{\"en\":\"10160\"}},{\"title\":\"BI\",\"type\":\"ISO2Code\"},{\"title\":\"108\",\"type\":\"M49Code\"},{\"type\":\"ORDER\",\"texts\":{\"en\":\"10615\"}},{\"title\":\"LR\",\"type\":\"ISO2Code\"},{\"title\":\"430\",\"type\":\"M49Code\"},{\"type\":\"ORDER\",\"texts\":{\"en\":\"10155\"}},{\"title\":\"BF\",\"type\":\"ISO2Code\"},{\"title\":\"854\",\"type\":\"M49Code\"},{\"type\":\"ORDER\",\"texts\":{\"en\":\"10595\"}},{\"title\":\"LA\",\"type\":\"ISO2Code\"},{\"title\":\"418\",\"type\":\"M49Code\"},{\"type\":\"ORDER\",\"texts\":{\"en\":\"10190\"}},{\"title\":\"CF\",\"type\":\"ISO2Code\"},{\"title\":\"140\",\"type\":\"M49Code\"},{\"type\":\"ORDER\",\"texts\":{\"en\":\"10005\"}},{\"title\":\"AL\",\"type\":\"ISO2Code\"},{\"title\":\"008\",\"type\":\"M49Code\"},{\"type\":\"ORDER\",\"texts\":{\"en\":\"10115\"}},{\"title\":\"BT\",\"type\":\"ISO2Code\"},{\"title\":\"064\",\"type\":\"M49Code\"},{\"type\":\"ORDER\",\"texts\":{\"en\":\"10965\"}},{\"title\":\"ST\",\"type\":\"ISO2Code\"},{\"title\":\"678\",\"type\":\"M49Code\"},{\"type\":\"ORDER\",\"texts\":{\"en\":\"10295\"}},{\"title\":\"DO\",\"type\":\"ISO2Code\"},{\"title\":\"214\",\"type\":\"M49Code\"},{\"type\":\"ORDER\",\"texts\":{\"en\":\"10705\"}},{\"title\":\"MR\",\"type\":\"ISO2Code\"},{\"title\":\"478\",\"type\":\"M49Code\"},{\"type\":\"ORDER\",\"texts\":{\"en\":\"10860\"}},{\"title\":\"PA\",\"type\":\"ISO2Code\"},{\"title\":\"591\",\"type\":\"M49Code\"},{\"type\":\"ORDER\",\"texts\":{\"en\":\"10828\"}},{\"title\":\"MK\",\"type\":\"ISO2Code\"},{\"title\":\"807\",\"type\":\"M49Code\"},{\"type\":\"ORDER\",\"texts\":{\"en\":\"10305\"}},{\"title\":\"EG\",\"type\":\"ISO2Code\"},{\"title\":\"818\",\"type\":\"M49Code\"},{\"type\":\"ORDER\",\"texts\":{\"en\":\"10780\"}},{\"title\":\"NP\",\"type\":\"ISO2Code\"},{\"title\":\"524\",\"type\":\"M49Code\"},{\"type\":\"ORDER\",\"texts\":{\"en\":\"10535\"}},{\"title\":\"JM\",\"type\":\"ISO2Code\"},{\"title\":\"388\",\"type\":\"M49Code\"},{\"type\":\"ORDER\",\"texts\":{\"en\":\"10170\"}},{\"title\":\"CM\",\"type\":\"ISO2Code\"},{\"title\":\"120\",\"type\":\"M49Code\"},{\"type\":\"ORDER\",\"texts\":{\"en\":\"11050\"}},{\"title\":\"SD\",\"type\":\"ISO2Code\"},{\"title\":\"736\",\"type\":\"M49Code\"},{\"type\":\"ORDER\",\"texts\":{\"en\":\"11135\"}},{\"title\":\"TN\",\"type\":\"ISO2Code\"},{\"title\":\"788\",\"type\":\"M49Code\"},{\"type\":\"ORDER\",\"texts\":{\"en\":\"10980\"}},{\"title\":\"RS\",\"type\":\"ISO2Code\"},{\"title\":\"688\",\"type\":\"M49Code\"},{\"title\":\"20\",\"type\":\"ORDER\"},{\"type\":\"ORDER\",\"texts\":{\"en\":\"125\"}},{\"title\":\"BEN\",\"type\":\"CountryCode\"},{\"title\":\"XX\",\"type\":\"SourceCode\"},{\"type\":\"SourceType\",\"texts\":{\"en\":\"OS\"}},{\"title\":\"TCD\",\"type\":\"CountryCode\"},{\"title\":\"COG\",\"type\":\"CountryCode\"},{\"title\":\"TZA\",\"type\":\"CountryCode\"},{\"title\":\"CIV\",\"type\":\"CountryCode\"},{\"title\":\"KGZ\",\"type\":\"CountryCode\"},{\"title\":\"GNB\",\"type\":\"CountryCode\"},{\"title\":\"VNM\",\"type\":\"CountryCode\"},{\"title\":\"CRI\",\"type\":\"CountryCode\"},{\"title\":\"ETH\",\"type\":\"CountryCode\"},{\"title\":\"GUY\",\"type\":\"CountryCode\"},{\"title\":\"IRQ\",\"type\":\"CountryCode\"},{\"title\":\"COD\",\"type\":\"CountryCode\"},{\"title\":\"SLE\",\"type\":\"CountryCode\"},{\"title\":\"AFG\",\"type\":\"CountryCode\"},{\"title\":\"BLZ\",\"type\":\"CountryCode\"},{\"title\":\"MNG\",\"type\":\"CountryCode\"},{\"title\":\"RWA\",\"type\":\"CountryCode\"},{\"title\":\"MWI\",\"type\":\"CountryCode\"},{\"title\":\"TGO\",\"type\":\"CountryCode\"},{\"title\":\"MNE\",\"type\":\"CountryCode\"},{\"title\":\"SEN\",\"type\":\"CountryCode\"},{\"title\":\"JOR\",\"type\":\"CountryCode\"},{\"title\":\"COL\",\"type\":\"CountryCode\"},{\"title\":\"COM\",\"type\":\"CountryCode\"},{\"title\":\"NER\",\"type\":\"CountryCode\"},{\"title\":\"MEX\",\"type\":\"CountryCode\"},{\"title\":\"NGA\",\"type\":\"CountryCode\"},{\"title\":\"GIN\",\"type\":\"CountryCode\"},{\"title\":\"PRY\",\"type\":\"CountryCode\"},{\"title\":\"SLB\",\"type\":\"CountryCode\"},{\"title\":\"LCA\",\"type\":\"CountryCode\"},{\"title\":\"BRB\",\"type\":\"CountryCode\"},{\"title\":\"BRA\",\"type\":\"CountryCode\"},{\"title\":\"PER\",\"type\":\"CountryCode\"},{\"title\":\"TKM\",\"type\":\"CountryCode\"},{\"title\":\"GAB\",\"type\":\"CountryCode\"},{\"title\":\"DZA\",\"type\":\"CountryCode\"},{\"title\":\"GEO\",\"type\":\"CountryCode\"},{\"title\":\"GHA\",\"type\":\"CountryCode\"},{\"title\":\"UGA\",\"type\":\"CountryCode\"},{\"title\":\"BLR\",\"type\":\"CountryCode\"},{\"title\":\"SLV\",\"type\":\"CountryCode\"},{\"title\":\"KHM\",\"type\":\"CountryCode\"},{\"title\":\"CHL\",\"type\":\"CountryCode\"},{\"title\":\"HTI\",\"type\":\"CountryCode\"},{\"title\":\"MLI\",\"type\":\"CountryCode\"},{\"title\":\"UKR\",\"type\":\"CountryCode\"},{\"title\":\"ARM\",\"type\":\"CountryCode\"},{\"title\":\"AGO\",\"type\":\"CountryCode\"},{\"title\":\"SUR\",\"type\":\"CountryCode\"},{\"title\":\"PSE\",\"type\":\"CountryCode\"},{\"title\":\"SWZ\",\"type\":\"CountryCode\"},{\"title\":\"BDI\",\"type\":\"CountryCode\"},{\"title\":\"LBR\",\"type\":\"CountryCode\"},{\"title\":\"BFA\",\"type\":\"CountryCode\"},{\"title\":\"LAO\",\"type\":\"CountryCode\"},{\"title\":\"CAF\",\"type\":\"CountryCode\"},{\"title\":\"ALB\",\"type\":\"CountryCode\"},{\"title\":\"BTN\",\"type\":\"CountryCode\"},{\"title\":\"STP\",\"type\":\"CountryCode\"},{\"title\":\"DOM\",\"type\":\"CountryCode\"},{\"title\":\"MRT\",\"type\":\"CountryCode\"},{\"title\":\"PAN\",\"type\":\"CountryCode\"},{\"title\":\"MKD\",\"type\":\"CountryCode\"},{\"title\":\"EGY\",\"type\":\"CountryCode\"},{\"title\":\"NPL\",\"type\":\"CountryCode\"},{\"title\":\"JAM\",\"type\":\"CountryCode\"},{\"title\":\"CMR\",\"type\":\"CountryCode\"},{\"title\":\"SDN\",\"type\":\"CountryCode\"},{\"title\":\"TUN\",\"type\":\"CountryCode\"},{\"title\":\"SRB\",\"type\":\"CountryCode\"},{\"title\":\"871\",\"type\":\"ORDER\"},{\"type\":\"NAME_COMPLEMENT\"},{\"title\":\"10010\",\"type\":\"ORDER\"},{\"title\":\"Y\",\"type\":\"IS_TOTAL\"},{\"title\":\"10020\",\"type\":\"ORDER\"},{\"title\":\"N\",\"type\":\"IS_TOTAL\"},{\"title\":\"10030\",\"type\":\"ORDER\"},{\"title\":\"1\",\"type\":\"ORDER\"},{\"title\":\"2\",\"type\":\"ORDER\"},{\"title\":\"90505\",\"type\":\"ORDER\"},{\"title\":\"Y\",\"type\":\"IS_DEFAULT\"},{\"type\":\"FULL_NAME\",\"texts\":{\"en\":\"Nonstandard age group: Excluding age 5\"}},{\"title\":\"90506\",\"type\":\"ORDER\"},{\"type\":\"FULL_NAME\",\"texts\":{\"en\":\"Nonstandard age group: Excluding ages 5-6\"}},{\"title\":\"30\",\"type\":\"ORDER\"},{\"title\":\"190\",\"type\":\"ORDER\"},{\"title\":\"10\",\"type\":\"ORDER\"},{\"title\":\"210\",\"type\":\"ORDER\"},\n",
    "{\"type\":\"ACRONYM\"}]}}}\"\"\""
   ]
  },
  {
   "cell_type": "code",
   "execution_count": 82,
   "metadata": {},
   "outputs": [],
   "source": [
    "y = json.loads(ilo_data)"
   ]
  },
  {
   "cell_type": "code",
   "execution_count": 83,
   "metadata": {},
   "outputs": [],
   "source": [
    "ilo_data = pd.read_csv('ilo_CHL_data')"
   ]
  },
  {
   "cell_type": "code",
   "execution_count": 7,
   "metadata": {},
   "outputs": [
    {
     "data": {
      "text/html": [
       "<div>\n",
       "<style scoped>\n",
       "    .dataframe tbody tr th:only-of-type {\n",
       "        vertical-align: middle;\n",
       "    }\n",
       "\n",
       "    .dataframe tbody tr th {\n",
       "        vertical-align: top;\n",
       "    }\n",
       "\n",
       "    .dataframe thead th {\n",
       "        text-align: right;\n",
       "    }\n",
       "</style>\n",
       "<table border=\"1\" class=\"dataframe\">\n",
       "  <thead>\n",
       "    <tr style=\"text-align: right;\">\n",
       "      <th></th>\n",
       "      <th>DATAFLOW</th>\n",
       "      <th>COLLECTION</th>\n",
       "      <th>REF_AREA</th>\n",
       "      <th>FREQ</th>\n",
       "      <th>SURVEY</th>\n",
       "      <th>MEASURE</th>\n",
       "      <th>SEX</th>\n",
       "      <th>AGE</th>\n",
       "      <th>TIME_PERIOD</th>\n",
       "      <th>OBS_VALUE</th>\n",
       "      <th>C6</th>\n",
       "      <th>OBS_STATUS</th>\n",
       "      <th>UNIT_MEASURE_TYPE</th>\n",
       "      <th>UNIT_MEASURE</th>\n",
       "      <th>UNIT_MULT</th>\n",
       "      <th>FREE_TEXT_NOTE</th>\n",
       "      <th>DECIMALS</th>\n",
       "      <th>SOURCE</th>\n",
       "      <th>INDICATOR</th>\n",
       "    </tr>\n",
       "  </thead>\n",
       "  <tbody>\n",
       "    <tr>\n",
       "      <th>0</th>\n",
       "      <td>ILO:DF_SDG_ALL_SDG_B871_SEX_AGE_RT(1.0)</td>\n",
       "      <td>SDG</td>\n",
       "      <td>BEN</td>\n",
       "      <td>A</td>\n",
       "      <td>13971</td>\n",
       "      <td>SDG_B871_RT</td>\n",
       "      <td>SEX_T</td>\n",
       "      <td>AGE_CLDVERSION_Y5T17</td>\n",
       "      <td>2014</td>\n",
       "      <td>41.3</td>\n",
       "      <td>NaN</td>\n",
       "      <td>NaN</td>\n",
       "      <td>RT</td>\n",
       "      <td>PT</td>\n",
       "      <td>0</td>\n",
       "      <td>NaN</td>\n",
       "      <td>1</td>\n",
       "      <td>XX</td>\n",
       "      <td>SDG_B871_SEX_AGE_RT</td>\n",
       "    </tr>\n",
       "    <tr>\n",
       "      <th>1</th>\n",
       "      <td>ILO:DF_SDG_ALL_SDG_B871_SEX_AGE_RT(1.0)</td>\n",
       "      <td>SDG</td>\n",
       "      <td>BEN</td>\n",
       "      <td>A</td>\n",
       "      <td>13971</td>\n",
       "      <td>SDG_B871_RT</td>\n",
       "      <td>SEX_M</td>\n",
       "      <td>AGE_CLDVERSION_Y5T17</td>\n",
       "      <td>2014</td>\n",
       "      <td>41.6</td>\n",
       "      <td>NaN</td>\n",
       "      <td>NaN</td>\n",
       "      <td>RT</td>\n",
       "      <td>PT</td>\n",
       "      <td>0</td>\n",
       "      <td>NaN</td>\n",
       "      <td>1</td>\n",
       "      <td>XX</td>\n",
       "      <td>SDG_B871_SEX_AGE_RT</td>\n",
       "    </tr>\n",
       "    <tr>\n",
       "      <th>2</th>\n",
       "      <td>ILO:DF_SDG_ALL_SDG_B871_SEX_AGE_RT(1.0)</td>\n",
       "      <td>SDG</td>\n",
       "      <td>BEN</td>\n",
       "      <td>A</td>\n",
       "      <td>13971</td>\n",
       "      <td>SDG_B871_RT</td>\n",
       "      <td>SEX_F</td>\n",
       "      <td>AGE_CLDVERSION_Y5T17</td>\n",
       "      <td>2014</td>\n",
       "      <td>40.9</td>\n",
       "      <td>NaN</td>\n",
       "      <td>NaN</td>\n",
       "      <td>RT</td>\n",
       "      <td>PT</td>\n",
       "      <td>0</td>\n",
       "      <td>NaN</td>\n",
       "      <td>1</td>\n",
       "      <td>XX</td>\n",
       "      <td>SDG_B871_SEX_AGE_RT</td>\n",
       "    </tr>\n",
       "    <tr>\n",
       "      <th>3</th>\n",
       "      <td>ILO:DF_SDG_ALL_SDG_B871_SEX_AGE_RT(1.0)</td>\n",
       "      <td>SDG</td>\n",
       "      <td>TCD</td>\n",
       "      <td>A</td>\n",
       "      <td>13983</td>\n",
       "      <td>SDG_B871_RT</td>\n",
       "      <td>SEX_T</td>\n",
       "      <td>AGE_CLDVERSION_Y5T17</td>\n",
       "      <td>2014</td>\n",
       "      <td>39.0</td>\n",
       "      <td>NaN</td>\n",
       "      <td>NaN</td>\n",
       "      <td>RT</td>\n",
       "      <td>PT</td>\n",
       "      <td>0</td>\n",
       "      <td>NaN</td>\n",
       "      <td>1</td>\n",
       "      <td>XX</td>\n",
       "      <td>SDG_B871_SEX_AGE_RT</td>\n",
       "    </tr>\n",
       "    <tr>\n",
       "      <th>4</th>\n",
       "      <td>ILO:DF_SDG_ALL_SDG_B871_SEX_AGE_RT(1.0)</td>\n",
       "      <td>SDG</td>\n",
       "      <td>TCD</td>\n",
       "      <td>A</td>\n",
       "      <td>13983</td>\n",
       "      <td>SDG_B871_RT</td>\n",
       "      <td>SEX_M</td>\n",
       "      <td>AGE_CLDVERSION_Y5T17</td>\n",
       "      <td>2014</td>\n",
       "      <td>37.1</td>\n",
       "      <td>NaN</td>\n",
       "      <td>NaN</td>\n",
       "      <td>RT</td>\n",
       "      <td>PT</td>\n",
       "      <td>0</td>\n",
       "      <td>NaN</td>\n",
       "      <td>1</td>\n",
       "      <td>XX</td>\n",
       "      <td>SDG_B871_SEX_AGE_RT</td>\n",
       "    </tr>\n",
       "  </tbody>\n",
       "</table>\n",
       "</div>"
      ],
      "text/plain": [
       "                                  DATAFLOW COLLECTION REF_AREA FREQ  SURVEY  \\\n",
       "0  ILO:DF_SDG_ALL_SDG_B871_SEX_AGE_RT(1.0)        SDG      BEN    A   13971   \n",
       "1  ILO:DF_SDG_ALL_SDG_B871_SEX_AGE_RT(1.0)        SDG      BEN    A   13971   \n",
       "2  ILO:DF_SDG_ALL_SDG_B871_SEX_AGE_RT(1.0)        SDG      BEN    A   13971   \n",
       "3  ILO:DF_SDG_ALL_SDG_B871_SEX_AGE_RT(1.0)        SDG      TCD    A   13983   \n",
       "4  ILO:DF_SDG_ALL_SDG_B871_SEX_AGE_RT(1.0)        SDG      TCD    A   13983   \n",
       "\n",
       "       MEASURE    SEX                   AGE  TIME_PERIOD  OBS_VALUE  C6  \\\n",
       "0  SDG_B871_RT  SEX_T  AGE_CLDVERSION_Y5T17         2014       41.3 NaN   \n",
       "1  SDG_B871_RT  SEX_M  AGE_CLDVERSION_Y5T17         2014       41.6 NaN   \n",
       "2  SDG_B871_RT  SEX_F  AGE_CLDVERSION_Y5T17         2014       40.9 NaN   \n",
       "3  SDG_B871_RT  SEX_T  AGE_CLDVERSION_Y5T17         2014       39.0 NaN   \n",
       "4  SDG_B871_RT  SEX_M  AGE_CLDVERSION_Y5T17         2014       37.1 NaN   \n",
       "\n",
       "   OBS_STATUS UNIT_MEASURE_TYPE UNIT_MEASURE  UNIT_MULT  FREE_TEXT_NOTE  \\\n",
       "0         NaN                RT           PT          0             NaN   \n",
       "1         NaN                RT           PT          0             NaN   \n",
       "2         NaN                RT           PT          0             NaN   \n",
       "3         NaN                RT           PT          0             NaN   \n",
       "4         NaN                RT           PT          0             NaN   \n",
       "\n",
       "   DECIMALS SOURCE            INDICATOR  \n",
       "0         1     XX  SDG_B871_SEX_AGE_RT  \n",
       "1         1     XX  SDG_B871_SEX_AGE_RT  \n",
       "2         1     XX  SDG_B871_SEX_AGE_RT  \n",
       "3         1     XX  SDG_B871_SEX_AGE_RT  \n",
       "4         1     XX  SDG_B871_SEX_AGE_RT  "
      ]
     },
     "execution_count": 7,
     "metadata": {},
     "output_type": "execute_result"
    }
   ],
   "source": [
    "ilo_data.head()"
   ]
  },
  {
   "cell_type": "code",
   "execution_count": 16,
   "metadata": {},
   "outputs": [
    {
     "data": {
      "text/plain": [
       "72"
      ]
     },
     "execution_count": 16,
     "metadata": {},
     "output_type": "execute_result"
    }
   ],
   "source": [
    "len(ilo_data['REF_AREA'].unique())"
   ]
  },
  {
   "cell_type": "code",
   "execution_count": 79,
   "metadata": {},
   "outputs": [
    {
     "ename": "NameError",
     "evalue": "name 'ilo_data' is not defined",
     "output_type": "error",
     "traceback": [
      "\u001b[0;31m---------------------------------------------------------------------------\u001b[0m",
      "\u001b[0;31mNameError\u001b[0m                                 Traceback (most recent call last)",
      "\u001b[0;32m<ipython-input-79-5a0b8c0f1662>\u001b[0m in \u001b[0;36m<module>\u001b[0;34m\u001b[0m\n\u001b[0;32m----> 1\u001b[0;31m \u001b[0mref_areas\u001b[0m \u001b[0;34m=\u001b[0m \u001b[0mlen\u001b[0m\u001b[0;34m(\u001b[0m\u001b[0milo_data\u001b[0m\u001b[0;34m[\u001b[0m\u001b[0;34m'REF_AREA'\u001b[0m\u001b[0;34m]\u001b[0m\u001b[0;34m.\u001b[0m\u001b[0munique\u001b[0m\u001b[0;34m(\u001b[0m\u001b[0;34m)\u001b[0m\u001b[0;34m)\u001b[0m\u001b[0;34m\u001b[0m\u001b[0;34m\u001b[0m\u001b[0m\n\u001b[0m",
      "\u001b[0;31mNameError\u001b[0m: name 'ilo_data' is not defined"
     ]
    }
   ],
   "source": [
    "ref_areas = len(ilo_data['REF_AREA'].unique())"
   ]
  },
  {
   "cell_type": "code",
   "execution_count": null,
   "metadata": {},
   "outputs": [],
   "source": []
  },
  {
   "cell_type": "code",
   "execution_count": null,
   "metadata": {},
   "outputs": [],
   "source": []
  },
  {
   "cell_type": "code",
   "execution_count": null,
   "metadata": {},
   "outputs": [],
   "source": []
  },
  {
   "cell_type": "code",
   "execution_count": null,
   "metadata": {},
   "outputs": [],
   "source": []
  },
  {
   "cell_type": "code",
   "execution_count": null,
   "metadata": {},
   "outputs": [],
   "source": []
  },
  {
   "cell_type": "code",
   "execution_count": null,
   "metadata": {},
   "outputs": [],
   "source": []
  },
  {
   "cell_type": "code",
   "execution_count": null,
   "metadata": {},
   "outputs": [],
   "source": []
  },
  {
   "cell_type": "code",
   "execution_count": null,
   "metadata": {},
   "outputs": [],
   "source": [
    "dfs = []\n",
    "for n, element in enumerate(root.iter('row')):\n",
    "    if n > 0:\n",
    "        dfs.append(pd.DataFrame.from_dict(element.attrib, orient='index').transpose())\n",
    "        if n == 2:\n",
    "            print(element.attrib)\n",
    "df = pd.concat(dfs)\n",
    "print(len(df))\n",
    "df.head()"
   ]
  },
  {
   "cell_type": "code",
   "execution_count": 1,
   "metadata": {},
   "outputs": [],
   "source": [
    "import xml.etree.ElementTree as ET\n",
    "CL_AREA = ET.parse('CL_AREA.xml')\n",
    "root = CL_AREA.getroot()"
   ]
  },
  {
   "cell_type": "code",
   "execution_count": 6,
   "metadata": {},
   "outputs": [
    {
     "ename": "AttributeError",
     "evalue": "'xml.etree.ElementTree.Element' object has no attribute 'Structures'",
     "output_type": "error",
     "traceback": [
      "\u001b[0;31m---------------------------------------------------------------------------\u001b[0m",
      "\u001b[0;31mAttributeError\u001b[0m                            Traceback (most recent call last)",
      "\u001b[0;32m<ipython-input-6-9b4b699ddcc0>\u001b[0m in \u001b[0;36m<module>\u001b[0;34m\u001b[0m\n\u001b[0;32m----> 1\u001b[0;31m \u001b[0;32mfor\u001b[0m \u001b[0mchild\u001b[0m \u001b[0;32min\u001b[0m \u001b[0mroot\u001b[0m\u001b[0;34m.\u001b[0m\u001b[0mStructures\u001b[0m\u001b[0;34m:\u001b[0m\u001b[0;34m\u001b[0m\u001b[0;34m\u001b[0m\u001b[0m\n\u001b[0m\u001b[1;32m      2\u001b[0m     \u001b[0mprint\u001b[0m\u001b[0;34m(\u001b[0m\u001b[0mchild\u001b[0m\u001b[0;34m.\u001b[0m\u001b[0mtag\u001b[0m\u001b[0;34m,\u001b[0m \u001b[0mchild\u001b[0m\u001b[0;34m.\u001b[0m\u001b[0mattrib\u001b[0m\u001b[0;34m)\u001b[0m\u001b[0;34m\u001b[0m\u001b[0;34m\u001b[0m\u001b[0m\n",
      "\u001b[0;31mAttributeError\u001b[0m: 'xml.etree.ElementTree.Element' object has no attribute 'Structures'"
     ]
    }
   ],
   "source": [
    "for child in root.Structures:\n",
    "    print(child.tag, child.attrib)"
   ]
  },
  {
   "cell_type": "code",
   "execution_count": 10,
   "metadata": {},
   "outputs": [
    {
     "data": {
      "text/plain": [
       "xml.etree.ElementTree.Element"
      ]
     },
     "execution_count": 10,
     "metadata": {},
     "output_type": "execute_result"
    }
   ],
   "source": [
    "type(root)"
   ]
  },
  {
   "cell_type": "code",
   "execution_count": 13,
   "metadata": {},
   "outputs": [],
   "source": [
    "from xmljson import badgerfish as bf"
   ]
  },
  {
   "cell_type": "code",
   "execution_count": 15,
   "metadata": {},
   "outputs": [],
   "source": [
    "thing = bf.data(root)"
   ]
  },
  {
   "cell_type": "code",
   "execution_count": 17,
   "metadata": {},
   "outputs": [
    {
     "data": {
      "text/plain": [
       "odict_keys(['{http://www.sdmx.org/resources/sdmxml/schemas/v2_1/message}Structure'])"
      ]
     },
     "execution_count": 17,
     "metadata": {},
     "output_type": "execute_result"
    }
   ],
   "source": [
    "thing.keys()"
   ]
  },
  {
   "cell_type": "code",
   "execution_count": 22,
   "metadata": {},
   "outputs": [],
   "source": [
    "thing2 = thing[list(thing.keys())[0]]"
   ]
  },
  {
   "cell_type": "code",
   "execution_count": 39,
   "metadata": {},
   "outputs": [],
   "source": [
    "thing3 = thing2[list(thing2.keys())[1]]"
   ]
  },
  {
   "cell_type": "code",
   "execution_count": 40,
   "metadata": {},
   "outputs": [],
   "source": [
    "thing4 = thing3[list(thing3.keys())[0]]"
   ]
  },
  {
   "cell_type": "code",
   "execution_count": 46,
   "metadata": {},
   "outputs": [],
   "source": [
    "thing5 = thing4[list(thing4.keys())[0]]"
   ]
  },
  {
   "cell_type": "code",
   "execution_count": 45,
   "metadata": {},
   "outputs": [
    {
     "data": {
      "text/plain": [
       "odict_keys(['@id', '@urn', '@agencyID', '@version', '@isExternalReference', '@isFinal', '{http://www.sdmx.org/resources/sdmxml/schemas/v2_1/common}Name', '{http://www.sdmx.org/resources/sdmxml/schemas/v2_1/structure}Code'])"
      ]
     },
     "execution_count": 45,
     "metadata": {},
     "output_type": "execute_result"
    }
   ],
   "source": [
    "thing5.keys()"
   ]
  },
  {
   "cell_type": "code",
   "execution_count": 55,
   "metadata": {},
   "outputs": [],
   "source": [
    "thing6 = thing5['{http://www.sdmx.org/resources/sdmxml/schemas/v2_1/structure}Code']"
   ]
  },
  {
   "cell_type": "code",
   "execution_count": 61,
   "metadata": {},
   "outputs": [
    {
     "data": {
      "text/plain": [
       "OrderedDict([('@id', 'DNK'),\n",
       "             ('@urn',\n",
       "              'urn:sdmx:org.sdmx.infomodel.codelist.Code=ILO:CL_AREA(1.0).DNK'),\n",
       "             ('{http://www.sdmx.org/resources/sdmxml/schemas/v2_1/common}Annotations',\n",
       "              OrderedDict([('{http://www.sdmx.org/resources/sdmxml/schemas/v2_1/common}Annotation',\n",
       "                            [OrderedDict([('{http://www.sdmx.org/resources/sdmxml/schemas/v2_1/common}AnnotationType',\n",
       "                                           OrderedDict([('$', 'ORDER')])),\n",
       "                                          ('{http://www.sdmx.org/resources/sdmxml/schemas/v2_1/common}AnnotationText',\n",
       "                                           [OrderedDict([('@{http://www.w3.org/XML/1998/namespace}lang',\n",
       "                                                          'en'),\n",
       "                                                         ('$', 10280)]),\n",
       "                                            OrderedDict([('@{http://www.w3.org/XML/1998/namespace}lang',\n",
       "                                                          'es'),\n",
       "                                                         ('$', 10285)]),\n",
       "                                            OrderedDict([('@{http://www.w3.org/XML/1998/namespace}lang',\n",
       "                                                          'fr'),\n",
       "                                                         ('$', 10280)])])]),\n",
       "                             OrderedDict([('{http://www.sdmx.org/resources/sdmxml/schemas/v2_1/common}AnnotationTitle',\n",
       "                                           OrderedDict([('$', 'N')])),\n",
       "                                          ('{http://www.sdmx.org/resources/sdmxml/schemas/v2_1/common}AnnotationType',\n",
       "                                           OrderedDict([('$', 'GROUP')]))]),\n",
       "                             OrderedDict([('{http://www.sdmx.org/resources/sdmxml/schemas/v2_1/common}AnnotationTitle',\n",
       "                                           OrderedDict([('$', 'DK')])),\n",
       "                                          ('{http://www.sdmx.org/resources/sdmxml/schemas/v2_1/common}AnnotationType',\n",
       "                                           OrderedDict([('$', 'ISO2Code')]))]),\n",
       "                             OrderedDict([('{http://www.sdmx.org/resources/sdmxml/schemas/v2_1/common}AnnotationTitle',\n",
       "                                           OrderedDict([('$', 208)])),\n",
       "                                          ('{http://www.sdmx.org/resources/sdmxml/schemas/v2_1/common}AnnotationType',\n",
       "                                           OrderedDict([('$', 'M49Code')]))]),\n",
       "                             OrderedDict([('{http://www.sdmx.org/resources/sdmxml/schemas/v2_1/common}AnnotationTitle',\n",
       "                                           OrderedDict([('$', 'X60')])),\n",
       "                                          ('{http://www.sdmx.org/resources/sdmxml/schemas/v2_1/common}AnnotationType',\n",
       "                                           OrderedDict([('$',\n",
       "                                                         'ILO_REGION')]))]),\n",
       "                             OrderedDict([('{http://www.sdmx.org/resources/sdmxml/schemas/v2_1/common}AnnotationTitle',\n",
       "                                           OrderedDict([('$', 'X05')])),\n",
       "                                          ('{http://www.sdmx.org/resources/sdmxml/schemas/v2_1/common}AnnotationType',\n",
       "                                           OrderedDict([('$',\n",
       "                                                         'WB_INCOME_GROUP')]))])])])),\n",
       "             ('{http://www.sdmx.org/resources/sdmxml/schemas/v2_1/common}Name',\n",
       "              [OrderedDict([('@{http://www.w3.org/XML/1998/namespace}lang',\n",
       "                             'en'),\n",
       "                            ('$', 'Denmark')]),\n",
       "               OrderedDict([('@{http://www.w3.org/XML/1998/namespace}lang',\n",
       "                             'es'),\n",
       "                            ('$', 'Dinamarca')]),\n",
       "               OrderedDict([('@{http://www.w3.org/XML/1998/namespace}lang',\n",
       "                             'fr'),\n",
       "                            ('$', 'Danemark')])])])"
      ]
     },
     "execution_count": 61,
     "metadata": {},
     "output_type": "execute_result"
    }
   ],
   "source": [
    "item = thing6[0]\n",
    "item"
   ]
  },
  {
   "cell_type": "code",
   "execution_count": 75,
   "metadata": {},
   "outputs": [],
   "source": [
    "blah = {\n",
    "    item['@id'] : item['{http://www.sdmx.org/resources/sdmxml/schemas/v2_1/common}Name'][0]['$']\n",
    "    for item in thing6}"
   ]
  },
  {
   "cell_type": "code",
   "execution_count": 78,
   "metadata": {},
   "outputs": [
    {
     "data": {
      "text/plain": [
       "{'DNK': 'Denmark',\n",
       " 'EGY': 'Egypt',\n",
       " 'ERI': 'Eritrea',\n",
       " 'EST': 'Estonia',\n",
       " 'ETH': 'Ethiopia',\n",
       " 'FIN': 'Finland',\n",
       " 'FJI': 'Fiji',\n",
       " 'FLK': 'Falkland Islands (Malvinas)',\n",
       " 'FRO': 'Faeroe Islands',\n",
       " 'GBR': 'United Kingdom',\n",
       " 'GEO': 'Georgia',\n",
       " 'GGY': 'Guernsey',\n",
       " 'GHA': 'Ghana',\n",
       " 'GIB': 'Gibraltar',\n",
       " 'GMB': 'Gambia',\n",
       " 'GRC': 'Greece',\n",
       " 'GRD': 'Grenada',\n",
       " 'GRL': 'Greenland',\n",
       " 'GUM': 'Guam',\n",
       " 'GUY': 'Guyana',\n",
       " 'HKG': 'Hong Kong, China',\n",
       " 'HRV': 'Croatia',\n",
       " 'HUN': 'Hungary',\n",
       " 'IDN': 'Indonesia',\n",
       " 'IMN': 'Isle of Man',\n",
       " 'IND': 'India',\n",
       " 'IRL': 'Ireland',\n",
       " 'IRN': 'Iran, Islamic Republic of',\n",
       " 'IRQ': 'Iraq',\n",
       " 'ISL': 'Iceland',\n",
       " 'ISR': 'Israel',\n",
       " 'ITA': 'Italy',\n",
       " 'JAM': 'Jamaica',\n",
       " 'JEY': 'Jersey',\n",
       " 'JOR': 'Jordan',\n",
       " 'JPN': 'Japan',\n",
       " 'KAZ': 'Kazakhstan',\n",
       " 'KEN': 'Kenya',\n",
       " 'KGZ': 'Kyrgyzstan',\n",
       " 'KHM': 'Cambodia',\n",
       " 'KIR': 'Kiribati',\n",
       " 'KNA': 'Saint Kitts and Nevis',\n",
       " 'KOR': 'Korea, Republic of',\n",
       " 'KOS': 'Kosovo',\n",
       " 'KWT': 'Kuwait',\n",
       " 'LAO': \"Lao People's Democratic Republic\",\n",
       " 'LBR': 'Liberia',\n",
       " 'LBY': 'Libya',\n",
       " 'LCA': 'Saint Lucia',\n",
       " 'LIE': 'Liechtenstein',\n",
       " 'LKA': 'Sri Lanka',\n",
       " 'LSO': 'Lesotho',\n",
       " 'LTU': 'Lithuania',\n",
       " 'LVA': 'Latvia',\n",
       " 'MAC': 'Macau, China',\n",
       " 'MDA': 'Moldova, Republic of',\n",
       " 'MDV': 'Maldives',\n",
       " 'MHL': 'Marshall Islands',\n",
       " 'ABW': 'Aruba',\n",
       " 'AFG': 'Afghanistan',\n",
       " 'AIA': 'Anguilla',\n",
       " 'ALB': 'Albania',\n",
       " 'ANT': 'Netherlands Antilles',\n",
       " 'ARE': 'United Arab Emirates',\n",
       " 'ARM': 'Armenia',\n",
       " 'ASM': 'American Samoa',\n",
       " 'ATG': 'Antigua and Barbuda',\n",
       " 'AUS': 'Australia',\n",
       " 'AUT': 'Austria',\n",
       " 'AZE': 'Azerbaijan',\n",
       " 'BGD': 'Bangladesh',\n",
       " 'BGR': 'Bulgaria',\n",
       " 'BHR': 'Bahrain',\n",
       " 'BHS': 'Bahamas',\n",
       " 'BIH': 'Bosnia and Herzegovina',\n",
       " 'BLR': 'Belarus',\n",
       " 'BLZ': 'Belize',\n",
       " 'BMU': 'Bermuda',\n",
       " 'BRB': 'Barbados',\n",
       " 'BRN': 'Brunei Darussalam',\n",
       " 'BTN': 'Bhutan',\n",
       " 'BWA': 'Botswana',\n",
       " 'CAN': 'Canada',\n",
       " 'CHA': 'Channel Islands',\n",
       " 'CHN': 'China',\n",
       " 'COK': 'Cook Islands',\n",
       " 'CYM': 'Cayman Islands',\n",
       " 'CYP': 'Cyprus',\n",
       " 'CZE': 'Czech Republic',\n",
       " 'X88': 'G7',\n",
       " 'X89': 'MENA',\n",
       " 'DEU': 'Germany',\n",
       " 'DMA': 'Dominica',\n",
       " 'MKD': 'North Macedonia',\n",
       " 'MLT': 'Malta',\n",
       " 'MMR': 'Myanmar',\n",
       " 'MNE': 'Montenegro',\n",
       " 'MNG': 'Mongolia',\n",
       " 'MNP': 'Northern Mariana Islands',\n",
       " 'MSR': 'Montserrat',\n",
       " 'MUS': 'Mauritius',\n",
       " 'MWI': 'Malawi',\n",
       " 'FSM': 'Micronesia, Federated States of',\n",
       " 'MYS': 'Malaysia',\n",
       " 'NAM': 'Namibia',\n",
       " 'NFK': 'Norfolk Island',\n",
       " 'NGA': 'Nigeria',\n",
       " 'NIU': 'Niue',\n",
       " 'NLD': 'Netherlands',\n",
       " 'NOR': 'Norway',\n",
       " 'NPL': 'Nepal',\n",
       " 'NRU': 'Nauru',\n",
       " 'NZL': 'New Zealand',\n",
       " 'OMN': 'Oman',\n",
       " 'PAK': 'Pakistan',\n",
       " 'PHL': 'Philippines',\n",
       " 'PLW': 'Palau',\n",
       " 'PNG': 'Papua New Guinea',\n",
       " 'POL': 'Poland',\n",
       " 'PRI': 'Puerto Rico',\n",
       " 'PRK': \"Korea, Democratic People's Republic of\",\n",
       " 'PSE': 'Occupied Palestinian Territory',\n",
       " 'QAT': 'Qatar',\n",
       " 'RUS': 'Russian Federation',\n",
       " 'SAU': 'Saudi Arabia',\n",
       " 'SDN': 'Sudan',\n",
       " 'SGP': 'Singapore',\n",
       " 'SHN': 'Saint Helena',\n",
       " 'SLB': 'Solomon Islands',\n",
       " 'SLE': 'Sierra Leone',\n",
       " 'SMR': 'San Marino',\n",
       " 'SOM': 'Somalia',\n",
       " 'SRB': 'Serbia',\n",
       " 'SUR': 'Suriname',\n",
       " 'SVK': 'Slovakia',\n",
       " 'SVN': 'Slovenia',\n",
       " 'SWE': 'Sweden',\n",
       " 'SWZ': 'Eswatini',\n",
       " 'SYC': 'Seychelles',\n",
       " 'SYR': 'Syrian Arab Republic',\n",
       " 'TCA': 'Turks and Caicos Islands',\n",
       " 'THA': 'Thailand',\n",
       " 'TJK': 'Tajikistan',\n",
       " 'TKL': 'Tokelau',\n",
       " 'TKM': 'Turkmenistan',\n",
       " 'TLS': 'Timor-Leste',\n",
       " 'TON': 'Tonga',\n",
       " 'TTO': 'Trinidad and Tobago',\n",
       " 'TUR': 'Turkey',\n",
       " 'TUV': 'Tuvalu',\n",
       " 'TWN': 'Taiwan, China',\n",
       " 'TZA': 'Tanzania, United Republic of',\n",
       " 'UGA': 'Uganda',\n",
       " 'UKR': 'Ukraine',\n",
       " 'USA': 'United States',\n",
       " 'UZB': 'Uzbekistan',\n",
       " 'VCT': 'Saint Vincent and the Grenadines',\n",
       " 'VGB': 'British Virgin Islands',\n",
       " 'VIR': 'United States Virgin Islands',\n",
       " 'VNM': 'Viet Nam',\n",
       " 'VUT': 'Vanuatu',\n",
       " 'WSM': 'Samoa',\n",
       " 'YEM': 'Yemen',\n",
       " 'ZAF': 'South Africa',\n",
       " 'ZMB': 'Zambia',\n",
       " 'ZWE': 'Zimbabwe',\n",
       " 'AGO': 'Angola',\n",
       " 'AND': 'Andorra',\n",
       " 'BDI': 'Burundi',\n",
       " 'BEL': 'Belgium',\n",
       " 'BEN': 'Benin',\n",
       " 'BFA': 'Burkina Faso',\n",
       " 'CAF': 'Central African Republic',\n",
       " 'CHE': 'Switzerland',\n",
       " 'CIV': \"Côte d'Ivoire\",\n",
       " 'CMR': 'Cameroon',\n",
       " 'COD': 'Congo, Democratic Republic of the',\n",
       " 'COG': 'Congo',\n",
       " 'COM': 'Comoros',\n",
       " 'CPV': 'Cape Verde',\n",
       " 'DJI': 'Djibouti',\n",
       " 'DZA': 'Algeria',\n",
       " 'FRA': 'France',\n",
       " 'GAB': 'Gabon',\n",
       " 'GIN': 'Guinea',\n",
       " 'GLP': 'Guadeloupe',\n",
       " 'GNB': 'Guinea-Bissau',\n",
       " 'GUF': 'French Guiana',\n",
       " 'HTI': 'Haiti',\n",
       " 'LBN': 'Lebanon',\n",
       " 'LUX': 'Luxembourg',\n",
       " 'MAR': 'Morocco',\n",
       " 'MCO': 'Monaco',\n",
       " 'MDG': 'Madagascar',\n",
       " 'MLI': 'Mali',\n",
       " 'MOZ': 'Mozambique',\n",
       " 'MRT': 'Mauritania',\n",
       " 'MTQ': 'Martinique',\n",
       " 'NCL': 'New Caledonia',\n",
       " 'NER': 'Niger',\n",
       " 'PRT': 'Portugal',\n",
       " 'PYF': 'French Polynesia',\n",
       " 'REU': 'Réunion',\n",
       " 'ROU': 'Romania',\n",
       " 'RWA': 'Rwanda',\n",
       " 'SEN': 'Senegal',\n",
       " 'SPM': 'Saint Pierre and Miquelon',\n",
       " 'TCD': 'Chad',\n",
       " 'TGO': 'Togo',\n",
       " 'TUN': 'Tunisia',\n",
       " 'WLF': 'Wallis and Futuna Islands',\n",
       " 'ARG': 'Argentina',\n",
       " 'BOL': 'Bolivia',\n",
       " 'BRA': 'Brazil',\n",
       " 'CHL': 'Chile',\n",
       " 'COL': 'Colombia',\n",
       " 'CRI': 'Costa Rica',\n",
       " 'CUB': 'Cuba',\n",
       " 'DOM': 'Dominican Republic',\n",
       " 'ECU': 'Ecuador',\n",
       " 'ESH': 'Western Sahara',\n",
       " 'ESP': 'Spain',\n",
       " 'GNQ': 'Equatorial Guinea',\n",
       " 'GTM': 'Guatemala',\n",
       " 'HND': 'Honduras',\n",
       " 'MEX': 'Mexico',\n",
       " 'NIC': 'Nicaragua',\n",
       " 'PAN': 'Panama',\n",
       " 'PER': 'Peru',\n",
       " 'PRY': 'Paraguay',\n",
       " 'SLV': 'El Salvador',\n",
       " 'STP': 'Sao Tome and Principe',\n",
       " 'URY': 'Uruguay',\n",
       " 'VEN': 'Venezuela, Bolivarian Republic of',\n",
       " 'SSD': 'South Sudan',\n",
       " 'X06': 'Africa',\n",
       " 'X10': 'Northern Africa',\n",
       " 'X84': 'ASEAN',\n",
       " 'X13': 'Sub-Saharan Africa',\n",
       " 'X85': 'BRICS',\n",
       " 'X18': 'Eastern Africa',\n",
       " 'X19': 'Southern Africa',\n",
       " 'X82': 'European Union 28',\n",
       " 'X21': 'Americas',\n",
       " 'X26': 'Latin America and the Caribbean',\n",
       " 'X31': 'Caribbean',\n",
       " 'X32': 'Central America',\n",
       " 'X33': 'South America',\n",
       " 'X34': 'Northern America',\n",
       " 'X69': 'Western Europe',\n",
       " 'X83': 'G20',\n",
       " 'X36': 'Arab States',\n",
       " 'X86': 'Eastern Asia: Lower-middle income',\n",
       " 'X40': 'Asia and the Pacific',\n",
       " 'X45': 'Eastern Asia',\n",
       " 'X20': 'Western Africa',\n",
       " 'X49': 'South-Eastern Asia and the Pacific',\n",
       " 'X54': 'South-Eastern Asia',\n",
       " 'X55': 'Pacific Islands',\n",
       " 'X56': 'Southern Asia',\n",
       " 'X17': 'Central Africa',\n",
       " 'X60': 'Europe and Central Asia',\n",
       " 'X64': 'Northern, Southern and Western Europe',\n",
       " 'X67': 'Northern Europe',\n",
       " 'X68': 'Southern Europe',\n",
       " 'X87': 'World excluding BRICS',\n",
       " 'X70': 'Eastern Europe',\n",
       " 'X74': 'Central Asia',\n",
       " 'X78': 'Central and Western Asia',\n",
       " 'X79': 'Western Asia',\n",
       " 'X04': 'World: Upper-middle income',\n",
       " 'X02': 'World: Low income',\n",
       " 'X03': 'World: Lower-middle income',\n",
       " 'X05': 'World: High income',\n",
       " 'X01': 'World',\n",
       " 'CUW': 'Curaçao',\n",
       " 'X07': 'Africa: Low income',\n",
       " 'X08': 'Africa: Lower-middle income',\n",
       " 'X09': 'Africa: Upper-middle income',\n",
       " 'X11': 'Northern Africa: Lower-middle income',\n",
       " 'X12': 'Northern Africa: Upper-middle income',\n",
       " 'X14': 'Sub-Saharan Africa: Low income',\n",
       " 'X15': 'Sub-Saharan Africa: Lower-middle income',\n",
       " 'X16': 'Sub-Saharan Africa: Upper-middle income',\n",
       " 'X22': 'Americas: Low income',\n",
       " 'X23': 'Americas: Lower-middle income',\n",
       " 'X24': 'Americas: Upper-middle income',\n",
       " 'X25': 'Americas: High income',\n",
       " 'X27': 'Latin America and the Caribbean: Low income',\n",
       " 'X28': 'Latin America and the Caribbean: Lower-middle income',\n",
       " 'X29': 'Latin America and the Caribbean: Upper-middle income',\n",
       " 'X30': 'Latin America and the Caribbean: High income',\n",
       " 'X35': 'Northern America: High income',\n",
       " 'X37': 'Arab States: Lower-middle income',\n",
       " 'X38': 'Arab States: Upper-middle income',\n",
       " 'X39': 'Arab States: High income',\n",
       " 'X41': 'Asia and the Pacific: Low income',\n",
       " 'X42': 'Asia and the Pacific: Lower-middle income',\n",
       " 'X43': 'Asia and the Pacific: Upper-middle income',\n",
       " 'X44': 'Asia and the Pacific: High income',\n",
       " 'X46': 'Eastern Asia: Low income',\n",
       " 'X47': 'Eastern Asia: Upper-middle income',\n",
       " 'X48': 'Eastern Asia: High income',\n",
       " 'X50': 'South-Eastern Asia and the Pacific: Low income',\n",
       " 'X51': 'South-Eastern Asia and the Pacific: Lower-middle income',\n",
       " 'X52': 'South-Eastern Asia and the Pacific: Upper-middle income',\n",
       " 'X53': 'South-Eastern Asia and the Pacific: High income',\n",
       " 'X57': 'Southern Asia: Low income',\n",
       " 'X58': 'Southern Asia: Lower-middle income',\n",
       " 'X59': 'Southern Asia: Upper-middle income',\n",
       " 'X61': 'Europe and Central Asia: Lower-middle income',\n",
       " 'X62': 'Europe and Central Asia: Upper-middle income',\n",
       " 'X63': 'Europe and Central Asia: High income',\n",
       " 'X65': 'Northern, Southern and Western Europe: Upper-middle income',\n",
       " 'X66': 'Northern, Southern and Western Europe: High income',\n",
       " 'X71': 'Eastern Europe: Lower-middle income',\n",
       " 'X72': 'Eastern Europe: Upper-middle income',\n",
       " 'X73': 'Eastern Europe: High income',\n",
       " 'X75': 'Central and Western Asia: Lower-middle income',\n",
       " 'X76': 'Central and Western Asia: Upper-middle income',\n",
       " 'X77': 'Central and Western Asia: High income',\n",
       " '_Z': 'Not Applicable'}"
      ]
     },
     "execution_count": 78,
     "metadata": {},
     "output_type": "execute_result"
    }
   ],
   "source": [
    "blah"
   ]
  },
  {
   "cell_type": "code",
   "execution_count": 63,
   "metadata": {},
   "outputs": [
    {
     "data": {
      "text/plain": [
       "odict_keys(['@id', '@urn', '{http://www.sdmx.org/resources/sdmxml/schemas/v2_1/common}Annotations', '{http://www.sdmx.org/resources/sdmxml/schemas/v2_1/common}Name'])"
      ]
     },
     "execution_count": 63,
     "metadata": {},
     "output_type": "execute_result"
    }
   ],
   "source": [
    "itme"
   ]
  },
  {
   "cell_type": "code",
   "execution_count": 70,
   "metadata": {},
   "outputs": [],
   "source": [
    "item2 = item['{http://www.sdmx.org/resources/sdmxml/schemas/v2_1/common}Name'][0]['$']"
   ]
  },
  {
   "cell_type": "code",
   "execution_count": 71,
   "metadata": {},
   "outputs": [
    {
     "data": {
      "text/plain": [
       "'Denmark'"
      ]
     },
     "execution_count": 71,
     "metadata": {},
     "output_type": "execute_result"
    }
   ],
   "source": [
    "item2"
   ]
  },
  {
   "cell_type": "code",
   "execution_count": null,
   "metadata": {},
   "outputs": [],
   "source": [
    "'{http://www.sdmx.org/resources/sdmxml/schemas/v2_1/structure}'])"
   ]
  }
 ],
 "metadata": {
  "kernelspec": {
   "display_name": "Python 3",
   "language": "python",
   "name": "python3"
  },
  "language_info": {
   "codemirror_mode": {
    "name": "ipython",
    "version": 3
   },
   "file_extension": ".py",
   "mimetype": "text/x-python",
   "name": "python",
   "nbconvert_exporter": "python",
   "pygments_lexer": "ipython3",
   "version": "3.7.3"
  }
 },
 "nbformat": 4,
 "nbformat_minor": 2
}
