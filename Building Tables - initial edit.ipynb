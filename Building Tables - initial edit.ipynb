{
 "cells": [
  {
   "cell_type": "code",
   "execution_count": 15,
   "metadata": {},
   "outputs": [],
   "source": [
    "# this notebook creates and populates tables for UN Data reports"
   ]
  },
  {
   "cell_type": "code",
   "execution_count": 2,
   "metadata": {},
   "outputs": [],
   "source": [
    "from functions import *\n",
    "from SQL_functions import *\n",
    "from stats_forumulas import *\n",
    "import config\n",
    "import mysql.connector\n",
    "from mysql.connector import errorcode\n",
    "import math\n",
    "import pandas as pd\n",
    "import numpy as np\n",
    "%load_ext autoreload\n",
    "%reload_ext autoreload\n",
    "%autoreload 2"
   ]
  },
  {
   "cell_type": "code",
   "execution_count": 6,
   "metadata": {},
   "outputs": [],
   "source": [
    "cur, cnx = connect_to_db('gender')"
   ]
  },
  {
   "cell_type": "markdown",
   "metadata": {},
   "source": [
    "## Creating Tables for UN Data"
   ]
  },
  {
   "cell_type": "code",
   "execution_count": 1,
   "metadata": {},
   "outputs": [],
   "source": [
    "TABLES = {}\n",
    "csv_names = ['child_birth_rate', 'contraceptive_prevalence', 'gender_urban_ratio', \n",
    "             'gender_rural_ratio', 'ter_ed_enrollment', 'women_teach_sec', 'women_teach_ter', \n",
    "             'abortion_laws', 'abortion_rate', 'abortion_info']"
   ]
  },
  {
   "cell_type": "code",
   "execution_count": null,
   "metadata": {},
   "outputs": [],
   "source": [
    "for name in csv_names:\n",
    "    TABLES[name] = (f\"\"\"\n",
    "    CREATE TABLE {name} (\n",
    "    country varchar(50),\n",
    "    subgroup varchar(200),\n",
    "    year int(50),\n",
    "    unit varchar(50),\n",
    "    value int(50),\n",
    "    PRIMARY KEY (country, subgroup, year)\n",
    "    ) \n",
    "    \"\"\")"
   ]
  },
  {
   "cell_type": "code",
   "execution_count": 7,
   "metadata": {},
   "outputs": [],
   "source": [
    "# added to DB\n",
    "for name in csv_names:\n",
    "    cur.execute(TABLES[name])"
   ]
  },
  {
   "cell_type": "code",
   "execution_count": 8,
   "metadata": {},
   "outputs": [
    {
     "data": {
      "text/plain": [
       "True"
      ]
     },
     "execution_count": 8,
     "metadata": {},
     "output_type": "execute_result"
    }
   ],
   "source": [
    "# close cursor\n",
    "cnx.close()\n",
    "cur.close() # returned True"
   ]
  },
  {
   "cell_type": "markdown",
   "metadata": {},
   "source": [
    "## Populating our Tables"
   ]
  },
  {
   "cell_type": "code",
   "execution_count": 14,
   "metadata": {
    "collapsed": true
   },
   "outputs": [
    {
     "name": "stderr",
     "output_type": "stream",
     "text": [
      "/Users/rebeccarosen/Desktop/flatiron 2019/mod3/project2/gender-and-tech/SQL_functions.py:43: SettingWithCopyWarning: \n",
      "A value is trying to be set on a copy of a slice from a DataFrame.\n",
      "Try using .loc[row_indexer,col_indexer] = value instead\n",
      "\n",
      "See the caveats in the documentation: http://pandas.pydata.org/pandas-docs/stable/indexing.html#indexing-view-versus-copy\n",
      "  df2['Year'] = pd.to_numeric(df2['Year'], errors = 'coerce')\n",
      "/Users/rebeccarosen/Desktop/flatiron 2019/mod3/project2/gender-and-tech/SQL_functions.py:44: SettingWithCopyWarning: \n",
      "A value is trying to be set on a copy of a slice from a DataFrame.\n",
      "Try using .loc[row_indexer,col_indexer] = value instead\n",
      "\n",
      "See the caveats in the documentation: http://pandas.pydata.org/pandas-docs/stable/indexing.html#indexing-view-versus-copy\n",
      "  df2['Value'] = pd.to_numeric(df2['Value'], errors = 'coerce')\n"
     ]
    }
   ],
   "source": [
    "# # see SQL_functions.py for function and helper function definitions\n",
    "for name in csv_names:\n",
    "    if name != 'abortion_info':\n",
    "        insert_data(name, name)\n",
    "    else:\n",
    "        insert_data_special(name, name)"
   ]
  },
  {
   "cell_type": "code",
   "execution_count": 21,
   "metadata": {},
   "outputs": [],
   "source": [
    "cur, cnx = connect_to_db('gender')\n",
    "df = pd.read_csv('Data To Use/Honeypot_Women_in_Tech.csv')\n",
    "cur.executemany(insert_more_query('women_in_tech'), get_more_tuples(df))\n",
    "cnx.commit()\n",
    "cnx.close()"
   ]
  }
 ],
 "metadata": {
  "kernelspec": {
   "display_name": "Python 3",
   "language": "python",
   "name": "python3"
  },
  "language_info": {
   "codemirror_mode": {
    "name": "ipython",
    "version": 3
   },
   "file_extension": ".py",
   "mimetype": "text/x-python",
   "name": "python",
   "nbconvert_exporter": "python",
   "pygments_lexer": "ipython3",
   "version": "3.7.3"
  }
 },
 "nbformat": 4,
 "nbformat_minor": 2
}
